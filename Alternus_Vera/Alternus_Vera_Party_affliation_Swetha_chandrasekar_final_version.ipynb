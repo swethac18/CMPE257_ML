{
 "cells": [
  {
   "cell_type": "markdown",
   "metadata": {
    "nbpresent": {
     "id": "130bb1e5-0be7-4ae8-9853-ceab8e69c4f4"
    },
    "slideshow": {
     "slide_type": "slide"
    }
   },
   "source": [
    "### Swetha Chandrasekar\n",
    "012497628 <br>\n",
    "swetha.chandrasekar@sjsu.edu\n",
    "### Project Alternus vera\n",
    "### factor: party affliation\n",
    "<h3> In this note book, for the project of Alternus vera, <br><br><br>\n",
    "-> <font color=orange> In section 1, we will define and model the factor of <font color=red><u><i>party affliation</i></u></font>.\n",
    "This vector will be used in the polynomial for fake news prediction.</font> <br><br>\n",
    "<font color=green>\n",
    "-> In Section 2, we will try to build a generative model to predict a *statement* that a politician might make in response to a topic/text and list down the challenges in it.<br></font> <br><br>\n",
    "<font color=blue>\n",
    "-> In Section 3, we will use the vector modeled after party affiliation and compute coefficients (weights) to predict fake news.<br>\n",
    "</font>\n",
    " </h3>\n",
    " \n",
    "### Formal Business Problem Statement: \n",
    "\n",
    "Party affliation of the news maker is an important factor in deciding the credibility of the news or statement.\n",
    "It is important to model the factor of Party affliation while fact checking the news.<br><br>\n",
    "<i><u>\n",
    "Given the text of the statement, location, title of the speaker and the venue of the statement, can we model the factor of party affliation as a vector? </u></i>\n",
    "\n",
    "### What is party affliation? \n",
    "Party refers to an organization, a formal or informal group of like minded members with similar policies and principles and stances on major political issues.\n",
    "Inferring the Party affliation of a person can help infer the person's stand on major political issues and principles.\n",
    "Example: \n",
    "1. republicans:  leaning right of the political spectrum with support to pro-life, free-market, lesser spending by government. \n",
    "2. democrats  leaning left of the political spectrum with explicit suppport to LGBT, relatively more spending by the government by increasing taxes.\n",
    "<b>Party affliation is not merely confined to the major two. Per LIAR-LIAR dataset, There are 23 more party affliations in addition to the standard republican and democrats.</b>\n",
    "1. tea-party-member(sub wing within the republican party with fiscal conservative policies)\n",
    "2. talk-show-host\n",
    "3. state-official \n",
    "4. republican\n",
    "5. organization\n",
    "6. ocean-state-tea-party-action\n",
    "7. none\n",
    "8. newsmaker\n",
    "9. Moderate\n",
    "10. libertarian\n",
    "11. liberal-party-canada\n",
    "12. labor-leader\n",
    "13. journalist\n",
    "14. independent\n",
    "15. green\n",
    "16. government-body\n",
    "17. education-official\n",
    "18. democratic-farmer-labor\n",
    "19. democrat\n",
    "20. constitution-party\n",
    "21. columnist\n",
    "22. business-leader\n",
    "23. activist\n",
    "<br>\n"
   ]
  },
  {
   "cell_type": "code",
   "execution_count": 6,
   "metadata": {
    "nbpresent": {
     "id": "dac9edf2-8b25-4ffb-b164-6ce88724f0c1"
    },
    "slideshow": {
     "slide_type": "slide"
    }
   },
   "outputs": [],
   "source": [
    "%reload_ext autoreload\n",
    "%autoreload 2\n",
    "%matplotlib inline"
   ]
  },
  {
   "cell_type": "markdown",
   "metadata": {},
   "source": [
    "## Section 1 : (Modeling the party affliation)"
   ]
  },
  {
   "cell_type": "markdown",
   "metadata": {
    "nbpresent": {
     "id": "fe96cc62-e400-4c11-a17d-c4da1f175b13"
    }
   },
   "source": [
    "### Datasets used\n",
    "<font color =\"green\">\n",
    "\n",
    "    1. Kaggle getting real about fake news https://www.kaggle.com/mrisdal/fake-news\n",
    "    2. LIAR LIAR dataset\n",
    "    3. NY times headlines and articles dataset (for the purpose of <b>Data enrichment</b>)\n",
    "</font>\n",
    "\n",
    "### Required python libraries & external data sources\n",
    "<font color =\"blue\">\n",
    "    \n",
    "    1. gensim (training custom doc embeddings)\n",
    "    2. glove embeddings \n",
    "    3. NLTK\n",
    "    4. fast ai \n",
    "\n",
    "</font>\n",
    "\n",
    "### General approach (flow of steps)\n",
    "\n",
    "\n",
    "       1. Initial data exploration and Clean the dataset with standard NLP practices (tokenization, stemming, lemmatization, stop word removal)\n",
    "       2. Perform LDA for the purpose of distillation on NYTimes articles dataset, fake news datasets\n",
    "       3. Manually look into  the topics from LDA to create bag of words features and also use word2vec, doc2vec featuers to model the factor of party affliation \n",
    "       4. Feature Engineering using the topics from LDA, doc2vec embeddings, categorical features of venue, title and state(location) (please note that we are directly using the doc2vec embeddings as features.\n",
    "       5. Try various algorithms to predict a vector to assign a range of confidence scores for each party affliation    \n",
    "<font color =\"blue\">\n",
    "<b>\n",
    "After several iterations, I decided to use a Neural network with Softmax function as it outputs a score for each class of party affliation. (giving out a vector) <br>\n",
    "I have 4 party affliations. <br>\n",
    "republican, democrat, no affliation and other<br>\n",
    "    </b>\n",
    "</font>\n",
    "\n"
   ]
  },
  {
   "cell_type": "markdown",
   "metadata": {},
   "source": [
    "### Initial data exploration on LIAR LIAR dataset for party affliation (there are 25 different affliations)"
   ]
  },
  {
   "cell_type": "code",
   "execution_count": 7,
   "metadata": {},
   "outputs": [
    {
     "name": "stdout",
     "output_type": "stream",
     "text": [
      "Number of records in LIAR LIAR dataset: 10240\n",
      "Number of records in NY Times headlines dataset: 9335\n",
      "Number of records in Kaggle Fake news dataset: 12999\n"
     ]
    }
   ],
   "source": [
    "print (\"Number of records in LIAR LIAR dataset:\",len(pd.read_csv('train.tsv', names=headers, delimiter='\\t')))\n",
    "print (\"Number of records in NY Times headlines dataset:\",len(pd.read_csv('NYT_headlines.txt', error_bad_lines=False, delimiter='\\t')));\n",
    "print (\"Number of records in Kaggle Fake news dataset:\", len(pd.read_csv('fake.csv', error_bad_lines=False, delimiter=',')))\n"
   ]
  },
  {
   "cell_type": "code",
   "execution_count": 41,
   "metadata": {},
   "outputs": [
    {
     "name": "stdout",
     "output_type": "stream",
     "text": [
      "14\n"
     ]
    },
    {
     "data": {
      "text/plain": [
       "<matplotlib.axes._subplots.AxesSubplot at 0x7f155364c7f0>"
      ]
     },
     "execution_count": 41,
     "metadata": {},
     "output_type": "execute_result"
    },
    {
     "data": {
      "image/png": "[encoded data removed]",
      "text/plain": [
       "<Figure size 432x288 with 1 Axes>"
      ]
     },
     "metadata": {
      "needs_background": "light"
     },
     "output_type": "display_data"
    }
   ],
   "source": [
    "train_path = Path('.')\n",
    "import pandas as pd\n",
    "headers = ['id','label','statement','subject',\n",
    "           'speaker','job_title', 'state', \n",
    "           'affliation','barely_true','false',\n",
    "           'half_true', 'mostly_true','pants_on_fire', \n",
    "           'venue']\n",
    "print (len(headers))\n",
    "train_df = pd.read_csv('train.tsv', names=headers, delimiter='\\t')\n",
    "train_df.affliation.value_counts().plot(kind='bar')#(10)\n"
   ]
  },
  {
   "cell_type": "markdown",
   "metadata": {},
   "source": [
    "#### Let us make it coarse grained to 4 (Republican, democrat, no affliation and other)"
   ]
  },
  {
   "cell_type": "code",
   "execution_count": 10,
   "metadata": {},
   "outputs": [
    {
     "ename": "NameError",
     "evalue": "name 'train_df' is not defined",
     "output_type": "error",
     "traceback": [
      "\u001b[0;31m---------------------------------------------------------------------------\u001b[0m",
      "\u001b[0;31mNameError\u001b[0m                                 Traceback (most recent call last)",
      "\u001b[0;32m<ipython-input-10-c2e6c9570189>\u001b[0m in \u001b[0;36m<module>\u001b[0;34m\u001b[0m\n\u001b[1;32m      4\u001b[0m \u001b[0maffliation\u001b[0m\u001b[0;34m[\u001b[0m\u001b[0;34m'none'\u001b[0m\u001b[0;34m]\u001b[0m \u001b[0;34m=\u001b[0m\u001b[0;34m'no_affliation'\u001b[0m\u001b[0;34m\u001b[0m\u001b[0m\n\u001b[1;32m      5\u001b[0m \u001b[0mgetPartyAffliation\u001b[0m \u001b[0;34m=\u001b[0m \u001b[0;32mlambda\u001b[0m \u001b[0mx\u001b[0m \u001b[0;34m:\u001b[0m \u001b[0maffliation\u001b[0m\u001b[0;34m[\u001b[0m\u001b[0mstr\u001b[0m\u001b[0;34m(\u001b[0m\u001b[0mx\u001b[0m\u001b[0;34m)\u001b[0m\u001b[0;34m.\u001b[0m\u001b[0mlower\u001b[0m\u001b[0;34m(\u001b[0m\u001b[0;34m)\u001b[0m\u001b[0;34m]\u001b[0m \u001b[0;32mif\u001b[0m \u001b[0mx\u001b[0m \u001b[0;32min\u001b[0m \u001b[0maffliation\u001b[0m \u001b[0;32melse\u001b[0m \u001b[0;34m'other'\u001b[0m\u001b[0;34m\u001b[0m\u001b[0m\n\u001b[0;32m----> 6\u001b[0;31m \u001b[0mtrain_df\u001b[0m\u001b[0;34m[\u001b[0m\u001b[0;34m'coarse_party_affliation'\u001b[0m\u001b[0;34m]\u001b[0m \u001b[0;34m=\u001b[0m \u001b[0mtrain_df\u001b[0m\u001b[0;34m[\u001b[0m\u001b[0;34m'affliation'\u001b[0m\u001b[0;34m]\u001b[0m\u001b[0;34m.\u001b[0m\u001b[0mapply\u001b[0m\u001b[0;34m(\u001b[0m\u001b[0;32mlambda\u001b[0m \u001b[0mx\u001b[0m\u001b[0;34m:\u001b[0m \u001b[0mgetPartyAffliation\u001b[0m\u001b[0;34m(\u001b[0m\u001b[0mx\u001b[0m\u001b[0;34m)\u001b[0m\u001b[0;34m)\u001b[0m\u001b[0;34m\u001b[0m\u001b[0m\n\u001b[0m\u001b[1;32m      7\u001b[0m \u001b[0mtrain_df\u001b[0m\u001b[0;34m.\u001b[0m\u001b[0mcoarse_party_affliation\u001b[0m\u001b[0;34m.\u001b[0m\u001b[0mvalue_counts\u001b[0m\u001b[0;34m(\u001b[0m\u001b[0;34m)\u001b[0m\u001b[0;34m.\u001b[0m\u001b[0mplot\u001b[0m\u001b[0;34m(\u001b[0m\u001b[0mkind\u001b[0m\u001b[0;34m=\u001b[0m\u001b[0;34m'bar'\u001b[0m\u001b[0;34m)\u001b[0m\u001b[0;31m#(10)\u001b[0m\u001b[0;34m\u001b[0m\u001b[0m\n",
      "\u001b[0;31mNameError\u001b[0m: name 'train_df' is not defined"
     ]
    }
   ],
   "source": [
    "affliation = {}\n",
    "affliation['republican'] = 'republican'\n",
    "affliation['democrat'] = 'democrat'\n",
    "affliation['none'] ='no_affliation'\n",
    "getPartyAffliation = lambda x : affliation[str(x).lower()] if x in affliation else 'other'\n",
    "train_df['coarse_party_affliation'] = train_df['affliation'].apply(lambda x: getPartyAffliation(x))\n",
    "train_df.coarse_party_affliation.value_counts().plot(kind='bar')#(10)\n"
   ]
  },
  {
   "cell_type": "markdown",
   "metadata": {
    "nbpresent": {
     "id": "e09c866b-dd6f-493e-bebb-48c271e9ca8d"
    }
   },
   "source": [
    "# 1.  Clean and run LDA on NYTimes articles dataset from Kaggle (initial distillation) \n",
    "https://towardsdatascience.com/topic-modeling-and-latent-dirichlet-allocation-in-python-9bf156893c24\n",
    "1. Clean the dataset\n",
    "    1. Tokenization\n",
    "    2. Stopwords removal\n",
    "    3. Lemmatization\n",
    "    4. Stemming\n",
    "    5. Filter the extremes (too low frequency words and too high frequency words)\n",
    "2. Perform LDA to find N=10 topics "
   ]
  },
  {
   "cell_type": "markdown",
   "metadata": {},
   "source": [
    "<b> Read the NYT headlines dataset which contains articles from 2017 and 2018 </b>"
   ]
  },
  {
   "cell_type": "code",
   "execution_count": 11,
   "metadata": {
    "nbpresent": {
     "id": "ac90dafc-19f7-4a24-a059-ba31a10ede02"
    }
   },
   "outputs": [],
   "source": [
    "import pandas as pd\n",
    "from fastai import *\n",
    "from fastai.text import *\n",
    "data = pd.read_csv('NYT_headlines.txt', error_bad_lines=False, delimiter='\\t');\n",
    "data_text = data[['headline_text']]\n",
    "data_text['index'] = data_text.index\n",
    "documents = data_text\n",
    "nyt_headlines_dataset = documents.headline_text.tolist()"
   ]
  },
  {
   "cell_type": "markdown",
   "metadata": {
    "nbpresent": {
     "id": "69d06016-e83d-4755-ac6b-c52d7663e6e4"
    }
   },
   "source": [
    "### Loading gensim and nltk libraries \n",
    "### https://towardsdatascience.com/topic-modeling-and-latent-dirichlet-allocation-in-python-9bf156893c24\n"
   ]
  },
  {
   "cell_type": "code",
   "execution_count": 12,
   "metadata": {
    "nbpresent": {
     "id": "91092786-327c-4e05-8fc2-eea5b9b5efa9"
    }
   },
   "outputs": [
    {
     "name": "stdout",
     "output_type": "stream",
     "text": [
      "[nltk_data] Downloading package wordnet to /home/jupyter/nltk_data...\n",
      "[nltk_data]   Package wordnet is already up-to-date!\n"
     ]
    },
    {
     "data": {
      "text/plain": [
       "True"
      ]
     },
     "execution_count": 12,
     "metadata": {},
     "output_type": "execute_result"
    }
   ],
   "source": [
    "import gensim\n",
    "from gensim.utils import simple_preprocess\n",
    "from gensim.parsing.preprocessing import STOPWORDS\n",
    "from nltk.stem import WordNetLemmatizer, SnowballStemmer\n",
    "from nltk.stem.porter import *\n",
    "from fastai import *\n",
    "from fastai import *\n",
    "from fastai.text import *\n",
    "from fastai.tabular import *\n",
    "from fastai.vision import *\n",
    "import numpy as np\n",
    "np.random.seed(2018)\n",
    "import nltk\n",
    "nltk.download('wordnet')\n"
   ]
  },
  {
   "cell_type": "code",
   "execution_count": 13,
   "metadata": {
    "nbpresent": {
     "id": "6da06c55-6d2e-4037-95c5-f9334071e42d"
    }
   },
   "outputs": [],
   "source": [
    "### performing stemming\n",
    "from nltk import PorterStemmer \n",
    "stemmer = PorterStemmer()\n",
    "def lemmatize_stemming(text):\n",
    "    return text\n",
    "    return stemmer.stem(WordNetLemmatizer().lemmatize(text, pos='v'))\n",
    "def preprocess(text):\n",
    "    result = []\n",
    "    for token in gensim.utils.simple_preprocess(text):\n",
    "        if token not in gensim.parsing.preprocessing.STOPWORDS and len(token) > 3:\n",
    "            if 'object' in token.strip() or 'dtype' in token.strip() or 'unknown' in token.strip():\n",
    "                continue\n",
    "            result.append(lemmatize_stemming(token))\n",
    "    return result\n"
   ]
  },
  {
   "cell_type": "code",
   "execution_count": 14,
   "metadata": {
    "nbpresent": {
     "id": "8d030950-9d78-4a61-a47f-eceb20d1abd4"
    }
   },
   "outputs": [
    {
     "name": "stdout",
     "output_type": "stream",
     "text": [
      "0 expansive\n",
      "1 finding\n",
      "2 forgotten\n",
      "3 niger\n",
      "4 people\n",
      "5 view\n",
      "6 curse\n",
      "7 dreaded\n",
      "8 trump\n",
      "9 descent\n",
      "10 dictatorship\n"
     ]
    },
    {
     "data": {
      "text/plain": [
       "[]"
      ]
     },
     "execution_count": 14,
     "metadata": {},
     "output_type": "execute_result"
    }
   ],
   "source": [
    "processed_docs = documents['headline_text'].map(preprocess)\n",
    "processed_docs[:10]\n",
    "dictionary = gensim.corpora.Dictionary(processed_docs)\n",
    "count = 0\n",
    "for k, v in dictionary.iteritems():\n",
    "    print(k, v)\n",
    "    count += 1\n",
    "    if count > 10:\n",
    "        break\n",
    "dictionary.filter_extremes(no_below=15, no_above=0.5, keep_n=100000)\n",
    "bow_corpus = [dictionary.doc2bow(doc) for doc in processed_docs]\n",
    "bow_corpus[4310]"
   ]
  },
  {
   "cell_type": "markdown",
   "metadata": {},
   "source": [
    "#### Let us look into the word cloud of processed text in each doc before running LDA "
   ]
  },
  {
   "cell_type": "code",
   "execution_count": 15,
   "metadata": {},
   "outputs": [
    {
     "data": {
      "image/png": "[encoded data removed]",
      "text/plain": [
       "<Figure size 432x288 with 1 Axes>"
      ]
     },
     "metadata": {
      "needs_background": "light"
     },
     "output_type": "display_data"
    }
   ],
   "source": [
    "import pandas as pd\n",
    "from os import path\n",
    "from PIL import Image\n",
    "from wordcloud import WordCloud, STOPWORDS, ImageColorGenerator\n",
    "text = \"\"\n",
    "\n",
    "for doc in processed_docs:\n",
    "    text= text + \" \" + ' '.join(doc)\n",
    "    \n",
    "wordcloud = WordCloud(max_font_size=50, max_words=1000, background_color=\"black\").generate(text)\n",
    "plt.imshow(wordcloud, interpolation='bilinear')\n",
    "plt.axis(\"off\")\n",
    "plt.show()\n"
   ]
  },
  {
   "cell_type": "markdown",
   "metadata": {},
   "source": [
    "<b> Run LDA on NY times dataset </b>"
   ]
  },
  {
   "cell_type": "code",
   "execution_count": 16,
   "metadata": {
    "nbpresent": {
     "id": "f9a6647f-981b-4522-a1b6-13eae7b7bed5"
    }
   },
   "outputs": [
    {
     "name": "stdout",
     "output_type": "stream",
     "text": [
      "Topic: 0 \n",
      "Words: 0.058*\"trump\" + 0.025*\"china\" + 0.021*\"city\" + 0.020*\"state\" + 0.020*\"trade\" + 0.018*\"race\" + 0.018*\"facebook\" + 0.017*\"democrats\" + 0.017*\"data\" + 0.015*\"woman\"\n",
      "Topic: 1 \n",
      "Words: 0.104*\"trump\" + 0.044*\"season\" + 0.036*\"episode\" + 0.029*\"home\" + 0.017*\"love\" + 0.017*\"little\" + 0.017*\"tariffs\" + 0.015*\"rules\" + 0.015*\"food\" + 0.013*\"trade\"\n",
      "Topic: 2 \n",
      "Words: 0.036*\"going\" + 0.034*\"life\" + 0.030*\"season\" + 0.027*\"episode\" + 0.024*\"trump\" + 0.024*\"america\" + 0.024*\"year\" + 0.019*\"picture\" + 0.017*\"women\" + 0.016*\"help\"\n",
      "Topic: 3 \n",
      "Words: 0.096*\"trump\" + 0.028*\"president\" + 0.018*\"good\" + 0.018*\"party\" + 0.018*\"politics\" + 0.017*\"play\" + 0.017*\"questions\" + 0.016*\"love\" + 0.016*\"living\" + 0.015*\"family\"\n",
      "Topic: 4 \n",
      "Words: 0.129*\"trump\" + 0.035*\"house\" + 0.026*\"north\" + 0.023*\"korea\" + 0.020*\"chief\" + 0.020*\"power\" + 0.018*\"student\" + 0.017*\"variety\" + 0.017*\"white\" + 0.015*\"news\"\n",
      "Topic: 5 \n",
      "Words: 0.035*\"right\" + 0.028*\"york\" + 0.026*\"trump\" + 0.024*\"plan\" + 0.021*\"russia\" + 0.019*\"episode\" + 0.018*\"president\" + 0.018*\"cuomo\" + 0.017*\"leader\" + 0.016*\"health\"\n",
      "Topic: 6 \n",
      "Words: 0.053*\"trump\" + 0.030*\"trade\" + 0.018*\"good\" + 0.015*\"march\" + 0.015*\"tariffs\" + 0.015*\"white\" + 0.015*\"crisis\" + 0.013*\"korea\" + 0.013*\"donald\" + 0.013*\"putin\"\n",
      "Topic: 7 \n",
      "Words: 0.028*\"black\" + 0.023*\"york\" + 0.022*\"taking\" + 0.021*\"trump\" + 0.020*\"like\" + 0.020*\"activities\" + 0.018*\"teaching\" + 0.018*\"care\" + 0.016*\"heart\" + 0.015*\"women\"\n",
      "Topic: 8 \n",
      "Words: 0.050*\"trump\" + 0.026*\"time\" + 0.026*\"york\" + 0.025*\"health\" + 0.023*\"times\" + 0.023*\"past\" + 0.021*\"today\" + 0.019*\"questions\" + 0.018*\"russia\" + 0.017*\"faces\"\n",
      "Topic: 9 \n",
      "Words: 0.064*\"trump\" + 0.035*\"world\" + 0.027*\"president\" + 0.021*\"political\" + 0.018*\"west\" + 0.017*\"free\" + 0.014*\"america\" + 0.013*\"making\" + 0.013*\"dead\" + 0.013*\"trade\"\n"
     ]
    }
   ],
   "source": [
    "lda_model1 = gensim.models.LdaMulticore(bow_corpus, num_topics=10, id2word=dictionary, passes=1, workers=4)\n",
    "for idx, topic in lda_model1.print_topics(-1):\n",
    "    print('Topic: {} \\nWords: {}'.format(idx, topic))"
   ]
  },
  {
   "cell_type": "markdown",
   "metadata": {
    "nbpresent": {
     "id": "90a3d560-cc7e-4181-aad0-47aecda31388"
    }
   },
   "source": [
    "# 2.   Clean and run LDA on  fake news dataset from Kaggle (initial distillation) \n",
    "1. Clean the dataset\n",
    "    1. Tokenization\n",
    "    2. Stopwords removal\n",
    "    3. Lemmatization\n",
    "    4. Stemming\n",
    "    5. Filter the extremes (too low frequency words and too high frequency words)\n",
    "2. Perform LDA to find N=10 topics "
   ]
  },
  {
   "cell_type": "code",
   "execution_count": 17,
   "metadata": {
    "nbpresent": {
     "id": "2e1c136b-e911-43c4-bea9-d15ab75867ff"
    }
   },
   "outputs": [
    {
     "name": "stderr",
     "output_type": "stream",
     "text": [
      "/opt/anaconda3/lib/python3.7/site-packages/ipykernel_launcher.py:3: SettingWithCopyWarning: \n",
      "A value is trying to be set on a copy of a slice from a DataFrame.\n",
      "Try using .loc[row_indexer,col_indexer] = value instead\n",
      "\n",
      "See the caveats in the documentation: http://pandas.pydata.org/pandas-docs/stable/indexing.html#indexing-view-versus-copy\n",
      "  This is separate from the ipykernel package so we can avoid doing imports until\n"
     ]
    }
   ],
   "source": [
    "data = pd.read_csv('fake.csv', error_bad_lines=False);\n",
    "data_text = data[['title','text']]\n",
    "data_text['headline_text'] =  data[['title', 'text']].apply(lambda x: ''.join(str(x)).strip().lower().replace('title', '').replace('text',''), axis=1)\n",
    "data_text = data_text[['headline_text']]\n",
    "data_text['index'] = data_text.index\n",
    "\n",
    "documents = data_text\n",
    "documents.head()\n",
    "kaggle_fake_news_dataset = data.title.tolist()"
   ]
  },
  {
   "cell_type": "markdown",
   "metadata": {
    "nbpresent": {
     "id": "db948440-6629-41fd-b959-986f9e5ec09b"
    }
   },
   "source": [
    "#### Preprocess the document before applying LDA"
   ]
  },
  {
   "cell_type": "code",
   "execution_count": 18,
   "metadata": {
    "nbpresent": {
     "id": "8fabe0fa-bd05-48a6-bcfa-67d7946177f8"
    }
   },
   "outputs": [
    {
     "name": "stdout",
     "output_type": "stream",
     "text": [
      "0 busted\n",
      "1 millions\n",
      "2 muslims\n",
      "3 print\n",
      "4 stole\n",
      "5 attorney\n",
      "6 general\n",
      "7 loretta\n",
      "8 lynch\n",
      "9 plead\n",
      "10 breaking\n"
     ]
    },
    {
     "data": {
      "text/plain": [
       "[(867, 3)]"
      ]
     },
     "execution_count": 18,
     "metadata": {},
     "output_type": "execute_result"
    }
   ],
   "source": [
    "processed_docs = documents['headline_text'].map(preprocess)\n",
    "processed_docs[:10]\n",
    "dictionary = gensim.corpora.Dictionary(processed_docs)\n",
    "count = 0\n",
    "for k, v in dictionary.iteritems():\n",
    "    print(k, v)\n",
    "    count += 1\n",
    "    if count > 10:\n",
    "        break\n",
    "dictionary.filter_extremes(no_below=15, no_above=0.5, keep_n=100000)\n",
    "bow_corpus = [dictionary.doc2bow(doc) for doc in processed_docs]\n",
    "bow_corpus[4310]"
   ]
  },
  {
   "cell_type": "markdown",
   "metadata": {},
   "source": [
    "#### Let us look into the word cloud of processed text in each doc before running LDA \n"
   ]
  },
  {
   "cell_type": "code",
   "execution_count": 19,
   "metadata": {},
   "outputs": [
    {
     "data": {
      "image/png": "[encoded data removed]",
      "text/plain": [
       "<Figure size 432x288 with 1 Axes>"
      ]
     },
     "metadata": {
      "needs_background": "light"
     },
     "output_type": "display_data"
    }
   ],
   "source": [
    "import pandas as pd\n",
    "from os import path\n",
    "from PIL import Image\n",
    "from wordcloud import WordCloud, STOPWORDS, ImageColorGenerator\n",
    "text = \"\"\n",
    "\n",
    "for doc in processed_docs:\n",
    "    text= text + \" \" + ' '.join(doc)\n",
    "    \n",
    "wordcloud = WordCloud(max_font_size=50, max_words=1000, background_color=\"black\").generate(text)\n",
    "plt.imshow(wordcloud, interpolation='bilinear')\n",
    "plt.axis(\"off\")\n",
    "plt.show()\n"
   ]
  },
  {
   "cell_type": "markdown",
   "metadata": {
    "nbpresent": {
     "id": "f3609772-1293-4f81-8d01-ca1b88b67a94"
    }
   },
   "source": [
    "##### Run LDA on fake _news dataset from kaggle"
   ]
  },
  {
   "cell_type": "code",
   "execution_count": 20,
   "metadata": {
    "nbpresent": {
     "id": "3525f875-6fac-4c9a-bb37-110795b8868e"
    }
   },
   "outputs": [
    {
     "name": "stdout",
     "output_type": "stream",
     "text": [
      "Topic: 0 \n",
      "Words: 0.017*\"world\" + 0.016*\"news\" + 0.016*\"november\" + 0.014*\"trump\" + 0.012*\"clinton\" + 0.011*\"vote\" + 0.011*\"october\" + 0.010*\"media\" + 0.009*\"obama\" + 0.008*\"breaking\"\n",
      "Topic: 1 \n",
      "Words: 0.054*\"clinton\" + 0.048*\"hillary\" + 0.037*\"trump\" + 0.019*\"wikileaks\" + 0.011*\"donald\" + 0.011*\"syria\" + 0.011*\"email\" + 0.010*\"october\" + 0.010*\"comments\" + 0.010*\"president\"\n",
      "Topic: 2 \n",
      "Words: 0.049*\"november\" + 0.039*\"trump\" + 0.026*\"october\" + 0.018*\"news\" + 0.016*\"posted\" + 0.014*\"police\" + 0.012*\"donald\" + 0.011*\"russia\" + 0.010*\"media\" + 0.009*\"real\"\n",
      "Topic: 3 \n",
      "Words: 0.054*\"trump\" + 0.029*\"hillary\" + 0.022*\"clinton\" + 0.021*\"email\" + 0.018*\"america\" + 0.015*\"comment\" + 0.012*\"home\" + 0.012*\"november\" + 0.010*\"know\" + 0.010*\"president\"\n",
      "Topic: 4 \n",
      "Words: 0.039*\"november\" + 0.024*\"trump\" + 0.020*\"comment\" + 0.016*\"share\" + 0.012*\"october\" + 0.011*\"clinton\" + 0.011*\"email\" + 0.011*\"posted\" + 0.010*\"news\" + 0.010*\"reply\"\n",
      "Topic: 5 \n",
      "Words: 0.036*\"trump\" + 0.021*\"clinton\" + 0.014*\"putin\" + 0.012*\"hillary\" + 0.011*\"share\" + 0.010*\"right\" + 0.010*\"comment\" + 0.009*\"news\" + 0.009*\"facebook\" + 0.009*\"russian\"\n",
      "Topic: 6 \n",
      "Words: 0.043*\"election\" + 0.034*\"trump\" + 0.032*\"obama\" + 0.024*\"comment\" + 0.016*\"russia\" + 0.014*\"clinton\" + 0.010*\"email\" + 0.009*\"posted\" + 0.009*\"news\" + 0.008*\"people\"\n",
      "Topic: 7 \n",
      "Words: 0.052*\"trump\" + 0.020*\"clinton\" + 0.019*\"world\" + 0.017*\"donald\" + 0.013*\"email\" + 0.013*\"news\" + 0.010*\"says\" + 0.009*\"years\" + 0.009*\"family\" + 0.009*\"voter\"\n",
      "Topic: 8 \n",
      "Words: 0.046*\"hillary\" + 0.043*\"trump\" + 0.019*\"clinton\" + 0.019*\"donald\" + 0.019*\"election\" + 0.018*\"video\" + 0.018*\"october\" + 0.011*\"nthe\" + 0.011*\"obama\" + 0.008*\"government\"\n",
      "Topic: 9 \n",
      "Words: 0.056*\"hillary\" + 0.028*\"world\" + 0.024*\"clinton\" + 0.017*\"news\" + 0.015*\"email\" + 0.011*\"putin\" + 0.011*\"russia\" + 0.011*\"trump\" + 0.010*\"home\" + 0.009*\"obama\"\n"
     ]
    }
   ],
   "source": [
    "lda_model2 = gensim.models.LdaMulticore(bow_corpus, num_topics=10, id2word=dictionary, passes=1, workers=4)\n",
    "for idx, topic in lda_model2.print_topics(-1):\n",
    "    print('Topic: {} \\nWords: {}'.format(idx, topic))"
   ]
  },
  {
   "cell_type": "markdown",
   "metadata": {},
   "source": [
    "### In the interest of keeping this notebook concise, I am listing down the ideas tried in observations list and have added the code only for ideas that worked.\n",
    "\n",
    "Observations:\n",
    "1. LDA helped in distillation and understand the topics in the corpus BUT DID not help in creating useful features.\n",
    "2. Logistic regression, random forest, decision tree were all outperformed by Neural Network with softmax\n",
    "3. Confusion matrix code in the library has a bug in the UX output but is working correctly.\n",
    "\n",
    "### how to reproduce my result?\n",
    "1. Create a corpus of text based on 3 datasets (LIAR LIAR statement, kaggle getting real on fake news headlines, NY times article statement headlines).\n",
    "2. Use Gensim to generate custom doc2vec embeddings of length 10 for each document. \n",
    "3. Use the doc2vec embeddings as a feature directly.\n",
    "4. In addition to that, use categorical features based on the venue where the person made the statement, state to which the person belongs to, titles of the person\n",
    "5. Since its multi class classification with softmax, accuracy was used for evaluating the model."
   ]
  },
  {
   "cell_type": "code",
   "execution_count": 21,
   "metadata": {
    "nbpresent": {
     "id": "2d234bc4-12c1-454a-bdd2-39b040aa0cb0"
    }
   },
   "outputs": [
    {
     "name": "stdout",
     "output_type": "stream",
     "text": [
      "14\n"
     ]
    },
    {
     "data": {
      "text/plain": [
       "0    Says the Annies List political group supports ...\n",
       "1    When did the decline of coal start? It started...\n",
       "2    Hillary Clinton agrees with John McCain \"by vo...\n",
       "3    Health care reform legislation is likely to ma...\n",
       "4    The economic turnaround started at the end of ...\n",
       "Name: statement, dtype: object"
      ]
     },
     "execution_count": 21,
     "metadata": {},
     "output_type": "execute_result"
    }
   ],
   "source": [
    "train_path = Path('.')\n",
    "import pandas as pd\n",
    "headers = ['id','label','statement','subject',\n",
    "           'speaker','job_title', 'state', \n",
    "           'affliation','barely_true','false',\n",
    "           'half_true', 'mostly_true','pants_on_fire', \n",
    "           'venue']\n",
    "print (len(headers))\n",
    "train_df = pd.read_csv('train.tsv', names=headers, delimiter='\\t')\n",
    "valid_df = pd.read_csv('valid.tsv', names=headers, delimiter='\\t')\n",
    "test_df = pd.read_csv('test.tsv',names=headers, delimiter='\\t')\n",
    "train_df['statement'].head()"
   ]
  },
  {
   "cell_type": "markdown",
   "metadata": {
    "nbpresent": {
     "id": "770b6052-566c-483d-b09d-7d1cde73f414"
    }
   },
   "source": [
    "### Let us prepare training data to generate  custom embeddings word vectors from the following datasets\n",
    "1. training set of LIAR-LIAR dataset\n",
    "2. NY times articles\n",
    "3. fake news kaggle dataset"
   ]
  },
  {
   "cell_type": "code",
   "execution_count": 22,
   "metadata": {
    "nbpresent": {
     "id": "07f340e6-35ff-4ef7-a03d-a1a70b2c0881"
    }
   },
   "outputs": [],
   "source": [
    "### Combine all the text into a single corpus\n",
    "word_vector_input_dataset = []\n",
    "word_vector_input_dataset = train_df.statement.tolist() + nyt_headlines_dataset + kaggle_fake_news_dataset"
   ]
  },
  {
   "cell_type": "markdown",
   "metadata": {
    "nbpresent": {
     "id": "208e3576-0ec0-4269-89a7-8b136b7cd59a"
    }
   },
   "source": [
    "### let us train Doc2vec embeddings\n"
   ]
  },
  {
   "cell_type": "code",
   "execution_count": 139,
   "metadata": {
    "nbpresent": {
     "id": "1dbb6149-bd38-4d13-aca1-2f0ce9f023f9"
    }
   },
   "outputs": [
    {
     "name": "stdout",
     "output_type": "stream",
     "text": [
      "Total number of custom documents: 31894\n"
     ]
    },
    {
     "name": "stderr",
     "output_type": "stream",
     "text": [
      "/opt/anaconda3/lib/python3.7/site-packages/gensim/models/doc2vec.py:570: UserWarning: The parameter `size` is deprecated, will be removed in 4.0.0, use `vector_size` instead.\n",
      "  warnings.warn(\"The parameter `size` is deprecated, will be removed in 4.0.0, use `vector_size` instead.\")\n"
     ]
    },
    {
     "name": "stdout",
     "output_type": "stream",
     "text": [
      "iteration 0\n"
     ]
    },
    {
     "name": "stderr",
     "output_type": "stream",
     "text": [
      "/opt/anaconda3/lib/python3.7/site-packages/ipykernel_launcher.py:29: DeprecationWarning: Call to deprecated `iter` (Attribute will be removed in 4.0.0, use self.epochs instead).\n"
     ]
    },
    {
     "name": "stdout",
     "output_type": "stream",
     "text": [
      "iteration 1\n",
      "iteration 2\n",
      "iteration 3\n",
      "iteration 4\n",
      "iteration 5\n",
      "iteration 6\n",
      "iteration 7\n",
      "iteration 8\n",
      "iteration 9\n",
      "Model Saved\n"
     ]
    }
   ],
   "source": [
    "from gensim.models.doc2vec import Doc2Vec, TaggedDocument\n",
    "from nltk.tokenize import word_tokenize\n",
    "data = word_vector_input_dataset\n",
    "tagged_data = []\n",
    "exception_count = 0\n",
    "for i, _d in enumerate(data):\n",
    "    try:\n",
    "        tagged_data.append(TaggedDocument(words=word_tokenize(_d.lower()), tags=[str(i)]))\n",
    "    except:\n",
    "        exception_count+=1\n",
    "### Train doc2vec embeddings \n",
    "print (\"Total number of custom documents:\",len(tagged_data))\n",
    "max_epochs = 10\n",
    "vec_size = 10\n",
    "alpha = 0.025\n",
    "\n",
    "model = Doc2Vec(size=vec_size,\n",
    "                alpha=alpha, \n",
    "                min_alpha=0.00025,\n",
    "                min_count=10,\n",
    "                dm =1)\n",
    "  \n",
    "model.build_vocab(tagged_data)\n",
    "\n",
    "for epoch in range(max_epochs):\n",
    "    print('iteration {0}'.format(epoch))\n",
    "    model.train(tagged_data,\n",
    "                total_examples=model.corpus_count,\n",
    "                epochs=model.iter)\n",
    "    # decrease the learning rate\n",
    "    model.alpha -= 0.0002\n",
    "    # fix the learning rate, no decay\n",
    "    model.min_alpha = model.alpha\n",
    "\n",
    "model.save(\"d2v1.model\")\n",
    "print(\"Model Saved\")"
   ]
  },
  {
   "cell_type": "markdown",
   "metadata": {},
   "source": [
    "### Let us look into embeddings for a sample text. (Fake news: obama supports third trimester abortion)"
   ]
  },
  {
   "cell_type": "code",
   "execution_count": 55,
   "metadata": {
    "nbpresent": {
     "id": "f635e252-1b1a-4b33-912e-f3edaeeca9e5"
    }
   },
   "outputs": [
    {
     "name": "stdout",
     "output_type": "stream",
     "text": [
      "[array([ 0.189222,  0.14012 ,  0.108497,  0.057371,  0.055451, -0.116702,  0.167048, -0.265321,  0.177161,  0.107023],\n",
      "      dtype=float32)]\n"
     ]
    }
   ],
   "source": [
    "from gensim.models.doc2vec import Doc2Vec, TaggedDocument\n",
    "from nltk.tokenize import word_tokenize\n",
    "text = \"obama supports third trimester abortion\"\n",
    "dvmodel= Doc2Vec.load(\"d2v1.model\") ### Using a earlier trained model d2v.model \n",
    "test_sentence= [dvmodel.infer_vector(word_tokenize(text))]\n",
    "print (test_sentence)"
   ]
  },
  {
   "cell_type": "markdown",
   "metadata": {
    "nbpresent": {
     "id": "dcca872b-c776-4a20-a234-ffd6b36b5464"
    }
   },
   "source": [
    "### let us try to train a multi layer neural network on these embeddings + Categorical variables (state, venue, title)"
   ]
  },
  {
   "cell_type": "code",
   "execution_count": 56,
   "metadata": {
    "nbpresent": {
     "id": "dd6b6133-4dd0-4867-a903-d4a0d92230f3"
    }
   },
   "outputs": [],
   "source": [
    "training_statements = train_df.statement.tolist()\n",
    "tr_affliation = train_df.affliation.tolist()\n",
    "validation_statements = valid_df.statement.tolist()\n",
    "testing_statements = test_df.statement.tolist()\n",
    "training_statement_wv = []\n",
    "testing_statement_wv=[]\n",
    "validation_statement_wv = []\n",
    "for statement in training_statements:\n",
    "    training_statement_wv.append(dvmodel.infer_vector(word_tokenize(statement)))\n",
    "for statement in testing_statements:\n",
    "    testing_statement_wv.append(dvmodel.infer_vector(word_tokenize(statement)))\n",
    "for statement in validation_statements:\n",
    "    validation_statement_wv.append(dvmodel.infer_vector(word_tokenize(statement)))\n",
    "v_affliation = valid_df.affliation.tolist()\n",
    "t_affliation = test_df.affliation.tolist()"
   ]
  },
  {
   "cell_type": "code",
   "execution_count": 57,
   "metadata": {},
   "outputs": [],
   "source": [
    "#train_df.venue.value_counts()"
   ]
  },
  {
   "cell_type": "code",
   "execution_count": 58,
   "metadata": {
    "nbpresent": {
     "id": "c107241a-9fc3-49f5-9296-3c75ff751564"
    }
   },
   "outputs": [
    {
     "name": "stdout",
     "output_type": "stream",
     "text": [
      "Index([                        0,                         1,\n",
      "                               2,                         3,\n",
      "                               4,                         5,\n",
      "                               6,                         7,\n",
      "                               8,                         9,\n",
      "       'coarse_party_affliation',                   'state',\n",
      "                     'job_title',                   'venue'],\n",
      "      dtype='object') Index([                        0,                         1,\n",
      "                               2,                         3,\n",
      "                               4,                         5,\n",
      "                               6,                         7,\n",
      "                               8,                         9,\n",
      "       'coarse_party_affliation',                   'state',\n",
      "                     'job_title',                   'venue'],\n",
      "      dtype='object')\n"
     ]
    }
   ],
   "source": [
    "## Training dataframe\n",
    "dataframe = pd.DataFrame(training_statement_wv)\n",
    "dataframe['affliation'] = pd.Series(tr_affliation)\n",
    "dataframe['state'] = pd.Series(train_df.state)\n",
    "dataframe['job_title'] = pd.Series(train_df.job_title)\n",
    "dataframe['venue'] = pd.Series(train_df.venue)\n",
    "affliation = {}\n",
    "affliation['republican'] = 'republican'\n",
    "affliation['democrat'] = 'democrat'\n",
    "affliation['none'] ='no_affliation'\n",
    "getPartyAffliation = lambda x : affliation[str(x).lower()] if x in affliation else 'other'\n",
    "dataframe['coarse_party_affliation'] = dataframe['affliation'].apply(lambda x: getPartyAffliation(x))\n",
    "dataframe = dataframe[[0,1,2,3,4,5,6,7,8,9,'coarse_party_affliation','state', 'job_title','venue']]\n",
    "## testing dataframe\n",
    "test_dataframe = pd.DataFrame(testing_statement_wv)\n",
    "test_dataframe['affliation']= pd.Series(t_affliation)\n",
    "test_dataframe['coarse_party_affliation'] = test_dataframe['affliation'].apply(lambda x: getPartyAffliation(x))\n",
    "test_dataframe['state'] = pd.Series(test_df.state)\n",
    "test_dataframe['job_title'] = pd.Series(test_df.job_title)\n",
    "test_dataframe['venue'] = pd.Series(test_df.venue)\n",
    "test_dataframe = test_dataframe[[0,1,2,3,4,5,6,7,8,9,'coarse_party_affliation','state','job_title','venue']]\n",
    "print (test_dataframe.columns, dataframe.columns)"
   ]
  },
  {
   "cell_type": "code",
   "execution_count": 59,
   "metadata": {
    "nbpresent": {
     "id": "0fbf3734-9e0a-446c-9106-698b6957a56f"
    }
   },
   "outputs": [
    {
     "data": {
      "text/html": [
       "<div>\n",
       "<style scoped>\n",
       "    .dataframe tbody tr th:only-of-type {\n",
       "        vertical-align: middle;\n",
       "    }\n",
       "\n",
       "    .dataframe tbody tr th {\n",
       "        vertical-align: top;\n",
       "    }\n",
       "\n",
       "    .dataframe thead th {\n",
       "        text-align: right;\n",
       "    }\n",
       "</style>\n",
       "<table border=\"1\" class=\"dataframe\">\n",
       "  <thead>\n",
       "    <tr style=\"text-align: right;\">\n",
       "      <th></th>\n",
       "      <th>0</th>\n",
       "      <th>1</th>\n",
       "      <th>2</th>\n",
       "      <th>3</th>\n",
       "      <th>4</th>\n",
       "      <th>5</th>\n",
       "      <th>6</th>\n",
       "      <th>7</th>\n",
       "      <th>8</th>\n",
       "      <th>9</th>\n",
       "      <th>coarse_party_affliation</th>\n",
       "      <th>state</th>\n",
       "      <th>job_title</th>\n",
       "      <th>venue</th>\n",
       "    </tr>\n",
       "  </thead>\n",
       "  <tbody>\n",
       "    <tr>\n",
       "      <th>1262</th>\n",
       "      <td>0.396279</td>\n",
       "      <td>0.658556</td>\n",
       "      <td>0.151375</td>\n",
       "      <td>0.321303</td>\n",
       "      <td>0.034612</td>\n",
       "      <td>-0.562133</td>\n",
       "      <td>0.008814</td>\n",
       "      <td>-0.196327</td>\n",
       "      <td>-0.002581</td>\n",
       "      <td>0.309167</td>\n",
       "      <td>republican</td>\n",
       "      <td>Florida</td>\n",
       "      <td>Governor</td>\n",
       "      <td>a news conference</td>\n",
       "    </tr>\n",
       "    <tr>\n",
       "      <th>1263</th>\n",
       "      <td>0.298184</td>\n",
       "      <td>-0.076179</td>\n",
       "      <td>-0.238111</td>\n",
       "      <td>0.391601</td>\n",
       "      <td>-0.543549</td>\n",
       "      <td>-0.111246</td>\n",
       "      <td>0.073898</td>\n",
       "      <td>-0.028425</td>\n",
       "      <td>-0.191121</td>\n",
       "      <td>-0.078476</td>\n",
       "      <td>democrat</td>\n",
       "      <td>Missouri</td>\n",
       "      <td>Governor</td>\n",
       "      <td>on ABC's \"This Week\"</td>\n",
       "    </tr>\n",
       "    <tr>\n",
       "      <th>1264</th>\n",
       "      <td>-0.071957</td>\n",
       "      <td>0.208615</td>\n",
       "      <td>0.182878</td>\n",
       "      <td>-0.039671</td>\n",
       "      <td>0.224605</td>\n",
       "      <td>-0.000768</td>\n",
       "      <td>0.162259</td>\n",
       "      <td>0.040596</td>\n",
       "      <td>0.024198</td>\n",
       "      <td>0.161253</td>\n",
       "      <td>other</td>\n",
       "      <td>Rhode Island</td>\n",
       "      <td>senior fellow, Foreign Policy Research Institute</td>\n",
       "      <td>a commentary in The Providence Journal</td>\n",
       "    </tr>\n",
       "    <tr>\n",
       "      <th>1265</th>\n",
       "      <td>0.177548</td>\n",
       "      <td>-0.085036</td>\n",
       "      <td>0.418855</td>\n",
       "      <td>0.731205</td>\n",
       "      <td>-0.349867</td>\n",
       "      <td>-0.300768</td>\n",
       "      <td>0.174114</td>\n",
       "      <td>0.148499</td>\n",
       "      <td>-0.187035</td>\n",
       "      <td>0.298621</td>\n",
       "      <td>republican</td>\n",
       "      <td>Ohio</td>\n",
       "      <td>Governor of Ohio as of Jan. 10, 2011</td>\n",
       "      <td>a news conference</td>\n",
       "    </tr>\n",
       "    <tr>\n",
       "      <th>1266</th>\n",
       "      <td>0.391704</td>\n",
       "      <td>0.574158</td>\n",
       "      <td>0.246251</td>\n",
       "      <td>0.812656</td>\n",
       "      <td>-0.086348</td>\n",
       "      <td>-0.296332</td>\n",
       "      <td>0.115074</td>\n",
       "      <td>0.430027</td>\n",
       "      <td>-0.542890</td>\n",
       "      <td>0.685539</td>\n",
       "      <td>democrat</td>\n",
       "      <td>NaN</td>\n",
       "      <td>NaN</td>\n",
       "      <td>an interview with NJToday</td>\n",
       "    </tr>\n",
       "  </tbody>\n",
       "</table>\n",
       "</div>"
      ],
      "text/plain": [
       "             0         1         2         3         4         5         6  \\\n",
       "1262  0.396279  0.658556  0.151375  0.321303  0.034612 -0.562133  0.008814   \n",
       "1263  0.298184 -0.076179 -0.238111  0.391601 -0.543549 -0.111246  0.073898   \n",
       "1264 -0.071957  0.208615  0.182878 -0.039671  0.224605 -0.000768  0.162259   \n",
       "1265  0.177548 -0.085036  0.418855  0.731205 -0.349867 -0.300768  0.174114   \n",
       "1266  0.391704  0.574158  0.246251  0.812656 -0.086348 -0.296332  0.115074   \n",
       "\n",
       "             7         8         9 coarse_party_affliation         state  \\\n",
       "1262 -0.196327 -0.002581  0.309167              republican       Florida   \n",
       "1263 -0.028425 -0.191121 -0.078476                democrat      Missouri   \n",
       "1264  0.040596  0.024198  0.161253                   other  Rhode Island   \n",
       "1265  0.148499 -0.187035  0.298621              republican          Ohio   \n",
       "1266  0.430027 -0.542890  0.685539                democrat           NaN   \n",
       "\n",
       "                                             job_title  \\\n",
       "1262                                          Governor   \n",
       "1263                                          Governor   \n",
       "1264  senior fellow, Foreign Policy Research Institute   \n",
       "1265              Governor of Ohio as of Jan. 10, 2011   \n",
       "1266                                               NaN   \n",
       "\n",
       "                                       venue  \n",
       "1262                       a news conference  \n",
       "1263                    on ABC's \"This Week\"  \n",
       "1264  a commentary in The Providence Journal  \n",
       "1265                       a news conference  \n",
       "1266               an interview with NJToday  "
      ]
     },
     "execution_count": 59,
     "metadata": {},
     "output_type": "execute_result"
    },
    {
     "data": {
      "image/png": "[encoded data removed]",
      "text/plain": [
       "<Figure size 432x288 with 1 Axes>"
      ]
     },
     "metadata": {
      "needs_background": "light"
     },
     "output_type": "display_data"
    }
   ],
   "source": [
    "#dataframe.affliation.value_counts().plot(kind='bar')\n",
    "test_dataframe.coarse_party_affliation.value_counts().plot(kind='bar')#(10)\n",
    "test_dataframe.tail()"
   ]
  },
  {
   "cell_type": "code",
   "execution_count": 60,
   "metadata": {
    "nbpresent": {
     "id": "17680b5a-aec8-4499-871a-b8135e8f53df"
    },
    "scrolled": false
   },
   "outputs": [
    {
     "data": {
      "text/html": [
       "<div>\n",
       "<style scoped>\n",
       "    .dataframe tbody tr th:only-of-type {\n",
       "        vertical-align: middle;\n",
       "    }\n",
       "\n",
       "    .dataframe tbody tr th {\n",
       "        vertical-align: top;\n",
       "    }\n",
       "\n",
       "    .dataframe thead th {\n",
       "        text-align: right;\n",
       "    }\n",
       "</style>\n",
       "<table border=\"1\" class=\"dataframe\">\n",
       "  <thead>\n",
       "    <tr style=\"text-align: right;\">\n",
       "      <th></th>\n",
       "      <th>0</th>\n",
       "      <th>1</th>\n",
       "      <th>2</th>\n",
       "      <th>3</th>\n",
       "      <th>4</th>\n",
       "      <th>5</th>\n",
       "      <th>6</th>\n",
       "      <th>7</th>\n",
       "      <th>8</th>\n",
       "      <th>9</th>\n",
       "      <th>coarse_party_affliation</th>\n",
       "      <th>state</th>\n",
       "      <th>job_title</th>\n",
       "      <th>venue</th>\n",
       "    </tr>\n",
       "  </thead>\n",
       "  <tbody>\n",
       "    <tr>\n",
       "      <th>0</th>\n",
       "      <td>0.353442</td>\n",
       "      <td>-0.151065</td>\n",
       "      <td>-0.047734</td>\n",
       "      <td>0.085028</td>\n",
       "      <td>0.052060</td>\n",
       "      <td>-0.296136</td>\n",
       "      <td>0.194288</td>\n",
       "      <td>0.056894</td>\n",
       "      <td>0.170815</td>\n",
       "      <td>0.222798</td>\n",
       "      <td>republican</td>\n",
       "      <td>Texas</td>\n",
       "      <td>State representative</td>\n",
       "      <td>a mailer</td>\n",
       "    </tr>\n",
       "    <tr>\n",
       "      <th>1</th>\n",
       "      <td>-0.481504</td>\n",
       "      <td>0.054952</td>\n",
       "      <td>1.132460</td>\n",
       "      <td>0.396545</td>\n",
       "      <td>-0.134182</td>\n",
       "      <td>-0.448788</td>\n",
       "      <td>-0.106576</td>\n",
       "      <td>0.542309</td>\n",
       "      <td>0.014873</td>\n",
       "      <td>-0.026020</td>\n",
       "      <td>democrat</td>\n",
       "      <td>Virginia</td>\n",
       "      <td>State delegate</td>\n",
       "      <td>a floor speech.</td>\n",
       "    </tr>\n",
       "    <tr>\n",
       "      <th>2</th>\n",
       "      <td>0.265236</td>\n",
       "      <td>-0.515742</td>\n",
       "      <td>0.372294</td>\n",
       "      <td>0.074474</td>\n",
       "      <td>0.508422</td>\n",
       "      <td>-0.671389</td>\n",
       "      <td>0.062859</td>\n",
       "      <td>-0.026645</td>\n",
       "      <td>0.185968</td>\n",
       "      <td>-0.020054</td>\n",
       "      <td>democrat</td>\n",
       "      <td>Illinois</td>\n",
       "      <td>President</td>\n",
       "      <td>Denver</td>\n",
       "    </tr>\n",
       "    <tr>\n",
       "      <th>3</th>\n",
       "      <td>0.664535</td>\n",
       "      <td>-0.269978</td>\n",
       "      <td>-0.097558</td>\n",
       "      <td>0.121104</td>\n",
       "      <td>-0.175342</td>\n",
       "      <td>-0.192841</td>\n",
       "      <td>0.195045</td>\n",
       "      <td>0.171830</td>\n",
       "      <td>-0.250752</td>\n",
       "      <td>0.142936</td>\n",
       "      <td>no_affliation</td>\n",
       "      <td>NaN</td>\n",
       "      <td>NaN</td>\n",
       "      <td>a news release</td>\n",
       "    </tr>\n",
       "    <tr>\n",
       "      <th>4</th>\n",
       "      <td>0.123623</td>\n",
       "      <td>0.050471</td>\n",
       "      <td>0.357681</td>\n",
       "      <td>0.222659</td>\n",
       "      <td>-0.094258</td>\n",
       "      <td>-0.346482</td>\n",
       "      <td>-0.035021</td>\n",
       "      <td>0.133264</td>\n",
       "      <td>0.042064</td>\n",
       "      <td>-0.060985</td>\n",
       "      <td>democrat</td>\n",
       "      <td>Florida</td>\n",
       "      <td>NaN</td>\n",
       "      <td>an interview on CNN</td>\n",
       "    </tr>\n",
       "  </tbody>\n",
       "</table>\n",
       "</div>"
      ],
      "text/plain": [
       "          0         1         2         3         4         5         6  \\\n",
       "0  0.353442 -0.151065 -0.047734  0.085028  0.052060 -0.296136  0.194288   \n",
       "1 -0.481504  0.054952  1.132460  0.396545 -0.134182 -0.448788 -0.106576   \n",
       "2  0.265236 -0.515742  0.372294  0.074474  0.508422 -0.671389  0.062859   \n",
       "3  0.664535 -0.269978 -0.097558  0.121104 -0.175342 -0.192841  0.195045   \n",
       "4  0.123623  0.050471  0.357681  0.222659 -0.094258 -0.346482 -0.035021   \n",
       "\n",
       "          7         8         9 coarse_party_affliation     state  \\\n",
       "0  0.056894  0.170815  0.222798              republican     Texas   \n",
       "1  0.542309  0.014873 -0.026020                democrat  Virginia   \n",
       "2 -0.026645  0.185968 -0.020054                democrat  Illinois   \n",
       "3  0.171830 -0.250752  0.142936           no_affliation       NaN   \n",
       "4  0.133264  0.042064 -0.060985                democrat   Florida   \n",
       "\n",
       "              job_title                venue  \n",
       "0  State representative             a mailer  \n",
       "1        State delegate      a floor speech.  \n",
       "2             President               Denver  \n",
       "3                   NaN       a news release  \n",
       "4                   NaN  an interview on CNN  "
      ]
     },
     "execution_count": 60,
     "metadata": {},
     "output_type": "execute_result"
    },
    {
     "data": {
      "image/png": "[encoded data removed]",
      "text/plain": [
       "<Figure size 432x288 with 1 Axes>"
      ]
     },
     "metadata": {
      "needs_background": "light"
     },
     "output_type": "display_data"
    }
   ],
   "source": [
    "dataframe.coarse_party_affliation.value_counts().plot(kind='bar')\n",
    "dataframe.head()"
   ]
  },
  {
   "cell_type": "code",
   "execution_count": 61,
   "metadata": {
    "nbpresent": {
     "id": "af513042-e4a2-4663-9ec2-fe4291b103be"
    }
   },
   "outputs": [
    {
     "name": "stdout",
     "output_type": "stream",
     "text": [
      "Index(['0', '1', '2', '3', '4', '5', '6', '7', '8', '9',\n",
      "       'coarse_party_affliation', 'state', 'job_title', 'venue'],\n",
      "      dtype='object')\n",
      "11507\n",
      "10240\n",
      "1267\n"
     ]
    },
    {
     "data": {
      "text/plain": [
       "Texas                   124\n",
       "Florida                 117\n",
       "Wisconsin               101\n",
       "New York                 85\n",
       "Ohio                     68\n",
       "Illinois                 68\n",
       "Georgia                  56\n",
       "Virginia                 51\n",
       "Rhode Island             42\n",
       "Oregon                   38\n",
       "New Jersey               30\n",
       "Arizona                  24\n",
       "Massachusetts            22\n",
       "Pennsylvania             15\n",
       "Kentucky                 13\n",
       "Delaware                 11\n",
       "New Hampshire            11\n",
       "California               10\n",
       "Washington, D.C.         10\n",
       "Missouri                  8\n",
       "Minnesota                 8\n",
       "Alaska                    8\n",
       "Maryland                  8\n",
       "Indiana                   7\n",
       "Vermont                   7\n",
       "Arkansas                  7\n",
       "New Mexico                6\n",
       "Tennessee                 5\n",
       "Nevada                    5\n",
       "North Carolina            5\n",
       "South Carolina            4\n",
       "Louisiana                 3\n",
       "Utah                      3\n",
       "Connecticut               3\n",
       "Colorado                  3\n",
       "West Virginia             2\n",
       "Michigan                  2\n",
       "Washington, D.C.          2\n",
       "Alabama                   2\n",
       "Unknown                   1\n",
       "Wisconsin                 1\n",
       "Colorado                  1\n",
       "Washington D.C.           1\n",
       "South Dakota              1\n",
       "District of Columbia      1\n",
       "ohio                      1\n",
       "Washington                1\n",
       "Kansas                    1\n",
       "Illinois                  1\n",
       "Iowa                      1\n",
       "Name: state, dtype: int64"
      ]
     },
     "execution_count": 61,
     "metadata": {},
     "output_type": "execute_result"
    }
   ],
   "source": [
    "path= Path()\n",
    "X = pd.concat([test_dataframe,dataframe])\n",
    "X.columns = ['0','1','2','3','4','5','6','7','8','9','coarse_party_affliation','state','job_title','venue']\n",
    "print (X.columns)\n",
    "print(len(X))\n",
    "print(len(dataframe))\n",
    "print(len(test_dataframe))\n",
    "test_dataframe.head()\n",
    "### Categorical features\n",
    "cat_names= ['state','job_title','venue']\n",
    "### continuos features\n",
    "cont_names = ['0','1','2','3','4','5','6','7','8','9']\n",
    "\n",
    "test = TabularList.from_df(X.iloc[0:1267].copy(), path=path, cat_names=None, cont_names=cont_names)\n",
    "df_test_copy = X.iloc[0:1267]\n",
    "X.head()\n",
    "test_df.state.value_counts()"
   ]
  },
  {
   "cell_type": "code",
   "execution_count": 62,
   "metadata": {
    "nbpresent": {
     "id": "e563da45-3f05-46d1-88e7-1e11c85e08da"
    }
   },
   "outputs": [
    {
     "data": {
      "text/html": [
       "<table>  <col width='10px'>  <col width='10px'>  <col width='10px'>  <col width='10px'>  <col width='10px'>  <col width='10px'>  <col width='10px'>  <col width='10px'>  <col width='10px'>  <col width='10px'>  <col width='10px'>  <col width='10px'>  <col width='10px'>  <col width='10px'>  <tr>\n",
       "    <th>state</th>\n",
       "    <th>job_title</th>\n",
       "    <th>venue</th>\n",
       "    <th>0</th>\n",
       "    <th>1</th>\n",
       "    <th>2</th>\n",
       "    <th>3</th>\n",
       "    <th>4</th>\n",
       "    <th>5</th>\n",
       "    <th>6</th>\n",
       "    <th>7</th>\n",
       "    <th>8</th>\n",
       "    <th>9</th>\n",
       "    <th>target</th>\n",
       "  </tr>\n",
       "  <tr>\n",
       "    <th>Florida</th>\n",
       "    <th>#na#</th>\n",
       "    <th>a statement to the press</th>\n",
       "    <th>-0.0401</th>\n",
       "    <th>-0.6409</th>\n",
       "    <th>-0.4831</th>\n",
       "    <th>-0.9710</th>\n",
       "    <th>0.1908</th>\n",
       "    <th>-0.1307</th>\n",
       "    <th>0.0907</th>\n",
       "    <th>-1.2441</th>\n",
       "    <th>0.4650</th>\n",
       "    <th>0.2456</th>\n",
       "    <th>republican</th>\n",
       "  </tr>\n",
       "  <tr>\n",
       "    <th>New York</th>\n",
       "    <th>President-Elect</th>\n",
       "    <th>a campaign event in Fla.</th>\n",
       "    <th>-0.1853</th>\n",
       "    <th>1.2275</th>\n",
       "    <th>0.3278</th>\n",
       "    <th>1.3455</th>\n",
       "    <th>-1.3230</th>\n",
       "    <th>0.8358</th>\n",
       "    <th>0.7984</th>\n",
       "    <th>-2.0206</th>\n",
       "    <th>-2.9971</th>\n",
       "    <th>0.2874</th>\n",
       "    <th>republican</th>\n",
       "  </tr>\n",
       "  <tr>\n",
       "    <th>Wisconsin</th>\n",
       "    <th>Chairman, Republican National Committee</th>\n",
       "    <th>an interview on \"Meet the Press\"</th>\n",
       "    <th>0.8265</th>\n",
       "    <th>0.7421</th>\n",
       "    <th>-0.9311</th>\n",
       "    <th>1.4615</th>\n",
       "    <th>-1.0249</th>\n",
       "    <th>0.5455</th>\n",
       "    <th>0.3920</th>\n",
       "    <th>-0.8334</th>\n",
       "    <th>-0.4075</th>\n",
       "    <th>0.0146</th>\n",
       "    <th>republican</th>\n",
       "  </tr>\n",
       "  <tr>\n",
       "    <th>#na#</th>\n",
       "    <th>#na#</th>\n",
       "    <th>a press release and Web post</th>\n",
       "    <th>-0.2882</th>\n",
       "    <th>3.7136</th>\n",
       "    <th>1.4673</th>\n",
       "    <th>-1.9639</th>\n",
       "    <th>1.6454</th>\n",
       "    <th>0.2315</th>\n",
       "    <th>-3.1767</th>\n",
       "    <th>0.4903</th>\n",
       "    <th>-1.1386</th>\n",
       "    <th>0.2432</th>\n",
       "    <th>republican</th>\n",
       "  </tr>\n",
       "  <tr>\n",
       "    <th>#na#</th>\n",
       "    <th>#na#</th>\n",
       "    <th>a segment on \"Ronan Farrow Daily\"</th>\n",
       "    <th>-1.1950</th>\n",
       "    <th>-0.3946</th>\n",
       "    <th>0.4323</th>\n",
       "    <th>-1.7508</th>\n",
       "    <th>0.5132</th>\n",
       "    <th>-0.8720</th>\n",
       "    <th>0.4823</th>\n",
       "    <th>-0.7956</th>\n",
       "    <th>1.3994</th>\n",
       "    <th>-0.8768</th>\n",
       "    <th>no_affliation</th>\n",
       "  </tr>\n",
       "  <tr>\n",
       "    <th>Florida</th>\n",
       "    <th>#na#</th>\n",
       "    <th>a campaign TV ad</th>\n",
       "    <th>0.4471</th>\n",
       "    <th>-1.6085</th>\n",
       "    <th>0.4267</th>\n",
       "    <th>-0.4904</th>\n",
       "    <th>0.2918</th>\n",
       "    <th>0.4432</th>\n",
       "    <th>0.0673</th>\n",
       "    <th>-0.4528</th>\n",
       "    <th>0.2850</th>\n",
       "    <th>0.3463</th>\n",
       "    <th>democrat</th>\n",
       "  </tr>\n",
       "  <tr>\n",
       "    <th>Illinois</th>\n",
       "    <th>President</th>\n",
       "    <th>an interview on CBS' \"60 Minutes\"</th>\n",
       "    <th>-1.2477</th>\n",
       "    <th>-0.3808</th>\n",
       "    <th>-0.4335</th>\n",
       "    <th>-0.9712</th>\n",
       "    <th>-1.3524</th>\n",
       "    <th>-0.1221</th>\n",
       "    <th>0.3630</th>\n",
       "    <th>0.0412</th>\n",
       "    <th>-0.1564</th>\n",
       "    <th>0.7089</th>\n",
       "    <th>democrat</th>\n",
       "  </tr>\n",
       "  <tr>\n",
       "    <th>Ohio</th>\n",
       "    <th>Representative from Ohio's 11th Congressional District</th>\n",
       "    <th>a news release</th>\n",
       "    <th>-0.1667</th>\n",
       "    <th>1.4369</th>\n",
       "    <th>-1.2795</th>\n",
       "    <th>1.0480</th>\n",
       "    <th>0.6270</th>\n",
       "    <th>-0.0482</th>\n",
       "    <th>-0.1802</th>\n",
       "    <th>-1.8436</th>\n",
       "    <th>2.6015</th>\n",
       "    <th>1.0330</th>\n",
       "    <th>democrat</th>\n",
       "  </tr>\n",
       "  <tr>\n",
       "    <th>#na#</th>\n",
       "    <th>Radio talk show host</th>\n",
       "    <th>comments on CNN</th>\n",
       "    <th>-0.1492</th>\n",
       "    <th>-0.2891</th>\n",
       "    <th>-1.5512</th>\n",
       "    <th>-0.6562</th>\n",
       "    <th>-0.4372</th>\n",
       "    <th>-2.1919</th>\n",
       "    <th>-0.7258</th>\n",
       "    <th>-1.3672</th>\n",
       "    <th>2.9440</th>\n",
       "    <th>-0.8940</th>\n",
       "    <th>other</th>\n",
       "  </tr>\n",
       "  <tr>\n",
       "    <th>Texas</th>\n",
       "    <th>Senator</th>\n",
       "    <th>a news release</th>\n",
       "    <th>-0.4080</th>\n",
       "    <th>-0.1904</th>\n",
       "    <th>-1.1137</th>\n",
       "    <th>-0.2396</th>\n",
       "    <th>-0.0290</th>\n",
       "    <th>0.1470</th>\n",
       "    <th>0.3092</th>\n",
       "    <th>-0.0344</th>\n",
       "    <th>0.9209</th>\n",
       "    <th>-0.6908</th>\n",
       "    <th>republican</th>\n",
       "  </tr>\n",
       "</table>\n"
      ],
      "text/plain": [
       "<IPython.core.display.HTML object>"
      ]
     },
     "metadata": {},
     "output_type": "display_data"
    }
   ],
   "source": [
    "path = Path()\n",
    "procs = [FillMissing, Categorify, Normalize]\n",
    "dep_var = 'coarse_party_affliation'\n",
    "valid_idx = list(range(0,1267))\n",
    "DB = (TabularList.from_df(X, path=path, cat_names=cat_names, cont_names=cont_names, procs=procs)\n",
    "      .split_by_idx(valid_idx)\n",
    "      .label_from_df(cols=dep_var)\n",
    "      .add_test(test, label=0)\n",
    "      .databunch())\n",
    "DB.show_batch(rows=10)"
   ]
  },
  {
   "cell_type": "code",
   "execution_count": 63,
   "metadata": {
    "nbpresent": {
     "id": "bf46db04-1530-4167-a592-e385ed6c0f20"
    }
   },
   "outputs": [],
   "source": [
    "learn = tabular_learner(DB, layers=[30,15,4],  metrics=accuracy,emb_drop=0.2)\n"
   ]
  },
  {
   "cell_type": "code",
   "execution_count": 64,
   "metadata": {
    "nbpresent": {
     "id": "f2d0748b-e709-45a8-ac90-c16a7e8a5f9f"
    }
   },
   "outputs": [
    {
     "data": {
      "text/plain": [
       "TabularModel(\n",
       "  (embeds): ModuleList(\n",
       "    (0): Embedding(85, 43)\n",
       "    (1): Embedding(1185, 50)\n",
       "    (2): Embedding(4346, 50)\n",
       "  )\n",
       "  (emb_drop): Dropout(p=0.2)\n",
       "  (bn_cont): BatchNorm1d(10, eps=1e-05, momentum=0.1, affine=True, track_running_stats=True)\n",
       "  (layers): Sequential(\n",
       "    (0): Linear(in_features=153, out_features=30, bias=True)\n",
       "    (1): ReLU(inplace)\n",
       "    (2): BatchNorm1d(30, eps=1e-05, momentum=0.1, affine=True, track_running_stats=True)\n",
       "    (3): Linear(in_features=30, out_features=15, bias=True)\n",
       "    (4): ReLU(inplace)\n",
       "    (5): BatchNorm1d(15, eps=1e-05, momentum=0.1, affine=True, track_running_stats=True)\n",
       "    (6): Linear(in_features=15, out_features=4, bias=True)\n",
       "    (7): ReLU(inplace)\n",
       "    (8): BatchNorm1d(4, eps=1e-05, momentum=0.1, affine=True, track_running_stats=True)\n",
       "    (9): Linear(in_features=4, out_features=4, bias=True)\n",
       "  )\n",
       ")"
      ]
     },
     "execution_count": 64,
     "metadata": {},
     "output_type": "execute_result"
    }
   ],
   "source": [
    "learn.model"
   ]
  },
  {
   "cell_type": "code",
   "execution_count": 65,
   "metadata": {
    "nbpresent": {
     "id": "78667b75-58e5-48a7-bef7-de629f90b09f"
    }
   },
   "outputs": [
    {
     "name": "stdout",
     "output_type": "stream",
     "text": [
      "Total time: 00:19\n",
      "epoch  train_loss  valid_loss  accuracy\n",
      "1      1.459563    1.385672    0.348066  (00:01)\n",
      "2      1.180745    1.037190    0.599842  (00:01)\n",
      "3      0.846753    0.831254    0.705604  (00:01)\n",
      "4      0.631130    0.719915    0.733228  (00:01)\n",
      "5      0.478246    0.669809    0.752171  (00:01)\n",
      "6      0.388260    0.670741    0.748224  (00:01)\n",
      "7      0.333192    0.647286    0.764799  (00:01)\n",
      "8      0.291218    0.658751    0.764009  (00:01)\n",
      "9      0.271220    0.657380    0.764009  (00:02)\n",
      "10     0.243643    0.656494    0.771113  (00:02)\n",
      "\n"
     ]
    }
   ],
   "source": [
    "learn.fit_one_cycle(10,1e-3)\n"
   ]
  },
  {
   "cell_type": "markdown",
   "metadata": {},
   "source": [
    "#### Fast ai provides Learning Rate finder to improve models\n",
    "#### We can use this to find the best learning rate and rerun the model.\n",
    "#### As you can see at LR = 1e-3, we have the lease loss. Hence, i used a learning rate of 1e-3"
   ]
  },
  {
   "cell_type": "code",
   "execution_count": 66,
   "metadata": {
    "nbpresent": {
     "id": "1ad42940-a7a4-467f-b415-1c73c11d4c6a"
    }
   },
   "outputs": [
    {
     "name": "stdout",
     "output_type": "stream",
     "text": [
      "LR Finder is complete, type {learner_name}.recorder.plot() to see the graph.\n"
     ]
    },
    {
     "data": {
      "image/png": "[encoded data removed]",
      "text/plain": [
       "<Figure size 432x288 with 1 Axes>"
      ]
     },
     "metadata": {
      "needs_background": "light"
     },
     "output_type": "display_data"
    }
   ],
   "source": [
    "learn.lr_find()\n",
    "learn.recorder.plot()\n",
    "learn.save(\"NN_model_to_predict_political_Affliation\")"
   ]
  },
  {
   "cell_type": "markdown",
   "metadata": {},
   "source": [
    "### Plot the confusion matrix. (there is a bug in the visual UX)\n",
    "The order is as follows (1. Republican , 2. democrat, 3. no affliation,4. other)"
   ]
  },
  {
   "cell_type": "code",
   "execution_count": 67,
   "metadata": {
    "nbpresent": {
     "id": "22305421-bfe3-4859-af7e-a1ca5e87698a"
    }
   },
   "outputs": [
    {
     "data": {
      "image/png": "[encoded data removed]",
      "text/plain": [
       "<Figure size 432x288 with 1 Axes>"
      ]
     },
     "metadata": {
      "needs_background": "light"
     },
     "output_type": "display_data"
    }
   ],
   "source": [
    "from fastai import *\n",
    "from fastai.vision import *\n",
    "interp = ClassificationInterpretation.from_learner(learn)\n",
    "interp.plot_confusion_matrix()"
   ]
  },
  {
   "cell_type": "code",
   "execution_count": 68,
   "metadata": {
    "nbpresent": {
     "id": "d0ee0fc9-6d4e-435c-b4a3-98631ef1007a"
    }
   },
   "outputs": [
    {
     "data": {
      "text/plain": [
       "['We stay strong with LGBT community',\n",
       " 'democrats want to increase taxes and burden the middle class',\n",
       " 'US population is at its historical low since the 1939 depression',\n",
       " \"amazon's revenue has grown a lot but they did not raise minimum wage\",\n",
       " 'We must get rid of birth right citizenship to fight illegal immigration',\n",
       " 'Minimum wage has to be raised while taxing the creamy layer of the wealthy']"
      ]
     },
     "execution_count": 68,
     "metadata": {},
     "output_type": "execute_result"
    }
   ],
   "source": [
    "learn.load(\"NN_model_to_predict_political_Affliation\")\n",
    "\n",
    "#print(df_test_copy.iloc[0],learn.predict(df_test_copy.iloc[0]))\n",
    "\n",
    "texts = [\"We stay strong with LGBT community\",\n",
    "         \"democrats want to increase taxes and burden the middle class\",\n",
    "         \"US population is at its historical low since the 1939 depression\",\n",
    "         \"amazon's revenue has grown a lot but they did not raise minimum wage\",\n",
    "         ######################################\n",
    "         \"We must get rid of birth right citizenship to fight illegal immigration\",\n",
    "         \"Minimum wage has to be raised while taxing the creamy layer of the wealthy\"]\n",
    "state = [\"California\", \"Florida\", \"California\",\"Seattle\", \"Washington D.C\", \"Florida\"]\n",
    "job_title = [\"representative\",\"senator\", \"blogger\",\"activist\", \"President\", \"representative\"]\n",
    "venue = ['a speech','a campaign','a blog posting','news show','a campaign','a campaign']\n",
    "vectors = []\n",
    "for text in texts:\n",
    "    V = dvmodel.infer_vector(word_tokenize(text))\n",
    "    vectors.append(V)\n",
    "testX = pd.DataFrame(vectors)\n",
    "testX[\"state\"] = pd.Series(state)\n",
    "testX[\"job_title\"] = pd.Series(job_title)\n",
    "testX[\"venue\"] = pd.Series(venue)\n",
    "testX.columns= ['0','1','2','3','4','5','6','7','8','9','state','job_title', 'venue']\n",
    "\n",
    "inference1 =  (texts[0],str(learn.predict(testX.iloc[0])))\n",
    "inference2 = (texts[1],str(learn.predict(testX.iloc[1])))\n",
    "inference3 = (texts[2],str(learn.predict(testX.iloc[2])))\n",
    "inference4 = (texts[3],str(learn.predict(testX.iloc[3])))\n",
    "inference5 = (texts[4],str(learn.predict(testX.iloc[4])))\n",
    "inference6 = (texts[5], str(learn.predict(testX.iloc[5])))\n",
    "testX.head()\n",
    "texts"
   ]
  },
  {
   "cell_type": "code",
   "execution_count": 69,
   "metadata": {},
   "outputs": [
    {
     "name": "stdout",
     "output_type": "stream",
     "text": [
      "We stay strong with LGBT community representative California \n",
      " ('democrat', tensor(1), tensor([0.3086, 0.6421, 0.0243, 0.0250])) \n",
      "--------------------------------------------------------\n",
      "\n",
      "democrats want to increase taxes and burden the middle class senator Florida \n",
      " ('republican', tensor(0), tensor([0.9445, 0.0368, 0.0069, 0.0118])) \n",
      "--------------------------------------------------------n\n",
      "US population is at its historical low since the 1939 depression blogger California \n",
      " ('no_affliation', tensor(2), tensor([0.0013, 0.0052, 0.9468, 0.0467])) \n",
      "--------------------------------------------------------n\n",
      "amazon's revenue has grown a lot but they did not raise minimum wage activist Seattle \n",
      " ('no_affliation', tensor(2), tensor([0.1387, 0.0559, 0.6742, 0.1312])) \n",
      "--------------------------------------------------------\n",
      "\n"
     ]
    }
   ],
   "source": [
    "print (inference1[0],job_title[0],state[0],'\\n',inference1[1],'\\n--------------------------------------------------------\\n')\n",
    "print (inference2[0],job_title[1],state[1],'\\n',inference2[1],'\\n--------------------------------------------------------n')\n",
    "print (inference3[0],job_title[2],state[2],'\\n',inference3[1],'\\n--------------------------------------------------------n')\n",
    "print (inference4[0],job_title[3],state[3],'\\n',inference4[1],'\\n--------------------------------------------------------\\n')\n"
   ]
  },
  {
   "cell_type": "markdown",
   "metadata": {},
   "source": [
    "### some examples where model fails\n",
    "#### model is trained on last year data not reflecting current politics\n",
    "#### model seems to give higher importance to job_title and location\n",
    "\n",
    "<font color=red> \"We must get rid of birth right citizenship to fight illegal immigration\" -title:President -location: Washington D.C\" \n",
    "</font>\n",
    "\n",
    "#### I added a potential test statement that could be made by current republican president Donald trump but since training data was based from past year, the model predicted the statement is from democrat\n",
    "\n",
    "<font color=blue>\"Minimum wage has to be raised while taxing the creamy layer of the wealthy \" -title representative (congress) -location: florida\n",
    "</font>\n",
    "\n",
    "#### Similarly i added a statement that could be a potential statement from democrat. however model predicted it to be republican solely due to location and title (florida) and based on past data\n"
   ]
  },
  {
   "cell_type": "code",
   "execution_count": 70,
   "metadata": {},
   "outputs": [
    {
     "name": "stdout",
     "output_type": "stream",
     "text": [
      "We must get rid of birth right citizenship to fight illegal immigration President Washington D.C \n",
      " ('democrat', tensor(1), tensor([0.0444, 0.9040, 0.0387, 0.0129])) \n",
      "--------------------------------------------------------\n",
      "\n",
      "Minimum wage has to be raised while taxing the creamy layer of the wealthy representative Florida \n",
      " ('republican', tensor(0), tensor([0.3794, 0.2669, 0.2570, 0.0968]))\n"
     ]
    }
   ],
   "source": [
    "### Some cases where the model fails\n",
    "print (inference5[0],job_title[4],state[4],'\\n',inference5[1],'\\n--------------------------------------------------------\\n')\n",
    "print(texts[5], job_title[5], state[5],'\\n',inference6[1] )\n"
   ]
  },
  {
   "cell_type": "code",
   "execution_count": null,
   "metadata": {},
   "outputs": [],
   "source": []
  },
  {
   "cell_type": "markdown",
   "metadata": {
    "nbpresent": {
     "id": "2897e46a-881e-485e-b0b8-b8e39d99ac4b"
    }
   },
   "source": [
    "# Section (2): Can we predict what a politician of particular party affliation might say ?\n",
    "We need a generative model to predict the text a politician might respond.\n",
    "1. the datasets handled are not very large\n",
    "2. lets use a model pre-trained already on large corpus of wikipedia and learn on top of that\n",
    "3. Wiki-Text103 (RNN trained on wikipedia text)\n",
    "4. RNNs can learn sequences and generate nth word, given n-1 words.\n",
    "<br>\n",
    "Idea inspired from http://karpathy.github.io/2015/05/21/rnn-effectiveness/ <br>\n",
    "<b>TODO: most of the theory is still black box </b>\n",
    "Credits: Fast ai \n",
    "### Datasets used\n",
    "<font color =\"green\">\n",
    "\n",
    "    1. Tweets during 2016 elections by republicans and democrats (https://www.kaggle.com/kapastor/democratvsrepublicantweets#ExtractedTweets.csv)\n",
    "    2. LIAR LIAR dataset\n",
    "    \n",
    "</font>"
   ]
  },
  {
   "cell_type": "markdown",
   "metadata": {
    "nbpresent": {
     "id": "2a374b1e-eca7-47c2-b88b-b33197600b82"
    }
   },
   "source": [
    "## How to reproduce this result?\n",
    "1. Load the dataset with the tweets and party affliation (Cleaning is implied)\n",
    "2. transfer learn and train a model on top of pretrained wikipedia model \n",
    "3. Use it as a generator to predict a statement from a politician\n",
    "\n",
    "4. Repeat steps 1,2,3 to train a model using only tweets from republican"
   ]
  },
  {
   "cell_type": "code",
   "execution_count": 42,
   "metadata": {},
   "outputs": [
    {
     "name": "stdout",
     "output_type": "stream",
     "text": [
      "14\n"
     ]
    }
   ],
   "source": [
    "import pandas as pd\n",
    "tweets = pd.read_csv('ExtractedTweets.csv')\n",
    "tweets.head()\n",
    "import pandas as pd\n",
    "headers = ['id','label','statement','subject',\n",
    "           'speaker','job_title', 'state', \n",
    "           'affliation','barely_true','false',\n",
    "           'half_true', 'mostly_true','pants_on_fire', \n",
    "           'venue']\n",
    "print (len(headers))\n",
    "liar_train_df = pd.read_csv('train.tsv', names=headers, delimiter='\\t')\n",
    "liar_valid_df = pd.read_csv('valid.tsv', names=headers, delimiter='\\t')\n",
    "liar_test_df = pd.read_csv('test.tsv',names=headers, delimiter='\\t')\n",
    "tweets.head()\n",
    "text = tweets.Tweet.tolist() + liar_train_df.statement.tolist()\n",
    "text_data_frame = pd.DataFrame(pd.Series(text))"
   ]
  },
  {
   "cell_type": "code",
   "execution_count": 39,
   "metadata": {},
   "outputs": [
    {
     "data": {
      "text/html": [
       "<div>\n",
       "<style scoped>\n",
       "    .dataframe tbody tr th:only-of-type {\n",
       "        vertical-align: middle;\n",
       "    }\n",
       "\n",
       "    .dataframe tbody tr th {\n",
       "        vertical-align: top;\n",
       "    }\n",
       "\n",
       "    .dataframe thead th {\n",
       "        text-align: right;\n",
       "    }\n",
       "</style>\n",
       "<table border=\"1\" class=\"dataframe\">\n",
       "  <thead>\n",
       "    <tr style=\"text-align: right;\">\n",
       "      <th></th>\n",
       "      <th>statement</th>\n",
       "    </tr>\n",
       "  </thead>\n",
       "  <tbody>\n",
       "    <tr>\n",
       "      <th>19341</th>\n",
       "      <td>RT @lasouthbaynews: Manhattan Beach and Hermos...</td>\n",
       "    </tr>\n",
       "    <tr>\n",
       "      <th>19342</th>\n",
       "      <td>Kirk's advocacy &amp;amp; Nancy's story--her incre...</td>\n",
       "    </tr>\n",
       "    <tr>\n",
       "      <th>19343</th>\n",
       "      <td>RT @lacdbh: Free, pre-filled sandbags are avai...</td>\n",
       "    </tr>\n",
       "    <tr>\n",
       "      <th>19344</th>\n",
       "      <td>RT @LongBeachPost: .@SupJaniceHahn today offer...</td>\n",
       "    </tr>\n",
       "    <tr>\n",
       "      <th>19345</th>\n",
       "      <td>Please keep Cole and his family in your though...</td>\n",
       "    </tr>\n",
       "  </tbody>\n",
       "</table>\n",
       "</div>"
      ],
      "text/plain": [
       "                                               statement\n",
       "19341  RT @lasouthbaynews: Manhattan Beach and Hermos...\n",
       "19342  Kirk's advocacy &amp; Nancy's story--her incre...\n",
       "19343  RT @lacdbh: Free, pre-filled sandbags are avai...\n",
       "19344  RT @LongBeachPost: .@SupJaniceHahn today offer...\n",
       "19345  Please keep Cole and his family in your though..."
      ]
     },
     "execution_count": 39,
     "metadata": {},
     "output_type": "execute_result"
    }
   ],
   "source": [
    "text_data_frame.columns=['statement']\n",
    "valid_pct = 0.2\n",
    "cut = int(valid_pct * len(text_data_frame)) + 1\n",
    "train_lm_df, valid_lm_df = text_data_frame[cut:], text_data_frame[:cut]\n",
    "train_lm_df.head()"
   ]
  },
  {
   "cell_type": "code",
   "execution_count": 160,
   "metadata": {},
   "outputs": [
    {
     "name": "stdout",
     "output_type": "stream",
     "text": [
      "total number of tweet and statements: 96700\n"
     ]
    }
   ],
   "source": [
    "print(\"total number of tweet and statements:\",len(text_data_frame))\n",
    "#text_data_frame.statement[1]"
   ]
  },
  {
   "cell_type": "markdown",
   "metadata": {},
   "source": [
    "### Clean and preprocess the data and generate data for training a language model"
   ]
  },
  {
   "cell_type": "code",
   "execution_count": 42,
   "metadata": {},
   "outputs": [],
   "source": [
    "import gensim\n",
    "from nltk import word_tokenize\n",
    "#TLMDB = TextLMDataBunch.from_csv(path='./LM_Train/', csv_name='trainLM.txt' ,bs=40)\n",
    "#TLMDB = TextLMDataBunch.from_df(train_df=train_lm_df, valid_df=valid_lm_df,)\n",
    "def processTweet(textOfTweet):\n",
    "    tokens = textOfTweet.lower().strip().split()\n",
    "    r = []\n",
    "    for t in tokens:\n",
    "        if t.startswith(\"\\\\\"):\n",
    "            continue\n",
    "        if ('rt' in t):\n",
    "            continue\n",
    "        if (\"http\" in t or \"www\" in t or \"com\" in t):\n",
    "            continue\n",
    "        r.append(t)\n",
    "    textOfTweet = ' '.join(r)\n",
    "    tokens = word_tokenize(textOfTweet.lower().strip())\n",
    "    return ' '.join(tokens)\n",
    "print (processTweet('RT \\\\n this is an example of http://t.co of bad tweet !!!'))    \n",
    "text_data_frame['processed_statement'] = text_data_frame['statement'].apply(lambda x : processTweet(str(x)))\n",
    "PATH= Path()\n",
    "text_data_frame.head()\n",
    "data_lm = (TextList.from_df(text_data_frame, PATH, cols=['processed_statement']) \n",
    "          .random_split_by_pct(0.2)\n",
    "          .label_for_lm() # this does the tokenization and numericalization\n",
    "          .databunch(bs=44))\n",
    "\n",
    "data_lm.save('lm-tokens')\n"
   ]
  },
  {
   "cell_type": "code",
   "execution_count": 43,
   "metadata": {
    "nbpresent": {
     "id": "39fbfb38-4f07-48f2-b0f0-dba1f7405d4d"
    }
   },
   "outputs": [
    {
     "data": {
      "text/html": [
       "<table>  <col width='5%'>  <col width='95%'>  <tr>\n",
       "    <th>idx</th>\n",
       "    <th>text</th>\n",
       "  </tr>\n",
       "  <tr>\n",
       "    <th>0</th>\n",
       "    <th>xxbos in case you missed it : the @ ephcc was named the texas small chamber of the year & amp ; as the u.s . chamber of the year ! … xxbos i encourage everyone to watch senator @ randpaul discuss the current spending bill on the senate floor right now . su … xxbos we helped az seniors protect themselves from financial fraud at our # seniorsafe event . protect yourself from financ … xxbos representatives of @ liuna from nj emphasized pressing issues for american workers and infrastructure ’ s ability to</th>\n",
       "  </tr>\n",
       "  <tr>\n",
       "    <th>1</th>\n",
       "    <th>the … xxbos # trump 's great wall is a wall of debt . @ xxunk # sotu xxbos @ voices4service : “ we should continue to make national service more accessible to the millions of americans who want to serve their count … xxbos @ usmc : honor the fallen tuesday we lost four marines from @ xxunk during a training exercise in california . capt samuel a. schultz of … xxbos @ replloyddoggett : since 2006 , the average cost for a year of medication for someone with a chronic disease has more</th>\n",
       "  </tr>\n",
       "  <tr>\n",
       "    <th>2</th>\n",
       "    <th>surging economic optimism '' # taxreform xxbos time ’ s running out ! high school across the hv are encouraged to submit their work to the congressional xxbos i look forward to joining @ vp pence today in detroit to talk about how the tax cuts are benefitting michigan worker … xxbos @ xxunk : us trade deficits vs. us household net 1970 to 2017 , they ' ve risen in xxunk over the last half - century . … xxbos @ xxunk : `` the moment is long overdue for el salvador , the</th>\n",
       "  </tr>\n",
       "  <tr>\n",
       "    <th>3</th>\n",
       "    <th>a shutdown . today , he 's the one xxunk … xxbos wishing everyone a very happy 2018 . all the best always ! ! ! xxrep 7 — xxunk un feliz 2018 . todo lo mejor en este … xxbos “ we all share the same great american flag ” # sotu 🇺 🇸 🇺 🇸 xxbos @ govwaste : congrats @ repscottperry for being named a “ taxpayer super hero ” - thank you for your hard work ! xxbos it was great to sit down with a # mi11 constituent , troy</th>\n",
       "  </tr>\n",
       "  <tr>\n",
       "    <th>4</th>\n",
       "    <th>the free flow of ideas is necessary for our economy to thrive . our internet providers should not be able to limit o … xxbos the image of america fellow americans is not something this country or the gop want to see unfolding ever … xxbos @ nancypelosi : today , we announce an ambitious new addition to our plan to give america # abetterdeal . xxbos 95 percent of the gains in the last few years have gone to the top 1 percent . xxbos this morning i joined a forum hosted by @</th>\n",
       "  </tr>\n",
       "</table>\n"
      ],
      "text/plain": [
       "<IPython.core.display.HTML object>"
      ]
     },
     "metadata": {},
     "output_type": "display_data"
    }
   ],
   "source": [
    "data_lm.show_batch(rows=5)"
   ]
  },
  {
   "cell_type": "markdown",
   "metadata": {},
   "source": [
    "### Train a language model to predict the next word"
   ]
  },
  {
   "cell_type": "code",
   "execution_count": 48,
   "metadata": {},
   "outputs": [
    {
     "name": "stdout",
     "output_type": "stream",
     "text": [
      "Total time: 01:59\n",
      "epoch  train_loss  valid_loss  accuracy\n",
      "1      5.072789    4.787429    0.234515  (00:40)\n",
      "2      4.684464    4.498495    0.267515  (00:39)\n",
      "3      4.596628    4.465510    0.270697  (00:40)\n",
      "\n"
     ]
    }
   ],
   "source": [
    "#learn = language_model_learner(data_lm, pretrained_model=URLs.WT103, drop_mult=0.3)\n",
    "learn = language_model_learner(data_lm, pretrained_model=URLs.WT103, drop_mult=0.25)\n",
    "learn.fit_one_cycle(3, 1e-3, moms=(0.8,0.7))"
   ]
  },
  {
   "cell_type": "code",
   "execution_count": 49,
   "metadata": {},
   "outputs": [
    {
     "name": "stdout",
     "output_type": "stream",
     "text": [
      "LR Finder is complete, type {learner_name}.recorder.plot() to see the graph.\n"
     ]
    },
    {
     "data": {
      "image/png": "[encoded data removed]",
      "text/plain": [
       "<Figure size 432x288 with 1 Axes>"
      ]
     },
     "metadata": {
      "needs_background": "light"
     },
     "output_type": "display_data"
    }
   ],
   "source": [
    "learn.lr_find()\n",
    "learn.recorder.plot(skip_end=15)"
   ]
  },
  {
   "cell_type": "code",
   "execution_count": 50,
   "metadata": {},
   "outputs": [
    {
     "name": "stdout",
     "output_type": "stream",
     "text": [
      "Total time: 07:49\n",
      "epoch  train_loss  valid_loss  accuracy\n",
      "1      4.288502    4.147059    0.306274  (00:46)\n",
      "2      4.058426    3.961607    0.325709  (00:46)\n",
      "3      3.880060    3.820597    0.338716  (00:46)\n",
      "4      3.714250    3.722916    0.349668  (00:46)\n",
      "5      3.549821    3.667458    0.357371  (00:46)\n",
      "6      3.408917    3.625586    0.362391  (00:47)\n",
      "7      3.298213    3.612828    0.364922  (00:46)\n",
      "8      3.168557    3.608951    0.366264  (00:46)\n",
      "9      3.110087    3.610060    0.366767  (00:47)\n",
      "10     3.088340    3.614610    0.366696  (00:47)\n",
      "\n"
     ]
    }
   ],
   "source": [
    "learn.unfreeze()\n",
    "learn.fit_one_cycle(10, 1e-3, moms=(0.8, 0.7))"
   ]
  },
  {
   "cell_type": "code",
   "execution_count": 51,
   "metadata": {},
   "outputs": [],
   "source": [
    "learn.save('fine_tuned')\n",
    "learn.load('fine_tuned');\n",
    "learn.save_encoder('fine_tuned_enc')\n"
   ]
  },
  {
   "cell_type": "markdown",
   "metadata": {},
   "source": [
    "### Let us try to predict what a politician (democrat or republican) might tweet or text for a given statment or topic"
   ]
  },
  {
   "cell_type": "code",
   "execution_count": 57,
   "metadata": {},
   "outputs": [
    {
     "name": "stdout",
     "output_type": "stream",
     "text": [
      "Total time: 00:00\n",
      "\n",
      "Hillary clinton election strongly against the united states that other things to the\n",
      "US 2016 election rules at the survivors natresources , in negotiations . the team\n"
     ]
    }
   ],
   "source": [
    "def postProcess(str):\n",
    "    return ' '.join(preprocess(str))\n",
    "\n",
    "A = (str(learn.predict(\"Hillary clinton election\", 10)))\n",
    "B  =(str(learn.predict(\"US 2016 election\", 11)))\n",
    "print (A)\n",
    "print (B)"
   ]
  },
  {
   "cell_type": "markdown",
   "metadata": {},
   "source": [
    "### Filter the tweets and LIAR dataset to only statements from republican party affliated people\n",
    "### Retrain the model using only republican text. Transfer learn on top of wikipedia set."
   ]
  },
  {
   "cell_type": "code",
   "execution_count": 72,
   "metadata": {},
   "outputs": [],
   "source": [
    "republican_text = tweets[tweets.Party == 'Republican'].Tweet.tolist() + liar_train_df[liar_train_df.affliation == 'republican'].statement.tolist()\n",
    "r_text_data_frame = pd.DataFrame(pd.Series([processTweet(x) for x in republican_text]))\n",
    "r_text_data_frame.columns = ['processed_statement']\n",
    "PATH= Path()\n",
    "r_data_lm = (TextList.from_df(r_text_data_frame, PATH, cols=['processed_statement']) \n",
    "          .random_split_by_pct(0.2)\n",
    "          .label_for_lm() # this does the tokenization and numericalization\n",
    "          .databunch(bs=42))\n",
    "\n",
    "r_data_lm.save('r_lm-tokens')"
   ]
  },
  {
   "cell_type": "code",
   "execution_count": 73,
   "metadata": {},
   "outputs": [
    {
     "data": {
      "text/html": [
       "<table>  <col width='5%'>  <col width='95%'>  <tr>\n",
       "    <th>idx</th>\n",
       "    <th>text</th>\n",
       "  </tr>\n",
       "  <tr>\n",
       "    <th>0</th>\n",
       "    <th>xxbos president @ realdonaldtrump levels the playing field in the skies ending qatar 's unfair practices that american … xxbos last night , i voted to keep the government open & amp ; extend child health insurance for 6 years for xxunk kids in hood ri … xxbos @ housegop : good news → this is the last year you will ever have to file your taxes with our old , outdated , and broken tax code . who else … xxbos @ xxunk : large incident in the area of xxunk and hill .</th>\n",
       "  </tr>\n",
       "  <tr>\n",
       "    <th>1</th>\n",
       "    <th>encourage your students to # xxunk … xxbos in march , the u.s . secretary of agriculture sonny perdue announced that the usda is taking action to assist our xxunk … xxbos hey @ xxunk : i ’ m finally xxunk you ! your beautiful family is of xxunk . thanks for saying hi ! xxbos appreciation your unwavering to ensure safety issues to flight xxunk are heard & amp ; address … xxbos 7 . buyout homes xxunk beyond repair . i homeowners ' decisions to pursue a buyout and will work with my</th>\n",
       "  </tr>\n",
       "  <tr>\n",
       "    <th>2</th>\n",
       "    <th>i was honored to host one of my favorite events of the year , my annual reception to honor local student … xxbos i was not on the train to west virginia today . my thoughts and prayers are with all those affected by today ’ s accident . xxbos @ xxunk : watch bob xxunk of xxunk member contractor @ des_electronic testify before @ housesmallbiz on american # infrastructure and th … xxbos speaking w / @ khqa about korea and how tax reform will help the hardworking families of our district . xxbos</th>\n",
       "  </tr>\n",
       "  <tr>\n",
       "    <th>3</th>\n",
       "    <th>than to visit these presidential places in # il16 : 🏠 xxunk home of # reagan in # d … xxbos happy new year ! i hope everyone in # ga12 has a blessed 2018 . xxbos i ve gotten to see the that they did on you . and i ve gotten to see some of the most vicious i ve ever seen of michelle obama talking about you , hillary . xxbos in february , your paycheck may have seen a boost thanks to # taxreform . did you # checkyourcheck ? take</th>\n",
       "  </tr>\n",
       "  <tr>\n",
       "    <th>4</th>\n",
       "    <th>’ m thankful to god for my wonderful family and friends who xxunk each day , for my amazing staff who make my work a joy … xxbos icymi : debuts “ personal stories from the opioid crisis ” video series in conjunction with today ’ s # fullcmt … xxbos discussing the music modernization act with songwriters from the @ xxunk . thanks for stopping by and performing so … xxbos i recently co - sponsored the rural broadband permitting efficiency act . this legislation makes the process … xxbos @ xxunk : .</th>\n",
       "  </tr>\n",
       "  <tr>\n",
       "    <th>5</th>\n",
       "    <th>submit your original work of for the congressional xxbos outstanding meeting in my office with large group of retired nassau county xxunk in washington to xxbos more than 100 already promised bonuses , raises and investments since # taxreform was signed into law less … xxbos # us adds 164k jobs and unemployment rate xxunk to 3.9 % . # smallbusinesses are leading the charge throughout our nati … xxbos says hillary xxunk that when the progressive agenda xxunk religious beliefs to the contrary , those beliefs have to be changed . xxbos @ waysandmeansgop</th>\n",
       "  </tr>\n",
       "  <tr>\n",
       "    <th>6</th>\n",
       "    <th>and ally , spain , especially upon today 's terrorist attack in barcelona . # xxunk xxbos we are all saddened to hear about the # xxunk band bus crash in south # alabama earlier today . let ’ s keep all … xxbos lk “ the shift away from full - time employment by many employers has created lasting effects for the avg . # millennial '' # gopfuture xxbos more good news . this time in the form of $ 15 minimum hourly wage . xxbos says president franklin xxunk roosevelt sent his</th>\n",
       "  </tr>\n",
       "  <tr>\n",
       "    <th>7</th>\n",
       "    <th>ischua # townhall . looking forward to bringing your ideas back to washington . # ny23 xxbos @ gopleader : the house and senate have agreed to a unified tax plan , and we ’ ll deliver it to the president ’ s desk just in time for christ … xxbos @ xxunk : jim bridenstine is sworn - in as @ nasa ’ s 13th administrator by @ vp pence . check out the first pictures - xxbos @ xxunk : proud of the u.s . center for and ceo xxunk xxunk for receiving</th>\n",
       "  </tr>\n",
       "  <tr>\n",
       "    <th>8</th>\n",
       "    <th>duty of a patriot is to protect his country from his government . xxbos 🚨 breaking 🚨 royal , va ( april 26 , 1865 ) xxunk lincoln xxunk john wilkes xxunk refuses to surrender at xxunk … xxbos @ foxbusiness : . @ speakerryan visits catholic charities to `` discuss workforce development and strategies for effectively xxunk … xxbos says as indiana governor , he has made record investments in education . xxbos anyone who voted to shut down the government voted against chip funding , funding our military and the best interest …</th>\n",
       "  </tr>\n",
       "  <tr>\n",
       "    <th>9</th>\n",
       "    <th>i can not , in good conscience , accept my salary while @ senatedems refuse to pay our brave men and women in uniform - … xxbos “ you drive my body back to east bend , xxunk county in my red truck ! ” we will miss “ pastor ed ” but his legacy for j … xxbos my staff is to you cedarville on tuesday , may 8th , from xxunk at cedarville public library . learn m … xxbos thank you to the brave men and women deployed to defend our country</th>\n",
       "  </tr>\n",
       "</table>\n"
      ],
      "text/plain": [
       "<IPython.core.display.HTML object>"
      ]
     },
     "metadata": {},
     "output_type": "display_data"
    }
   ],
   "source": []
  },
  {
   "cell_type": "code",
   "execution_count": 75,
   "metadata": {},
   "outputs": [
    {
     "name": "stdout",
     "output_type": "stream",
     "text": [
      "Total time: 00:55\n",
      "epoch  train_loss  valid_loss  accuracy\n",
      "1      5.443854    5.008534    0.209033  (00:18)\n",
      "2      4.776983    4.553791    0.247067  (00:18)\n",
      "3      4.668648    4.509846    0.253336  (00:18)\n",
      "\n"
     ]
    }
   ],
   "source": [
    "republican_learn = language_model_learner(r_data_lm, pretrained_model=URLs.WT103, drop_mult=0.25)\n",
    "republican_learn.fit_one_cycle(3, 1e-3, moms=(0.8,0.7))"
   ]
  },
  {
   "cell_type": "raw",
   "metadata": {},
   "source": [
    "A = (str(republican_learn.predict(\"Hillary clinton election\", 10)))\n",
    "B  =(str(republican_learn.predict(\"US 2016 election\", 11)))\n",
    "print (A)\n",
    "print(B)"
   ]
  },
  {
   "cell_type": "markdown",
   "metadata": {},
   "source": [
    "## Let us try to predict what a republican party member would tweet or say for hillary clinton emails using the generative Language model"
   ]
  },
  {
   "cell_type": "code",
   "execution_count": 81,
   "metadata": {},
   "outputs": [
    {
     "name": "stdout",
     "output_type": "stream",
     "text": [
      "Total time: 00:05\n",
      "\n",
      "Hillary clinton emails from graduation , is an hour the town hall of the braves by 7 pm – major bus ef\n",
      "US 2016 election began to a victory panel to the economy of the end of two years at the traditional di\n"
     ]
    }
   ],
   "source": [
    "A = (str(republican_learn.predict(\"Hillary clinton emails\", 100)))\n",
    "B  =(str(republican_learn.predict(\"US 2016 election\", 100)))\n",
    "i = 0\n",
    "for t in A.split():\n",
    "    if t != '.':\n",
    "        i+=1\n",
    "    else:\n",
    "        continue\n",
    "print (A[:i])\n",
    "i = 0\n",
    "for t in B.split():\n",
    "    if t != '.':\n",
    "        i+=1\n",
    "    else:\n",
    "        continue\n",
    "print (B[:i])"
   ]
  },
  {
   "cell_type": "markdown",
   "metadata": {},
   "source": [
    "## From the above examples, we can see we do not have sufficient data to generate a text to predict what a politician might say."
   ]
  },
  {
   "cell_type": "markdown",
   "metadata": {},
   "source": [
    "# Section (3): Party Affliation Factor into the final polynomial"
   ]
  },
  {
   "cell_type": "markdown",
   "metadata": {},
   "source": [
    "Datasets used:\n",
    "1. LIAR LIAR dataset\n",
    "Packages used\n",
    "    1. scikit learn\n",
    "    2. pandas \n",
    "    3. fast ai for predicting fake news or not\n",
    "    4. gensim to get embeddings"
   ]
  },
  {
   "cell_type": "code",
   "execution_count": 72,
   "metadata": {},
   "outputs": [
    {
     "name": "stdout",
     "output_type": "stream",
     "text": [
      "14\n",
      "[array([ 0.189222,  0.14012 ,  0.108497,  0.057371,  0.055451, -0.116702,  0.167048, -0.265321,  0.177161,  0.107023],\n",
      "      dtype=float32)]\n"
     ]
    }
   ],
   "source": [
    "import pandas as pd\n",
    "headers = ['id','label','statement','subject',\n",
    "           'speaker','job_title', 'state', \n",
    "           'affliation','barely_true','false',\n",
    "           'half_true', 'mostly_true','pants_on_fire', \n",
    "           'venue']\n",
    "print (len(headers))\n",
    "liar_train_df = pd.read_csv('train.tsv', names=headers, delimiter='\\t')\n",
    "liar_valid_df = pd.read_csv('valid.tsv', names=headers, delimiter='\\t')\n",
    "liar_test_df = pd.read_csv('test.tsv',names=headers, delimiter='\\t')\n",
    "from gensim.models.doc2vec import Doc2Vec, TaggedDocument\n",
    "from nltk.tokenize import word_tokenize\n",
    "text = \"obama supports third trimester abortion\"\n",
    "dvmodel= Doc2Vec.load(\"d2v1.model\") ### Using a earlier trained model d2v.model \n",
    "test_sentence= [dvmodel.infer_vector(word_tokenize(text))]\n",
    "print (test_sentence)"
   ]
  },
  {
   "cell_type": "code",
   "execution_count": 73,
   "metadata": {},
   "outputs": [],
   "source": [
    "statements = liar_train_df.statement.tolist()\n",
    "statements_wv = [dvmodel.infer_vector(word_tokenize(x)) for x in statements]"
   ]
  },
  {
   "cell_type": "code",
   "execution_count": 74,
   "metadata": {},
   "outputs": [],
   "source": [
    "dataframe = pd.DataFrame(statements_wv)\n",
    "#dataframe['affliation'] = pd.Series(tr_affliation)\n",
    "dataframe['state'] = pd.Series(train_df.state)\n",
    "dataframe['job_title'] = pd.Series(train_df.job_title)\n",
    "dataframe['venue'] = pd.Series(train_df.venue)\n",
    "dataframe.columns=['0','1','2','3','4','5','6','7','8','9','state','job_title','venue']\n",
    "dataframe['label'] = pd.Series(train_df.label)"
   ]
  },
  {
   "cell_type": "code",
   "execution_count": 75,
   "metadata": {},
   "outputs": [
    {
     "data": {
      "text/html": [
       "<div>\n",
       "<style scoped>\n",
       "    .dataframe tbody tr th:only-of-type {\n",
       "        vertical-align: middle;\n",
       "    }\n",
       "\n",
       "    .dataframe tbody tr th {\n",
       "        vertical-align: top;\n",
       "    }\n",
       "\n",
       "    .dataframe thead th {\n",
       "        text-align: right;\n",
       "    }\n",
       "</style>\n",
       "<table border=\"1\" class=\"dataframe\">\n",
       "  <thead>\n",
       "    <tr style=\"text-align: right;\">\n",
       "      <th></th>\n",
       "      <th>0</th>\n",
       "      <th>1</th>\n",
       "      <th>2</th>\n",
       "      <th>3</th>\n",
       "      <th>4</th>\n",
       "      <th>5</th>\n",
       "      <th>6</th>\n",
       "      <th>7</th>\n",
       "      <th>8</th>\n",
       "      <th>9</th>\n",
       "      <th>state</th>\n",
       "      <th>job_title</th>\n",
       "      <th>venue</th>\n",
       "      <th>label</th>\n",
       "    </tr>\n",
       "  </thead>\n",
       "  <tbody>\n",
       "    <tr>\n",
       "      <th>0</th>\n",
       "      <td>0.353442</td>\n",
       "      <td>-0.151065</td>\n",
       "      <td>-0.047734</td>\n",
       "      <td>0.085028</td>\n",
       "      <td>0.052060</td>\n",
       "      <td>-0.296136</td>\n",
       "      <td>0.194288</td>\n",
       "      <td>0.056894</td>\n",
       "      <td>0.170815</td>\n",
       "      <td>0.222798</td>\n",
       "      <td>Texas</td>\n",
       "      <td>State representative</td>\n",
       "      <td>a mailer</td>\n",
       "      <td>false</td>\n",
       "    </tr>\n",
       "    <tr>\n",
       "      <th>1</th>\n",
       "      <td>-0.481504</td>\n",
       "      <td>0.054952</td>\n",
       "      <td>1.132460</td>\n",
       "      <td>0.396545</td>\n",
       "      <td>-0.134182</td>\n",
       "      <td>-0.448788</td>\n",
       "      <td>-0.106576</td>\n",
       "      <td>0.542309</td>\n",
       "      <td>0.014873</td>\n",
       "      <td>-0.026020</td>\n",
       "      <td>Virginia</td>\n",
       "      <td>State delegate</td>\n",
       "      <td>a floor speech.</td>\n",
       "      <td>half-true</td>\n",
       "    </tr>\n",
       "    <tr>\n",
       "      <th>2</th>\n",
       "      <td>0.265236</td>\n",
       "      <td>-0.515742</td>\n",
       "      <td>0.372294</td>\n",
       "      <td>0.074474</td>\n",
       "      <td>0.508422</td>\n",
       "      <td>-0.671389</td>\n",
       "      <td>0.062859</td>\n",
       "      <td>-0.026645</td>\n",
       "      <td>0.185968</td>\n",
       "      <td>-0.020054</td>\n",
       "      <td>Illinois</td>\n",
       "      <td>President</td>\n",
       "      <td>Denver</td>\n",
       "      <td>mostly-true</td>\n",
       "    </tr>\n",
       "    <tr>\n",
       "      <th>3</th>\n",
       "      <td>0.664535</td>\n",
       "      <td>-0.269978</td>\n",
       "      <td>-0.097558</td>\n",
       "      <td>0.121104</td>\n",
       "      <td>-0.175342</td>\n",
       "      <td>-0.192841</td>\n",
       "      <td>0.195045</td>\n",
       "      <td>0.171830</td>\n",
       "      <td>-0.250752</td>\n",
       "      <td>0.142936</td>\n",
       "      <td>NaN</td>\n",
       "      <td>NaN</td>\n",
       "      <td>a news release</td>\n",
       "      <td>false</td>\n",
       "    </tr>\n",
       "    <tr>\n",
       "      <th>4</th>\n",
       "      <td>0.123623</td>\n",
       "      <td>0.050471</td>\n",
       "      <td>0.357681</td>\n",
       "      <td>0.222659</td>\n",
       "      <td>-0.094258</td>\n",
       "      <td>-0.346482</td>\n",
       "      <td>-0.035021</td>\n",
       "      <td>0.133264</td>\n",
       "      <td>0.042064</td>\n",
       "      <td>-0.060985</td>\n",
       "      <td>Florida</td>\n",
       "      <td>NaN</td>\n",
       "      <td>an interview on CNN</td>\n",
       "      <td>half-true</td>\n",
       "    </tr>\n",
       "  </tbody>\n",
       "</table>\n",
       "</div>"
      ],
      "text/plain": [
       "          0         1         2         3         4         5         6  \\\n",
       "0  0.353442 -0.151065 -0.047734  0.085028  0.052060 -0.296136  0.194288   \n",
       "1 -0.481504  0.054952  1.132460  0.396545 -0.134182 -0.448788 -0.106576   \n",
       "2  0.265236 -0.515742  0.372294  0.074474  0.508422 -0.671389  0.062859   \n",
       "3  0.664535 -0.269978 -0.097558  0.121104 -0.175342 -0.192841  0.195045   \n",
       "4  0.123623  0.050471  0.357681  0.222659 -0.094258 -0.346482 -0.035021   \n",
       "\n",
       "          7         8         9     state             job_title  \\\n",
       "0  0.056894  0.170815  0.222798     Texas  State representative   \n",
       "1  0.542309  0.014873 -0.026020  Virginia        State delegate   \n",
       "2 -0.026645  0.185968 -0.020054  Illinois             President   \n",
       "3  0.171830 -0.250752  0.142936       NaN                   NaN   \n",
       "4  0.133264  0.042064 -0.060985   Florida                   NaN   \n",
       "\n",
       "                 venue        label  \n",
       "0             a mailer        false  \n",
       "1      a floor speech.    half-true  \n",
       "2               Denver  mostly-true  \n",
       "3       a news release        false  \n",
       "4  an interview on CNN    half-true  "
      ]
     },
     "execution_count": 75,
     "metadata": {},
     "output_type": "execute_result"
    }
   ],
   "source": [
    "dataframe.head()"
   ]
  },
  {
   "cell_type": "code",
   "execution_count": 76,
   "metadata": {},
   "outputs": [],
   "source": [
    "#learn.load(\"NN_model_to_predict_political_Affliation\")\n",
    "party_affliation_vector =[]\n",
    "prediction =[]\n",
    "\n",
    "for i in range(0,len(dataframe)):\n",
    "    inference = learn.predict(dataframe.iloc[i])\n",
    "    prediction.append(inference[0])\n",
    "    party_affliation_vector.append(inference[2])\n",
    "    \n"
   ]
  },
  {
   "cell_type": "code",
   "execution_count": 77,
   "metadata": {},
   "outputs": [],
   "source": [
    "import numpy as np\n",
    "party_affliation_vector_for_polynomial= []\n",
    "vector_for_polynomial = []\n",
    "for vector in party_affliation_vector:\n",
    "    v =[]\n",
    "    for i in vector:\n",
    "        a = float(i)\n",
    "        v.append(a)\n",
    "    vector_for_polynomial.append(v)\n"
   ]
  },
  {
   "cell_type": "code",
   "execution_count": 78,
   "metadata": {},
   "outputs": [
    {
     "data": {
      "text/html": [
       "<div>\n",
       "<style scoped>\n",
       "    .dataframe tbody tr th:only-of-type {\n",
       "        vertical-align: middle;\n",
       "    }\n",
       "\n",
       "    .dataframe tbody tr th {\n",
       "        vertical-align: top;\n",
       "    }\n",
       "\n",
       "    .dataframe thead th {\n",
       "        text-align: right;\n",
       "    }\n",
       "</style>\n",
       "<table border=\"1\" class=\"dataframe\">\n",
       "  <thead>\n",
       "    <tr style=\"text-align: right;\">\n",
       "      <th></th>\n",
       "      <th>confidence_republican</th>\n",
       "      <th>confidence_democrat</th>\n",
       "      <th>confidence_no_affliation</th>\n",
       "      <th>confidence_other</th>\n",
       "      <th>ground_truth</th>\n",
       "      <th>predicted_party</th>\n",
       "    </tr>\n",
       "  </thead>\n",
       "  <tbody>\n",
       "    <tr>\n",
       "      <th>0</th>\n",
       "      <td>0.932888</td>\n",
       "      <td>0.050111</td>\n",
       "      <td>0.008515</td>\n",
       "      <td>0.008485</td>\n",
       "      <td>republican</td>\n",
       "      <td>republican</td>\n",
       "    </tr>\n",
       "    <tr>\n",
       "      <th>1</th>\n",
       "      <td>0.026435</td>\n",
       "      <td>0.947220</td>\n",
       "      <td>0.012101</td>\n",
       "      <td>0.014244</td>\n",
       "      <td>democrat</td>\n",
       "      <td>democrat</td>\n",
       "    </tr>\n",
       "    <tr>\n",
       "      <th>2</th>\n",
       "      <td>0.005547</td>\n",
       "      <td>0.977089</td>\n",
       "      <td>0.008411</td>\n",
       "      <td>0.008953</td>\n",
       "      <td>democrat</td>\n",
       "      <td>democrat</td>\n",
       "    </tr>\n",
       "    <tr>\n",
       "      <th>3</th>\n",
       "      <td>0.374769</td>\n",
       "      <td>0.335601</td>\n",
       "      <td>0.204224</td>\n",
       "      <td>0.085406</td>\n",
       "      <td>none</td>\n",
       "      <td>republican</td>\n",
       "    </tr>\n",
       "    <tr>\n",
       "      <th>4</th>\n",
       "      <td>0.269246</td>\n",
       "      <td>0.610439</td>\n",
       "      <td>0.066161</td>\n",
       "      <td>0.054153</td>\n",
       "      <td>democrat</td>\n",
       "      <td>democrat</td>\n",
       "    </tr>\n",
       "  </tbody>\n",
       "</table>\n",
       "</div>"
      ],
      "text/plain": [
       "   confidence_republican  confidence_democrat  confidence_no_affliation  \\\n",
       "0               0.932888             0.050111                  0.008515   \n",
       "1               0.026435             0.947220                  0.012101   \n",
       "2               0.005547             0.977089                  0.008411   \n",
       "3               0.374769             0.335601                  0.204224   \n",
       "4               0.269246             0.610439                  0.066161   \n",
       "\n",
       "   confidence_other ground_truth predicted_party  \n",
       "0          0.008485   republican      republican  \n",
       "1          0.014244     democrat        democrat  \n",
       "2          0.008953     democrat        democrat  \n",
       "3          0.085406         none      republican  \n",
       "4          0.054153     democrat        democrat  "
      ]
     },
     "execution_count": 78,
     "metadata": {},
     "output_type": "execute_result"
    }
   ],
   "source": [
    "training_data_for_polynomia_weights = pd.DataFrame(vector_for_polynomial)\n",
    "training_data_for_polynomia_weights.columns = ['confidence_republican','confidence_democrat','confidence_no_affliation','confidence_other']\n",
    "## ignore this field for training. \n",
    "training_data_for_polynomia_weights['ground_truth'] = pd.Series(train_df.affliation)\n",
    "## add prediction\n",
    "training_data_for_polynomia_weights['predicted_party'] = pd.Series(prediction) \n",
    "training_data_for_polynomia_weights.head()\n"
   ]
  },
  {
   "cell_type": "code",
   "execution_count": 79,
   "metadata": {},
   "outputs": [
    {
     "data": {
      "text/html": [
       "<div>\n",
       "<style scoped>\n",
       "    .dataframe tbody tr th:only-of-type {\n",
       "        vertical-align: middle;\n",
       "    }\n",
       "\n",
       "    .dataframe tbody tr th {\n",
       "        vertical-align: top;\n",
       "    }\n",
       "\n",
       "    .dataframe thead th {\n",
       "        text-align: right;\n",
       "    }\n",
       "</style>\n",
       "<table border=\"1\" class=\"dataframe\">\n",
       "  <thead>\n",
       "    <tr style=\"text-align: right;\">\n",
       "      <th></th>\n",
       "      <th>confidence_republican</th>\n",
       "      <th>confidence_democrat</th>\n",
       "      <th>confidence_no_affliation</th>\n",
       "      <th>confidence_other</th>\n",
       "      <th>ground_truth</th>\n",
       "      <th>predicted_party</th>\n",
       "      <th>fake_news_label</th>\n",
       "    </tr>\n",
       "  </thead>\n",
       "  <tbody>\n",
       "    <tr>\n",
       "      <th>0</th>\n",
       "      <td>0.932888</td>\n",
       "      <td>0.050111</td>\n",
       "      <td>0.008515</td>\n",
       "      <td>0.008485</td>\n",
       "      <td>republican</td>\n",
       "      <td>republican</td>\n",
       "      <td>false</td>\n",
       "    </tr>\n",
       "    <tr>\n",
       "      <th>1</th>\n",
       "      <td>0.026435</td>\n",
       "      <td>0.947220</td>\n",
       "      <td>0.012101</td>\n",
       "      <td>0.014244</td>\n",
       "      <td>democrat</td>\n",
       "      <td>democrat</td>\n",
       "      <td>half-true</td>\n",
       "    </tr>\n",
       "    <tr>\n",
       "      <th>2</th>\n",
       "      <td>0.005547</td>\n",
       "      <td>0.977089</td>\n",
       "      <td>0.008411</td>\n",
       "      <td>0.008953</td>\n",
       "      <td>democrat</td>\n",
       "      <td>democrat</td>\n",
       "      <td>mostly-true</td>\n",
       "    </tr>\n",
       "    <tr>\n",
       "      <th>3</th>\n",
       "      <td>0.374769</td>\n",
       "      <td>0.335601</td>\n",
       "      <td>0.204224</td>\n",
       "      <td>0.085406</td>\n",
       "      <td>none</td>\n",
       "      <td>republican</td>\n",
       "      <td>false</td>\n",
       "    </tr>\n",
       "    <tr>\n",
       "      <th>4</th>\n",
       "      <td>0.269246</td>\n",
       "      <td>0.610439</td>\n",
       "      <td>0.066161</td>\n",
       "      <td>0.054153</td>\n",
       "      <td>democrat</td>\n",
       "      <td>democrat</td>\n",
       "      <td>half-true</td>\n",
       "    </tr>\n",
       "  </tbody>\n",
       "</table>\n",
       "</div>"
      ],
      "text/plain": [
       "   confidence_republican  confidence_democrat  confidence_no_affliation  \\\n",
       "0               0.932888             0.050111                  0.008515   \n",
       "1               0.026435             0.947220                  0.012101   \n",
       "2               0.005547             0.977089                  0.008411   \n",
       "3               0.374769             0.335601                  0.204224   \n",
       "4               0.269246             0.610439                  0.066161   \n",
       "\n",
       "   confidence_other ground_truth predicted_party fake_news_label  \n",
       "0          0.008485   republican      republican           false  \n",
       "1          0.014244     democrat        democrat       half-true  \n",
       "2          0.008953     democrat        democrat     mostly-true  \n",
       "3          0.085406         none      republican           false  \n",
       "4          0.054153     democrat        democrat       half-true  "
      ]
     },
     "execution_count": 79,
     "metadata": {},
     "output_type": "execute_result"
    }
   ],
   "source": [
    "training_data_for_polynomia_weights['fake_news_label'] = pd.Series(train_df.label)\n",
    "training_data_for_polynomia_weights.head()"
   ]
  },
  {
   "cell_type": "markdown",
   "metadata": {},
   "source": [
    "# 1 <- true factual news (true , mostly true, half true)\n",
    "# 2 <- fake news (false, barely true)"
   ]
  },
  {
   "cell_type": "code",
   "execution_count": 83,
   "metadata": {},
   "outputs": [],
   "source": [
    "training_data_for_polynomia_weights['label'] = training_data_for_polynomia_weights.fake_news_label.apply(lambda x: 0 if ('barely' in str(x) or 'false' in str(x) )else 1)\n",
    "training_data_for_polynomia_weights.head()\n",
    "\n",
    "training_data_for_polynomia_weights.to_csv('Party_Affliation_Factors_for_predicting_fake_news.csv')"
   ]
  },
  {
   "cell_type": "code",
   "execution_count": 81,
   "metadata": {},
   "outputs": [],
   "source": [
    "features = ['confidence_republican', 'confidence_democrat', 'confidence_no_affliation', 'confidence_other']\n",
    "X = training_data_for_polynomia_weights[features]\n",
    "Y = training_data_for_polynomia_weights[['label']]\n",
    "from sklearn import preprocessing\n",
    "scaler = preprocessing.MinMaxScaler()\n",
    "X = X.fillna(0);\n",
    "Y = Y.fillna(0);\n",
    "scaled_X = scaler.fit_transform(X)\n",
    "scaled_Y = scaler.fit_transform(Y)"
   ]
  },
  {
   "cell_type": "code",
   "execution_count": 82,
   "metadata": {},
   "outputs": [
    {
     "name": "stdout",
     "output_type": "stream",
     "text": [
      "[LibLinear]LogisticRegression(C=1.0, class_weight=None, dual=False, fit_intercept=True,\n",
      "          intercept_scaling=1, max_iter=100, multi_class='ovr', n_jobs=1,\n",
      "          penalty='l2', random_state=None, solver='liblinear', tol=0.0001,\n",
      "          verbose=1, warm_start=False)\n",
      "Score: 0.6123046875\n"
     ]
    },
    {
     "name": "stderr",
     "output_type": "stream",
     "text": [
      "/opt/anaconda3/lib/python3.7/site-packages/sklearn/utils/validation.py:578: DataConversionWarning: A column-vector y was passed when a 1d array was expected. Please change the shape of y to (n_samples, ), for example using ravel().\n",
      "  y = column_or_1d(y, warn=True)\n"
     ]
    }
   ],
   "source": [
    "from sklearn.model_selection import train_test_split\n",
    "from sklearn import linear_model\n",
    "X_train, X_test, y_train, y_test = train_test_split(scaled_X, scaled_Y, test_size=0.1, random_state=0)\n",
    "lm = linear_model.LogisticRegression(verbose=1)\n",
    "model = lm.fit(X_train, y_train)\n",
    "print (model)\n",
    "predictions = lm.predict(X_test)\n",
    "\n",
    "print (\"Score:\", model.score(X_test, y_test))"
   ]
  },
  {
   "cell_type": "markdown",
   "metadata": {},
   "source": [
    "## Let us look into the coefficients of the Logistic regression output and use that to compute weights for the polynomial"
   ]
  },
  {
   "cell_type": "code",
   "execution_count": 85,
   "metadata": {},
   "outputs": [
    {
     "name": "stdout",
     "output_type": "stream",
     "text": [
      "LR coefficient confidence_republican -0.17195769426259397\n",
      "LR coefficient confidence_democrat 0.4089747355113832\n",
      "LR coefficient confidence_no_affliation 0.14035486876780864\n",
      "LR coefficient confidence_other 0.14944777274973786\n"
     ]
    }
   ],
   "source": [
    "coefficient = []\n",
    "sum = 0.0\n",
    "for i in range(0,len(model.coef_[0])):\n",
    "    print (\"LR coefficient\", training_data_for_polynomia_weights.columns[i], model.coef_[0][i])\n",
    "    sum += model.coef_[0][i]\n",
    "    coefficient.append(model.coef_[0][i])\n",
    "    "
   ]
  },
  {
   "cell_type": "markdown",
   "metadata": {},
   "source": [
    "### normalize these LR coefficients"
   ]
  },
  {
   "cell_type": "code",
   "execution_count": 86,
   "metadata": {},
   "outputs": [
    {
     "name": "stdout",
     "output_type": "stream",
     "text": [
      "(factual or Fake news) Weight for the given affliation  _republican  in final polynomial: -32.640711781997645  %\n",
      "(factual or Fake news) Weight for the given affliation  _democrat  in final polynomial: 77.63087615934403  %\n",
      "(factual or Fake news) Weight for the given affliation  _no_affliation  in final polynomial: 26.641918166535415  %\n",
      "(factual or Fake news) Weight for the given affliation  _other  in final polynomial: 28.367917456118196  %\n"
     ]
    }
   ],
   "source": [
    "for i in range(0,len(coefficient)):\n",
    "    print (\"(factual or Fake news) Weight for the given affliation \",training_data_for_polynomia_weights.columns[i].replace('confidence',''),\" in final polynomial:\", coefficient[i]*100/sum , \" %\")"
   ]
  },
  {
   "cell_type": "markdown",
   "metadata": {},
   "source": [
    "## These results are strictly based on the dataset"
   ]
  },
  {
   "cell_type": "code",
   "execution_count": null,
   "metadata": {},
   "outputs": [],
   "source": []
  }
 ],
 "metadata": {
  "celltoolbar": "Attachments",
  "kernelspec": {
   "display_name": "Python 3",
   "language": "python",
   "name": "python3"
  },
  "language_info": {
   "codemirror_mode": {
    "name": "ipython",
    "version": 3
   },
   "file_extension": ".py",
   "mimetype": "text/x-python",
   "name": "python",
   "nbconvert_exporter": "python",
   "pygments_lexer": "ipython3",
   "version": "3.7.0"
  },
  "nbpresent": {
   "slides": {},
   "themes": {
    "default": "e949219a-1a0c-41b7-856c-f4b24ba3924f",
    "theme": {}
   }
  }
 },
 "nbformat": 4,
 "nbformat_minor": 2
}
