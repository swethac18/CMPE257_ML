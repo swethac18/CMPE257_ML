{
 "cells": [
  {
   "cell_type": "markdown",
   "metadata": {},
   "source": [
    "## Modelling hateness, offensiveness in text\n",
    "### Swetha Chandrasekar\n",
    "012497628 <br>\n",
    "swetha.chandrasekar@sjsu.edu\n",
    "### Project Alternus vera\n",
    "### factor: Hatespeech, offensiveness\n",
    "<h3> In this note book, for the project of Alternus vera, <br><br><br>\n",
    "-> <font color=orange> In section 1, we will define and model the factor of <font color=red><u><i>hateness/offensiveness</i></u></font>.\n",
    "This vector will be used in the polynomial for fake news prediction.</font> <br><br>\n",
    "\n",
    "<font color=blue>\n",
    "-> In Section 2, we will use the vector modeled after hateness and offensiveness coefficients (weights) to predict fake news.<br>\n",
    "</font>\n",
    " </h3>\n",
    " \n",
    "### Formal Business Problem Statement: \n",
    "\"\n",
    "\n",
    "<i><u>\n",
    "Given the headline text of article can we predict the confidences of [hatespeech, offsensiveness, clean] </u></i>\n"
   ]
  },
  {
   "cell_type": "markdown",
   "metadata": {},
   "source": [
    "# Section 1 modelling hatespeech, offensiveness\n",
    "# Dataset for enrichment: hatespeech in tweets https://data.world/crowdflower/hate-speech-identification\n",
    "https://aaai.org/ocs/index.php/ICWSM/ICWSM17/paper/view/15665\n",
    "# Liar Liar dataset"
   ]
  },
  {
   "cell_type": "code",
   "execution_count": 87,
   "metadata": {},
   "outputs": [],
   "source": [
    "import pandas as pd\n",
    "%reload_ext autoreload\n",
    "%autoreload 2\n",
    "%matplotlib inline\n",
    "from fastai import *\n",
    "from fastai.text import *\n",
    "from fastai.vision import *\n",
    "from fastai.tabular import *"
   ]
  },
  {
   "cell_type": "code",
   "execution_count": 88,
   "metadata": {},
   "outputs": [],
   "source": [
    "dataset = pd.read_csv('labeled_data.csv', encoding='latin1')"
   ]
  },
  {
   "cell_type": "code",
   "execution_count": 121,
   "metadata": {},
   "outputs": [
    {
     "data": {
      "text/html": [
       "<div>\n",
       "<style scoped>\n",
       "    .dataframe tbody tr th:only-of-type {\n",
       "        vertical-align: middle;\n",
       "    }\n",
       "\n",
       "    .dataframe tbody tr th {\n",
       "        vertical-align: top;\n",
       "    }\n",
       "\n",
       "    .dataframe thead th {\n",
       "        text-align: right;\n",
       "    }\n",
       "</style>\n",
       "<table border=\"1\" class=\"dataframe\">\n",
       "  <thead>\n",
       "    <tr style=\"text-align: right;\">\n",
       "      <th></th>\n",
       "      <th>Unnamed: 0</th>\n",
       "      <th>count</th>\n",
       "      <th>hate_speech</th>\n",
       "      <th>offensive_language</th>\n",
       "      <th>neither</th>\n",
       "      <th>class</th>\n",
       "      <th>tweet</th>\n",
       "    </tr>\n",
       "  </thead>\n",
       "  <tbody>\n",
       "    <tr>\n",
       "      <th>0</th>\n",
       "      <td>0</td>\n",
       "      <td>3</td>\n",
       "      <td>0</td>\n",
       "      <td>0</td>\n",
       "      <td>3</td>\n",
       "      <td>2</td>\n",
       "      <td>!!! RT @mayasolovely: As a woman you shouldn't...</td>\n",
       "    </tr>\n",
       "    <tr>\n",
       "      <th>1</th>\n",
       "      <td>1</td>\n",
       "      <td>3</td>\n",
       "      <td>0</td>\n",
       "      <td>3</td>\n",
       "      <td>0</td>\n",
       "      <td>1</td>\n",
       "      <td>!!!!! RT @mleew17: boy dats cold...tyga dwn ba...</td>\n",
       "    </tr>\n",
       "    <tr>\n",
       "      <th>2</th>\n",
       "      <td>2</td>\n",
       "      <td>3</td>\n",
       "      <td>0</td>\n",
       "      <td>3</td>\n",
       "      <td>0</td>\n",
       "      <td>1</td>\n",
       "      <td>!!!!!!! RT @UrKindOfBrand Dawg!!!! RT @80sbaby...</td>\n",
       "    </tr>\n",
       "    <tr>\n",
       "      <th>3</th>\n",
       "      <td>3</td>\n",
       "      <td>3</td>\n",
       "      <td>0</td>\n",
       "      <td>2</td>\n",
       "      <td>1</td>\n",
       "      <td>1</td>\n",
       "      <td>!!!!!!!!! RT @C_G_Anderson: @viva_based she lo...</td>\n",
       "    </tr>\n",
       "    <tr>\n",
       "      <th>4</th>\n",
       "      <td>4</td>\n",
       "      <td>6</td>\n",
       "      <td>0</td>\n",
       "      <td>6</td>\n",
       "      <td>0</td>\n",
       "      <td>1</td>\n",
       "      <td>!!!!!!!!!!!!! RT @ShenikaRoberts: The shit you...</td>\n",
       "    </tr>\n",
       "  </tbody>\n",
       "</table>\n",
       "</div>"
      ],
      "text/plain": [
       "   Unnamed: 0  count  hate_speech  offensive_language  neither  class  \\\n",
       "0           0      3            0                   0        3      2   \n",
       "1           1      3            0                   3        0      1   \n",
       "2           2      3            0                   3        0      1   \n",
       "3           3      3            0                   2        1      1   \n",
       "4           4      6            0                   6        0      1   \n",
       "\n",
       "                                               tweet  \n",
       "0  !!! RT @mayasolovely: As a woman you shouldn't...  \n",
       "1  !!!!! RT @mleew17: boy dats cold...tyga dwn ba...  \n",
       "2  !!!!!!! RT @UrKindOfBrand Dawg!!!! RT @80sbaby...  \n",
       "3  !!!!!!!!! RT @C_G_Anderson: @viva_based she lo...  \n",
       "4  !!!!!!!!!!!!! RT @ShenikaRoberts: The shit you...  "
      ]
     },
     "execution_count": 121,
     "metadata": {},
     "output_type": "execute_result"
    }
   ],
   "source": [
    "dataset.head()"
   ]
  },
  {
   "cell_type": "code",
   "execution_count": 122,
   "metadata": {},
   "outputs": [
    {
     "data": {
      "text/plain": [
       "Index(['Unnamed: 0', 'count', 'hate_speech', 'offensive_language', 'neither',\n",
       "       'class', 'tweet'],\n",
       "      dtype='object')"
      ]
     },
     "execution_count": 122,
     "metadata": {},
     "output_type": "execute_result"
    }
   ],
   "source": [
    "dataset.columns"
   ]
  },
  {
   "cell_type": "code",
   "execution_count": 123,
   "metadata": {},
   "outputs": [],
   "source": [
    "tweets = dataset[['tweet','class']]"
   ]
  },
  {
   "cell_type": "code",
   "execution_count": 124,
   "metadata": {},
   "outputs": [
    {
     "data": {
      "text/html": [
       "<div>\n",
       "<style scoped>\n",
       "    .dataframe tbody tr th:only-of-type {\n",
       "        vertical-align: middle;\n",
       "    }\n",
       "\n",
       "    .dataframe tbody tr th {\n",
       "        vertical-align: top;\n",
       "    }\n",
       "\n",
       "    .dataframe thead th {\n",
       "        text-align: right;\n",
       "    }\n",
       "</style>\n",
       "<table border=\"1\" class=\"dataframe\">\n",
       "  <thead>\n",
       "    <tr style=\"text-align: right;\">\n",
       "      <th></th>\n",
       "      <th>tweet</th>\n",
       "      <th>class</th>\n",
       "    </tr>\n",
       "  </thead>\n",
       "  <tbody>\n",
       "    <tr>\n",
       "      <th>0</th>\n",
       "      <td>!!! RT @mayasolovely: As a woman you shouldn't...</td>\n",
       "      <td>2</td>\n",
       "    </tr>\n",
       "    <tr>\n",
       "      <th>1</th>\n",
       "      <td>!!!!! RT @mleew17: boy dats cold...tyga dwn ba...</td>\n",
       "      <td>1</td>\n",
       "    </tr>\n",
       "    <tr>\n",
       "      <th>2</th>\n",
       "      <td>!!!!!!! RT @UrKindOfBrand Dawg!!!! RT @80sbaby...</td>\n",
       "      <td>1</td>\n",
       "    </tr>\n",
       "    <tr>\n",
       "      <th>3</th>\n",
       "      <td>!!!!!!!!! RT @C_G_Anderson: @viva_based she lo...</td>\n",
       "      <td>1</td>\n",
       "    </tr>\n",
       "    <tr>\n",
       "      <th>4</th>\n",
       "      <td>!!!!!!!!!!!!! RT @ShenikaRoberts: The shit you...</td>\n",
       "      <td>1</td>\n",
       "    </tr>\n",
       "  </tbody>\n",
       "</table>\n",
       "</div>"
      ],
      "text/plain": [
       "                                               tweet  class\n",
       "0  !!! RT @mayasolovely: As a woman you shouldn't...      2\n",
       "1  !!!!! RT @mleew17: boy dats cold...tyga dwn ba...      1\n",
       "2  !!!!!!! RT @UrKindOfBrand Dawg!!!! RT @80sbaby...      1\n",
       "3  !!!!!!!!! RT @C_G_Anderson: @viva_based she lo...      1\n",
       "4  !!!!!!!!!!!!! RT @ShenikaRoberts: The shit you...      1"
      ]
     },
     "execution_count": 124,
     "metadata": {},
     "output_type": "execute_result"
    }
   ],
   "source": [
    "tweets.head()"
   ]
  },
  {
   "cell_type": "code",
   "execution_count": 125,
   "metadata": {},
   "outputs": [
    {
     "data": {
      "text/html": [
       "<div>\n",
       "<style scoped>\n",
       "    .dataframe tbody tr th:only-of-type {\n",
       "        vertical-align: middle;\n",
       "    }\n",
       "\n",
       "    .dataframe tbody tr th {\n",
       "        vertical-align: top;\n",
       "    }\n",
       "\n",
       "    .dataframe thead th {\n",
       "        text-align: right;\n",
       "    }\n",
       "</style>\n",
       "<table border=\"1\" class=\"dataframe\">\n",
       "  <thead>\n",
       "    <tr style=\"text-align: right;\">\n",
       "      <th></th>\n",
       "      <th>tweet</th>\n",
       "      <th>class</th>\n",
       "    </tr>\n",
       "  </thead>\n",
       "  <tbody>\n",
       "    <tr>\n",
       "      <th>24778</th>\n",
       "      <td>you's a muthaf***in lie &amp;#8220;@LifeAsKing: @2...</td>\n",
       "      <td>1</td>\n",
       "    </tr>\n",
       "    <tr>\n",
       "      <th>24779</th>\n",
       "      <td>you've gone and broke the wrong heart baby, an...</td>\n",
       "      <td>2</td>\n",
       "    </tr>\n",
       "    <tr>\n",
       "      <th>24780</th>\n",
       "      <td>young buck wanna eat!!.. dat nigguh like I ain...</td>\n",
       "      <td>1</td>\n",
       "    </tr>\n",
       "    <tr>\n",
       "      <th>24781</th>\n",
       "      <td>youu got wild bitches tellin you lies</td>\n",
       "      <td>1</td>\n",
       "    </tr>\n",
       "    <tr>\n",
       "      <th>24782</th>\n",
       "      <td>~~Ruffled | Ntac Eileen Dahlia - Beautiful col...</td>\n",
       "      <td>2</td>\n",
       "    </tr>\n",
       "  </tbody>\n",
       "</table>\n",
       "</div>"
      ],
      "text/plain": [
       "                                                   tweet  class\n",
       "24778  you's a muthaf***in lie &#8220;@LifeAsKing: @2...      1\n",
       "24779  you've gone and broke the wrong heart baby, an...      2\n",
       "24780  young buck wanna eat!!.. dat nigguh like I ain...      1\n",
       "24781              youu got wild bitches tellin you lies      1\n",
       "24782  ~~Ruffled | Ntac Eileen Dahlia - Beautiful col...      2"
      ]
     },
     "execution_count": 125,
     "metadata": {},
     "output_type": "execute_result"
    }
   ],
   "source": [
    "tweets.tail()"
   ]
  },
  {
   "cell_type": "code",
   "execution_count": 198,
   "metadata": {},
   "outputs": [
    {
     "name": "stdout",
     "output_type": "stream",
     "text": [
      "1430\n",
      "11440\n"
     ]
    },
    {
     "name": "stderr",
     "output_type": "stream",
     "text": [
      "/opt/anaconda3/lib/python3.7/site-packages/ipykernel_launcher.py:4: SettingWithCopyWarning: \n",
      "A value is trying to be set on a copy of a slice from a DataFrame.\n",
      "Try using .loc[row_indexer,col_indexer] = value instead\n",
      "\n",
      "See the caveats in the documentation: http://pandas.pydata.org/pandas-docs/stable/indexing.html#indexing-view-versus-copy\n",
      "  after removing the cwd from sys.path.\n",
      "/opt/anaconda3/lib/python3.7/site-packages/ipykernel_launcher.py:29: FutureWarning: Sorting because non-concatenation axis is not aligned. A future version\n",
      "of pandas will change to not sort by default.\n",
      "\n",
      "To accept the future behavior, pass 'sort=False'.\n",
      "\n",
      "To retain the current behavior and silence the warning, pass 'sort=True'.\n",
      "\n"
     ]
    },
    {
     "data": {
      "text/plain": [
       "<matplotlib.axes._subplots.AxesSubplot at 0x7fe610e8d5f8>"
      ]
     },
     "execution_count": 198,
     "metadata": {},
     "output_type": "execute_result"
    },
    {
     "data": {
      "image/png": "[encoded data removed]",
      "text/plain": [
       "<Figure size 432x288 with 1 Axes>"
      ]
     },
     "metadata": {
      "needs_background": "light"
     },
     "output_type": "display_data"
    }
   ],
   "source": [
    "#1 offensive speech\n",
    "#0 Offsenive and hate speech\n",
    "#2 neither\n",
    "tweets['label'] = tweets['class']\n",
    "hate = tweets[tweets.label ==0]\n",
    "neither = tweets[tweets.label == 2]\n",
    "neither_text = neither.tweet.tolist()\n",
    "neither_text = neither_text + neither_text \n",
    "hate_text = hate.tweet.tolist()\n",
    "hate_labels = hate.label.tolist()\n",
    "hate_class = hate['class'].tolist()\n",
    "print (len(hate_class))\n",
    "hate_text = hate_text + hate_text +hate_text +hate_text +hate_text +hate_text +hate_text +hate_text\n",
    "hate_labels = hate_labels + hate_labels + hate_labels + hate_labels + hate_labels + hate_labels + hate_labels + hate_labels \n",
    "hate_class = hate_class + hate_class + hate_class + hate_class + hate_class + hate_class + hate_class + hate_class \n",
    "print (len(hate_class))\n",
    "\n",
    "hate_df = pd.DataFrame(hate_text)\n",
    "hate_df['label'] = pd.Series([0] * len(hate_text))\n",
    "\n",
    "hate_df['class'] = pd.Series([0] * len(hate_text))\n",
    "neither_df = pd.DataFrame(neither_text)\n",
    "neither_df['label'] = pd.Series([2] * len(neither_text))\n",
    "\n",
    "neither_df['class'] = pd.Series([2] * len(neither_text))\n",
    "hate_df.columns=['tweet','label','class']\n",
    "neither_df.columns=['tweet','label','class']\n",
    "\n",
    "tweets1 = pd.concat([tweets,hate_df,neither_df])\n",
    "tweets1.label.value_counts().plot(kind='bar')\n",
    "\n"
   ]
  },
  {
   "cell_type": "code",
   "execution_count": 130,
   "metadata": {},
   "outputs": [
    {
     "name": "stdout",
     "output_type": "stream",
     "text": [
      "[nltk_data] Downloading package wordnet to /home/jupyter/nltk_data...\n",
      "[nltk_data]   Package wordnet is already up-to-date!\n"
     ]
    },
    {
     "data": {
      "text/plain": [
       "True"
      ]
     },
     "execution_count": 130,
     "metadata": {},
     "output_type": "execute_result"
    }
   ],
   "source": [
    "import gensim\n",
    "from gensim.utils import simple_preprocess\n",
    "from gensim.parsing.preprocessing import STOPWORDS\n",
    "from nltk.stem import WordNetLemmatizer, SnowballStemmer\n",
    "from nltk.stem.porter import *\n",
    "from fastai import *\n",
    "from fastai import *\n",
    "from fastai.text import *\n",
    "from fastai.tabular import *\n",
    "from fastai.vision import *\n",
    "import numpy as np\n",
    "np.random.seed(2018)\n",
    "import nltk\n",
    "nltk.download('wordnet')\n"
   ]
  },
  {
   "cell_type": "code",
   "execution_count": 131,
   "metadata": {},
   "outputs": [],
   "source": [
    "### performing stemming\n",
    "from nltk import PorterStemmer \n",
    "stemmer = PorterStemmer()\n",
    "def lemmatize_stemming(text):\n",
    "    return text\n",
    "    return stemmer.stem(WordNetLemmatizer().lemmatize(text, pos='v'))\n",
    "def preprocess(text):\n",
    "    result = []\n",
    "    for token in gensim.utils.simple_preprocess(text):\n",
    "        if token not in gensim.parsing.preprocessing.STOPWORDS and len(token) > 3:\n",
    "            if 'object' in token.strip() or 'dtype' in token.strip() or 'unknown' in token.strip():\n",
    "                continue\n",
    "            result.append(lemmatize_stemming(token))\n",
    "    return result\n"
   ]
  },
  {
   "cell_type": "code",
   "execution_count": 132,
   "metadata": {},
   "outputs": [
    {
     "name": "stdout",
     "output_type": "stream",
     "text": [
      "0 cleaning\n",
      "1 complain\n",
      "2 house\n",
      "3 mayasolovely\n",
      "4 shouldn\n",
      "5 trash\n",
      "6 woman\n",
      "7 cold\n",
      "8 cuffin\n",
      "9 dats\n",
      "10 mleew\n"
     ]
    },
    {
     "data": {
      "text/plain": [
       "[(11, 1), (69, 1), (2169, 1)]"
      ]
     },
     "execution_count": 132,
     "metadata": {},
     "output_type": "execute_result"
    }
   ],
   "source": [
    "processed_docs = tweets1['tweet'].map(preprocess)\n",
    "processed_docs[:10]\n",
    "dictionary = gensim.corpora.Dictionary(processed_docs)\n",
    "count = 0\n",
    "for k, v in dictionary.iteritems():\n",
    "    print(k, v)\n",
    "    count += 1\n",
    "    if count > 10:\n",
    "        break\n",
    "dictionary.filter_extremes(no_below=15, no_above=0.5, keep_n=100000)\n",
    "bow_corpus = [dictionary.doc2bow(doc) for doc in processed_docs]\n",
    "bow_corpus[4310]"
   ]
  },
  {
   "cell_type": "markdown",
   "metadata": {},
   "source": [
    "# Please be advised that wordcloud below contains several offensive and nasty words"
   ]
  },
  {
   "cell_type": "code",
   "execution_count": 133,
   "metadata": {},
   "outputs": [
    {
     "data": {
      "image/png": "[encoded data removed]",
      "text/plain": [
       "<Figure size 432x288 with 1 Axes>"
      ]
     },
     "metadata": {
      "needs_background": "light"
     },
     "output_type": "display_data"
    }
   ],
   "source": [
    "import pandas as pd\n",
    "from os import path\n",
    "from PIL import Image\n",
    "from wordcloud import WordCloud, STOPWORDS, ImageColorGenerator\n",
    "text = \"\"\n",
    "\n",
    "for doc in processed_docs:\n",
    "    text= text + \" \" + ' '.join(doc)\n",
    "    \n",
    "wordcloud = WordCloud(max_font_size=50, max_words=1000, background_color=\"black\").generate(text)\n",
    "plt.imshow(wordcloud, interpolation='bilinear')\n",
    "plt.axis(\"off\")\n",
    "plt.show()\n"
   ]
  },
  {
   "cell_type": "markdown",
   "metadata": {},
   "source": [
    "# Similar to the approach used in party affliation and stance detection, let us generate custom doc vectors"
   ]
  },
  {
   "cell_type": "code",
   "execution_count": 134,
   "metadata": {},
   "outputs": [
    {
     "name": "stdout",
     "output_type": "stream",
     "text": [
      "Total number of custom documents: 44549\n"
     ]
    },
    {
     "name": "stderr",
     "output_type": "stream",
     "text": [
      "/opt/anaconda3/lib/python3.7/site-packages/gensim/models/doc2vec.py:570: UserWarning: The parameter `size` is deprecated, will be removed in 4.0.0, use `vector_size` instead.\n",
      "  warnings.warn(\"The parameter `size` is deprecated, will be removed in 4.0.0, use `vector_size` instead.\")\n"
     ]
    },
    {
     "name": "stdout",
     "output_type": "stream",
     "text": [
      "iteration 0\n"
     ]
    },
    {
     "name": "stderr",
     "output_type": "stream",
     "text": [
      "/opt/anaconda3/lib/python3.7/site-packages/ipykernel_launcher.py:30: DeprecationWarning: Call to deprecated `iter` (Attribute will be removed in 4.0.0, use self.epochs instead).\n"
     ]
    },
    {
     "name": "stdout",
     "output_type": "stream",
     "text": [
      "iteration 1\n",
      "iteration 2\n",
      "iteration 3\n",
      "iteration 4\n",
      "iteration 5\n",
      "iteration 6\n",
      "iteration 7\n",
      "iteration 8\n",
      "iteration 9\n",
      "Model Saved\n"
     ]
    }
   ],
   "source": [
    "word_vector_input_dataset = tweets1.tweet.tolist()\n",
    "from gensim.models.doc2vec import Doc2Vec, TaggedDocument\n",
    "from nltk.tokenize import word_tokenize\n",
    "data = word_vector_input_dataset\n",
    "tagged_data = []\n",
    "exception_count = 0\n",
    "for i, _d in enumerate(data):\n",
    "    try:\n",
    "        tagged_data.append(TaggedDocument(words=word_tokenize(_d.lower()), tags=[str(i)]))\n",
    "    except:\n",
    "        exception_count+=1\n",
    "### Train doc2vec embeddings \n",
    "print (\"Total number of custom documents:\",len(tagged_data))\n",
    "max_epochs = 10\n",
    "vec_size = 10\n",
    "alpha = 0.025\n",
    "\n",
    "model = Doc2Vec(size=vec_size,\n",
    "                alpha=alpha, \n",
    "                min_alpha=0.00025,\n",
    "                min_count=10,\n",
    "                dm =1)\n",
    "  \n",
    "model.build_vocab(tagged_data)\n",
    "\n",
    "for epoch in range(max_epochs):\n",
    "    print('iteration {0}'.format(epoch))\n",
    "    model.train(tagged_data,\n",
    "                total_examples=model.corpus_count,\n",
    "                epochs=model.iter)\n",
    "    # decrease the learning rate\n",
    "    model.alpha -= 0.0002\n",
    "    # fix the learning rate, no decay\n",
    "    model.min_alpha = model.alpha\n",
    "\n",
    "model.save(\"hate_offensive_speech.model\")\n",
    "print(\"Model Saved\")"
   ]
  },
  {
   "cell_type": "code",
   "execution_count": 135,
   "metadata": {},
   "outputs": [
    {
     "name": "stdout",
     "output_type": "stream",
     "text": [
      "[array([-0.312844, -0.352888, -0.34749 ,  0.138649,  0.006099, -0.190256,  0.187172, -0.211085,  0.033825,  0.16471 ],\n",
      "      dtype=float32)]\n"
     ]
    }
   ],
   "source": [
    "from gensim.models.doc2vec import Doc2Vec, TaggedDocument\n",
    "from nltk.tokenize import word_tokenize\n",
    "text = \"you are such a f2#@# re@#@$$ b@#@#\"\n",
    "dvmodel= Doc2Vec.load(\"hate_offensive_speech.model\") ### Using a earlier trained model d2v.model \n",
    "test_sentence= [dvmodel.infer_vector(word_tokenize(text))]\n",
    "print (test_sentence)"
   ]
  },
  {
   "cell_type": "markdown",
   "metadata": {},
   "source": [
    "# Let us use doc2vec embeddings directly as features to predict offensiveness, hateness and clean (neither hate nor offensive) using neural network"
   ]
  },
  {
   "cell_type": "code",
   "execution_count": 146,
   "metadata": {},
   "outputs": [],
   "source": [
    "training_data = []\n",
    "for line in data:\n",
    "    training_data.append(dvmodel.infer_vector(word_tokenize(line)))"
   ]
  },
  {
   "cell_type": "code",
   "execution_count": 147,
   "metadata": {},
   "outputs": [],
   "source": [
    "training_df = pd.DataFrame(training_data)"
   ]
  },
  {
   "cell_type": "code",
   "execution_count": 148,
   "metadata": {},
   "outputs": [],
   "source": [
    "training_df['label'] = pd.Series(tweets1.label.tolist())"
   ]
  },
  {
   "cell_type": "code",
   "execution_count": 149,
   "metadata": {},
   "outputs": [
    {
     "name": "stdout",
     "output_type": "stream",
     "text": [
      "44549\n"
     ]
    }
   ],
   "source": [
    "training_df.columns = ['0','1','2','3','4','5','6','7','8','9','label']\n",
    "training_df.head()\n",
    "print(len(training_df))"
   ]
  },
  {
   "cell_type": "code",
   "execution_count": 150,
   "metadata": {},
   "outputs": [
    {
     "data": {
      "text/html": [
       "<div>\n",
       "<style scoped>\n",
       "    .dataframe tbody tr th:only-of-type {\n",
       "        vertical-align: middle;\n",
       "    }\n",
       "\n",
       "    .dataframe tbody tr th {\n",
       "        vertical-align: top;\n",
       "    }\n",
       "\n",
       "    .dataframe thead th {\n",
       "        text-align: right;\n",
       "    }\n",
       "</style>\n",
       "<table border=\"1\" class=\"dataframe\">\n",
       "  <thead>\n",
       "    <tr style=\"text-align: right;\">\n",
       "      <th></th>\n",
       "      <th>0</th>\n",
       "      <th>1</th>\n",
       "      <th>2</th>\n",
       "      <th>3</th>\n",
       "      <th>4</th>\n",
       "      <th>5</th>\n",
       "      <th>6</th>\n",
       "      <th>7</th>\n",
       "      <th>8</th>\n",
       "      <th>9</th>\n",
       "      <th>label</th>\n",
       "    </tr>\n",
       "  </thead>\n",
       "  <tbody>\n",
       "    <tr>\n",
       "      <th>0</th>\n",
       "      <td>-0.387770</td>\n",
       "      <td>-0.111619</td>\n",
       "      <td>-0.073101</td>\n",
       "      <td>0.735180</td>\n",
       "      <td>0.799410</td>\n",
       "      <td>0.538635</td>\n",
       "      <td>0.768662</td>\n",
       "      <td>-0.197833</td>\n",
       "      <td>0.074071</td>\n",
       "      <td>-0.522116</td>\n",
       "      <td>2</td>\n",
       "    </tr>\n",
       "    <tr>\n",
       "      <th>1</th>\n",
       "      <td>-0.211562</td>\n",
       "      <td>0.120744</td>\n",
       "      <td>-0.436608</td>\n",
       "      <td>-0.035273</td>\n",
       "      <td>0.136656</td>\n",
       "      <td>0.041984</td>\n",
       "      <td>0.424928</td>\n",
       "      <td>0.086316</td>\n",
       "      <td>0.110763</td>\n",
       "      <td>0.000558</td>\n",
       "      <td>1</td>\n",
       "    </tr>\n",
       "    <tr>\n",
       "      <th>2</th>\n",
       "      <td>-0.739436</td>\n",
       "      <td>0.079746</td>\n",
       "      <td>-0.690327</td>\n",
       "      <td>0.108762</td>\n",
       "      <td>0.451831</td>\n",
       "      <td>-0.239758</td>\n",
       "      <td>0.538540</td>\n",
       "      <td>-0.324357</td>\n",
       "      <td>0.284701</td>\n",
       "      <td>0.241678</td>\n",
       "      <td>1</td>\n",
       "    </tr>\n",
       "    <tr>\n",
       "      <th>3</th>\n",
       "      <td>-0.703502</td>\n",
       "      <td>-0.273570</td>\n",
       "      <td>-0.491763</td>\n",
       "      <td>0.513453</td>\n",
       "      <td>0.776629</td>\n",
       "      <td>0.165495</td>\n",
       "      <td>0.775013</td>\n",
       "      <td>0.125146</td>\n",
       "      <td>-0.149392</td>\n",
       "      <td>0.090304</td>\n",
       "      <td>1</td>\n",
       "    </tr>\n",
       "    <tr>\n",
       "      <th>4</th>\n",
       "      <td>-0.184811</td>\n",
       "      <td>0.230258</td>\n",
       "      <td>-0.310367</td>\n",
       "      <td>0.198472</td>\n",
       "      <td>0.980711</td>\n",
       "      <td>-0.046712</td>\n",
       "      <td>0.727397</td>\n",
       "      <td>-0.434801</td>\n",
       "      <td>0.082696</td>\n",
       "      <td>-0.483802</td>\n",
       "      <td>1</td>\n",
       "    </tr>\n",
       "  </tbody>\n",
       "</table>\n",
       "</div>"
      ],
      "text/plain": [
       "          0         1         2         3         4         5         6  \\\n",
       "0 -0.387770 -0.111619 -0.073101  0.735180  0.799410  0.538635  0.768662   \n",
       "1 -0.211562  0.120744 -0.436608 -0.035273  0.136656  0.041984  0.424928   \n",
       "2 -0.739436  0.079746 -0.690327  0.108762  0.451831 -0.239758  0.538540   \n",
       "3 -0.703502 -0.273570 -0.491763  0.513453  0.776629  0.165495  0.775013   \n",
       "4 -0.184811  0.230258 -0.310367  0.198472  0.980711 -0.046712  0.727397   \n",
       "\n",
       "          7         8         9  label  \n",
       "0 -0.197833  0.074071 -0.522116      2  \n",
       "1  0.086316  0.110763  0.000558      1  \n",
       "2 -0.324357  0.284701  0.241678      1  \n",
       "3  0.125146 -0.149392  0.090304      1  \n",
       "4 -0.434801  0.082696 -0.483802      1  "
      ]
     },
     "execution_count": 150,
     "metadata": {},
     "output_type": "execute_result"
    }
   ],
   "source": [
    "path= Path()\n",
    "X = training_df\n",
    "### Categorical features\n",
    "cat_names= []\n",
    "### continuos features\n",
    "cont_names = ['0','1','2','3','4','5','6','7','8','9']\n",
    "\n",
    "test = TabularList.from_df(X.iloc[0:2500].copy(), path=path, cat_names=None, cont_names=cont_names)\n",
    "df_test_copy = X.iloc[0:2500]\n",
    "X.head()\n"
   ]
  },
  {
   "cell_type": "code",
   "execution_count": 151,
   "metadata": {},
   "outputs": [
    {
     "data": {
      "text/html": [
       "<table>  <col width='10px'>  <col width='10px'>  <col width='10px'>  <col width='10px'>  <col width='10px'>  <col width='10px'>  <col width='10px'>  <col width='10px'>  <col width='10px'>  <col width='10px'>  <col width='10px'>  <tr>\n",
       "    <th>0</th>\n",
       "    <th>1</th>\n",
       "    <th>2</th>\n",
       "    <th>3</th>\n",
       "    <th>4</th>\n",
       "    <th>5</th>\n",
       "    <th>6</th>\n",
       "    <th>7</th>\n",
       "    <th>8</th>\n",
       "    <th>9</th>\n",
       "    <th>target</th>\n",
       "  </tr>\n",
       "  <tr>\n",
       "    <th>0.5450</th>\n",
       "    <th>0.9602</th>\n",
       "    <th>-1.1345</th>\n",
       "    <th>-0.1253</th>\n",
       "    <th>1.0168</th>\n",
       "    <th>-0.1551</th>\n",
       "    <th>0.5842</th>\n",
       "    <th>-0.1903</th>\n",
       "    <th>1.7557</th>\n",
       "    <th>1.6383</th>\n",
       "    <th>1</th>\n",
       "  </tr>\n",
       "  <tr>\n",
       "    <th>0.7418</th>\n",
       "    <th>0.3542</th>\n",
       "    <th>0.0137</th>\n",
       "    <th>0.3552</th>\n",
       "    <th>-1.9975</th>\n",
       "    <th>-0.2583</th>\n",
       "    <th>-0.4117</th>\n",
       "    <th>-0.1819</th>\n",
       "    <th>-0.2676</th>\n",
       "    <th>-0.0983</th>\n",
       "    <th>1</th>\n",
       "  </tr>\n",
       "  <tr>\n",
       "    <th>0.1684</th>\n",
       "    <th>1.0508</th>\n",
       "    <th>0.7720</th>\n",
       "    <th>0.3600</th>\n",
       "    <th>0.8186</th>\n",
       "    <th>-0.7770</th>\n",
       "    <th>0.7942</th>\n",
       "    <th>-0.8672</th>\n",
       "    <th>0.4748</th>\n",
       "    <th>0.7307</th>\n",
       "    <th>1</th>\n",
       "  </tr>\n",
       "  <tr>\n",
       "    <th>1.0271</th>\n",
       "    <th>0.2611</th>\n",
       "    <th>0.4664</th>\n",
       "    <th>0.5495</th>\n",
       "    <th>-0.6656</th>\n",
       "    <th>0.6997</th>\n",
       "    <th>-1.2233</th>\n",
       "    <th>-1.6760</th>\n",
       "    <th>-0.9611</th>\n",
       "    <th>-0.5541</th>\n",
       "    <th>0</th>\n",
       "  </tr>\n",
       "  <tr>\n",
       "    <th>0.0691</th>\n",
       "    <th>0.4403</th>\n",
       "    <th>0.0304</th>\n",
       "    <th>0.2014</th>\n",
       "    <th>0.1803</th>\n",
       "    <th>0.1025</th>\n",
       "    <th>-0.4856</th>\n",
       "    <th>1.1182</th>\n",
       "    <th>-0.5405</th>\n",
       "    <th>-0.2497</th>\n",
       "    <th>1</th>\n",
       "  </tr>\n",
       "  <tr>\n",
       "    <th>-1.3731</th>\n",
       "    <th>-0.2134</th>\n",
       "    <th>0.6443</th>\n",
       "    <th>1.0072</th>\n",
       "    <th>0.4544</th>\n",
       "    <th>2.1263</th>\n",
       "    <th>0.7613</th>\n",
       "    <th>1.0334</th>\n",
       "    <th>0.8858</th>\n",
       "    <th>-0.5939</th>\n",
       "    <th>2</th>\n",
       "  </tr>\n",
       "  <tr>\n",
       "    <th>1.9852</th>\n",
       "    <th>2.0655</th>\n",
       "    <th>-1.2099</th>\n",
       "    <th>0.6079</th>\n",
       "    <th>-0.4713</th>\n",
       "    <th>0.4115</th>\n",
       "    <th>0.4117</th>\n",
       "    <th>0.8121</th>\n",
       "    <th>-1.0772</th>\n",
       "    <th>-0.1759</th>\n",
       "    <th>0</th>\n",
       "  </tr>\n",
       "  <tr>\n",
       "    <th>-0.0337</th>\n",
       "    <th>-0.1318</th>\n",
       "    <th>-0.6790</th>\n",
       "    <th>-1.3100</th>\n",
       "    <th>-2.1393</th>\n",
       "    <th>-0.2707</th>\n",
       "    <th>0.2839</th>\n",
       "    <th>0.1993</th>\n",
       "    <th>1.6921</th>\n",
       "    <th>0.4979</th>\n",
       "    <th>1</th>\n",
       "  </tr>\n",
       "  <tr>\n",
       "    <th>0.0152</th>\n",
       "    <th>-1.0863</th>\n",
       "    <th>-0.0880</th>\n",
       "    <th>0.4553</th>\n",
       "    <th>-0.4240</th>\n",
       "    <th>1.5269</th>\n",
       "    <th>0.0792</th>\n",
       "    <th>0.6331</th>\n",
       "    <th>-1.0055</th>\n",
       "    <th>-0.2565</th>\n",
       "    <th>0</th>\n",
       "  </tr>\n",
       "  <tr>\n",
       "    <th>-2.6171</th>\n",
       "    <th>0.7153</th>\n",
       "    <th>-0.3477</th>\n",
       "    <th>0.9401</th>\n",
       "    <th>1.1858</th>\n",
       "    <th>1.5712</th>\n",
       "    <th>-0.2716</th>\n",
       "    <th>-0.3510</th>\n",
       "    <th>2.0729</th>\n",
       "    <th>-0.9948</th>\n",
       "    <th>0</th>\n",
       "  </tr>\n",
       "</table>\n"
      ],
      "text/plain": [
       "<IPython.core.display.HTML object>"
      ]
     },
     "metadata": {},
     "output_type": "display_data"
    }
   ],
   "source": [
    "path = Path()\n",
    "procs = [FillMissing, Categorify, Normalize]\n",
    "dep_var = 'label' # 0 means hate , 1 means offensive 2 means neither\n",
    "valid_idx = list(range(0,2500))\n",
    "DB = (TabularList.from_df(X, path=path, cat_names=cat_names, cont_names=cont_names, procs=procs)\n",
    "      .split_by_idx(valid_idx)\n",
    "      .label_from_df(cols=dep_var)\n",
    "      .add_test(test, label=0)\n",
    "      .databunch())\n",
    "DB.show_batch(rows=10)"
   ]
  },
  {
   "cell_type": "markdown",
   "metadata": {},
   "source": [
    "## Training a neural network 1 hidden layer of 10 nodes"
   ]
  },
  {
   "cell_type": "code",
   "execution_count": 152,
   "metadata": {},
   "outputs": [
    {
     "data": {
      "text/plain": [
       "TabularModel(\n",
       "  (embeds): ModuleList()\n",
       "  (emb_drop): Dropout(p=0.2)\n",
       "  (bn_cont): BatchNorm1d(10, eps=1e-05, momentum=0.1, affine=True, track_running_stats=True)\n",
       "  (layers): Sequential(\n",
       "    (0): Linear(in_features=10, out_features=10, bias=True)\n",
       "    (1): ReLU(inplace)\n",
       "    (2): BatchNorm1d(10, eps=1e-05, momentum=0.1, affine=True, track_running_stats=True)\n",
       "    (3): Linear(in_features=10, out_features=3, bias=True)\n",
       "  )\n",
       ")"
      ]
     },
     "execution_count": 152,
     "metadata": {},
     "output_type": "execute_result"
    }
   ],
   "source": [
    "learn = tabular_learner(DB, layers=[10],  metrics=accuracy,emb_drop=0.2)\n",
    "learn.model"
   ]
  },
  {
   "cell_type": "code",
   "execution_count": 155,
   "metadata": {},
   "outputs": [
    {
     "name": "stdout",
     "output_type": "stream",
     "text": [
      "Total time: 00:34\n",
      "epoch  train_loss  valid_loss  accuracy\n",
      "1      0.865459    0.732151    0.689600  (00:03)\n",
      "2      0.859957    0.706367    0.696400  (00:03)\n",
      "3      0.872031    0.594974    0.748400  (00:03)\n",
      "4      0.864025    0.801161    0.602800  (00:03)\n",
      "5      0.872817    0.644039    0.771200  (00:03)\n",
      "6      0.855773    0.663551    0.732800  (00:03)\n",
      "7      0.832494    0.723736    0.692800  (00:03)\n",
      "8      0.837758    0.720664    0.676000  (00:03)\n",
      "9      0.825781    0.707864    0.690000  (00:03)\n",
      "10     0.826985    0.706272    0.685200  (00:03)\n",
      "\n"
     ]
    }
   ],
   "source": [
    "learn.fit_one_cycle(10,1e-1)"
   ]
  },
  {
   "cell_type": "code",
   "execution_count": 156,
   "metadata": {},
   "outputs": [
    {
     "name": "stdout",
     "output_type": "stream",
     "text": [
      "LR Finder is complete, type {learner_name}.recorder.plot() to see the graph.\n"
     ]
    },
    {
     "data": {
      "image/png": "[encoded data removed]",
      "text/plain": [
       "<Figure size 432x288 with 1 Axes>"
      ]
     },
     "metadata": {
      "needs_background": "light"
     },
     "output_type": "display_data"
    }
   ],
   "source": [
    "learn.lr_find()\n",
    "learn.recorder.plot()\n"
   ]
  },
  {
   "cell_type": "code",
   "execution_count": 157,
   "metadata": {},
   "outputs": [
    {
     "data": {
      "image/png": "[encoded data removed]",
      "text/plain": [
       "<Figure size 432x288 with 1 Axes>"
      ]
     },
     "metadata": {
      "needs_background": "light"
     },
     "output_type": "display_data"
    }
   ],
   "source": [
    "from fastai import *\n",
    "from fastai.vision import *\n",
    "interp = ClassificationInterpretation.from_learner(learn)\n",
    "interp.plot_confusion_matrix()"
   ]
  },
  {
   "cell_type": "code",
   "execution_count": 173,
   "metadata": {},
   "outputs": [
    {
     "data": {
      "text/plain": [
       "(1, tensor(1), tensor([0.1090, 0.5842, 0.3068]))"
      ]
     },
     "execution_count": 173,
     "metadata": {},
     "output_type": "execute_result"
    }
   ],
   "source": [
    "SampleText = [\"I hate this f#@# smrtphone \"] ## Taken from test\n",
    "a = pd.DataFrame([dvmodel.infer_vector(SampleText)])\n",
    "a.columns =['0','1','2','3','4','5','6','7','8','9']\n",
    "a.head()\n",
    "learn.predict(a.iloc[0])"
   ]
  },
  {
   "cell_type": "code",
   "execution_count": 167,
   "metadata": {},
   "outputs": [],
   "source": [
    "## This is 58% offensive  10% hate speech and 30% neither"
   ]
  },
  {
   "cell_type": "markdown",
   "metadata": {},
   "source": [
    "# Section 2: Generate the vectors on LIAR LIAR training dataset so we can learn fake vs no fake news"
   ]
  },
  {
   "cell_type": "code",
   "execution_count": 169,
   "metadata": {},
   "outputs": [
    {
     "name": "stdout",
     "output_type": "stream",
     "text": [
      "14\n"
     ]
    }
   ],
   "source": [
    "import pandas as pd\n",
    "headers = ['id','label','statement','subject',\n",
    "           'speaker','job_title', 'state', \n",
    "           'affliation','barely_true','false',\n",
    "           'half_true', 'mostly_true','pants_on_fire', \n",
    "           'venue']\n",
    "print (len(headers))\n",
    "liar_train_df = pd.read_csv('../train.tsv', names=headers, delimiter='\\t')\n",
    "liar_valid_df = pd.read_csv('../valid.tsv', names=headers, delimiter='\\t')\n",
    "liar_test_df = pd.read_csv('../test.tsv',names=headers, delimiter='\\t')"
   ]
  },
  {
   "cell_type": "code",
   "execution_count": 183,
   "metadata": {},
   "outputs": [],
   "source": [
    "hate_speech_vector_training_fake_news = []\n",
    "statements = liar_train_df.statement.tolist()\n",
    "for statement in statements:\n",
    "    v = dvmodel.infer_vector(statement) ## getting the doc vector for statement LIAR LIAR tsv\n",
    "    hate_speech_vector_training_fake_news.append(v)\n",
    "fake_label = liar_train_df.label.tolist()\n",
    "label = []\n",
    "for l in fake_label:\n",
    "    if 'barely_true' in l or 'false' in l:\n",
    "        label.append(0)\n",
    "    else:\n",
    "        label.append(1)\n",
    "hate_vector_df = pd.DataFrame(hate_speech_vector_training_fake_news)\n",
    "hate_vector_df.columns =['0','1','2','3','4','5','6','7','8','9']\n"
   ]
  },
  {
   "cell_type": "code",
   "execution_count": 188,
   "metadata": {},
   "outputs": [],
   "source": [
    "hate_vector = []\n",
    "for i in range(0,len(hate_vector_df)):\n",
    "    a = learn.predict(hate_vector_df.iloc[i])\n",
    "    v1 = []\n",
    "    for k in a[2]:\n",
    "        v1.append(float(k))\n",
    "    hate_vector.append(v1)"
   ]
  },
  {
   "cell_type": "code",
   "execution_count": 193,
   "metadata": {},
   "outputs": [
    {
     "data": {
      "text/html": [
       "<div>\n",
       "<style scoped>\n",
       "    .dataframe tbody tr th:only-of-type {\n",
       "        vertical-align: middle;\n",
       "    }\n",
       "\n",
       "    .dataframe tbody tr th {\n",
       "        vertical-align: top;\n",
       "    }\n",
       "\n",
       "    .dataframe thead th {\n",
       "        text-align: right;\n",
       "    }\n",
       "</style>\n",
       "<table border=\"1\" class=\"dataframe\">\n",
       "  <thead>\n",
       "    <tr style=\"text-align: right;\">\n",
       "      <th></th>\n",
       "      <th>hate_speech</th>\n",
       "      <th>offensive_speech</th>\n",
       "      <th>clean_speech</th>\n",
       "      <th>label</th>\n",
       "    </tr>\n",
       "  </thead>\n",
       "  <tbody>\n",
       "    <tr>\n",
       "      <th>0</th>\n",
       "      <td>1.679667e-08</td>\n",
       "      <td>0.258597</td>\n",
       "      <td>0.741403</td>\n",
       "      <td>0</td>\n",
       "    </tr>\n",
       "    <tr>\n",
       "      <th>1</th>\n",
       "      <td>6.592088e-10</td>\n",
       "      <td>0.619811</td>\n",
       "      <td>0.380189</td>\n",
       "      <td>1</td>\n",
       "    </tr>\n",
       "    <tr>\n",
       "      <th>2</th>\n",
       "      <td>4.650032e-06</td>\n",
       "      <td>0.335105</td>\n",
       "      <td>0.664890</td>\n",
       "      <td>1</td>\n",
       "    </tr>\n",
       "    <tr>\n",
       "      <th>3</th>\n",
       "      <td>3.113943e-09</td>\n",
       "      <td>0.661825</td>\n",
       "      <td>0.338175</td>\n",
       "      <td>0</td>\n",
       "    </tr>\n",
       "    <tr>\n",
       "      <th>4</th>\n",
       "      <td>1.312405e-04</td>\n",
       "      <td>0.054103</td>\n",
       "      <td>0.945766</td>\n",
       "      <td>1</td>\n",
       "    </tr>\n",
       "  </tbody>\n",
       "</table>\n",
       "</div>"
      ],
      "text/plain": [
       "    hate_speech  offensive_speech  clean_speech  label\n",
       "0  1.679667e-08          0.258597      0.741403      0\n",
       "1  6.592088e-10          0.619811      0.380189      1\n",
       "2  4.650032e-06          0.335105      0.664890      1\n",
       "3  3.113943e-09          0.661825      0.338175      0\n",
       "4  1.312405e-04          0.054103      0.945766      1"
      ]
     },
     "execution_count": 193,
     "metadata": {},
     "output_type": "execute_result"
    }
   ],
   "source": [
    "HV = pd.DataFrame(hate_vector)\n",
    "HV['label'] = pd.Series(label)\n",
    "HV.columns = ['hate_speech','offensive_speech','clean_speech','label']\n",
    "HV.head()"
   ]
  },
  {
   "cell_type": "code",
   "execution_count": 194,
   "metadata": {},
   "outputs": [],
   "source": [
    "features = ['hate_speech', 'offensive_speech', 'clean_speech']\n",
    "X = HV[features]\n",
    "Y = HV[['label']]\n",
    "from sklearn import preprocessing\n",
    "scaler = preprocessing.MinMaxScaler()\n",
    "X = X.fillna(0);\n",
    "Y = Y.fillna(0);\n",
    "scaled_X = scaler.fit_transform(X)\n",
    "scaled_Y = scaler.fit_transform(Y)"
   ]
  },
  {
   "cell_type": "code",
   "execution_count": 195,
   "metadata": {},
   "outputs": [
    {
     "name": "stdout",
     "output_type": "stream",
     "text": [
      "[LibLinear]LogisticRegression(C=1.0, class_weight=None, dual=False, fit_intercept=True,\n",
      "          intercept_scaling=1, max_iter=100, multi_class='ovr', n_jobs=1,\n",
      "          penalty='l2', random_state=None, solver='liblinear', tol=0.0001,\n",
      "          verbose=1, warm_start=False)\n",
      "Score: 0.7978515625\n"
     ]
    },
    {
     "name": "stderr",
     "output_type": "stream",
     "text": [
      "/opt/anaconda3/lib/python3.7/site-packages/sklearn/utils/validation.py:578: DataConversionWarning: A column-vector y was passed when a 1d array was expected. Please change the shape of y to (n_samples, ), for example using ravel().\n",
      "  y = column_or_1d(y, warn=True)\n"
     ]
    }
   ],
   "source": [
    "from sklearn.model_selection import train_test_split\n",
    "from sklearn import linear_model\n",
    "X_train, X_test, y_train, y_test = train_test_split(scaled_X, scaled_Y, test_size=0.1, random_state=0)\n",
    "lm = linear_model.LogisticRegression(verbose=1)\n",
    "model = lm.fit(X_train, y_train)\n",
    "print (model)\n",
    "predictions = lm.predict(X_test)\n",
    "\n",
    "print (\"Score:\", model.score(X_test, y_test))"
   ]
  },
  {
   "cell_type": "code",
   "execution_count": 197,
   "metadata": {},
   "outputs": [
    {
     "name": "stdout",
     "output_type": "stream",
     "text": [
      "LR coefficient hate_speech -0.5515713452601563\n",
      "LR coefficient offensive_speech 0.484937433872727\n",
      "LR coefficient clean_speech 0.5603508054304506\n"
     ]
    }
   ],
   "source": [
    "coefficient = []\n",
    "sum = 0.0\n",
    "for i in range(0,len(model.coef_[0])):\n",
    "    print (\"LR coefficient\", HV.columns[i], model.coef_[0][i])\n",
    "    sum += model.coef_[0][i]\n",
    "    coefficient.append(model.coef_[0][i])"
   ]
  },
  {
   "cell_type": "code",
   "execution_count": null,
   "metadata": {},
   "outputs": [],
   "source": []
  }
 ],
 "metadata": {
  "kernelspec": {
   "display_name": "Python 3",
   "language": "python",
   "name": "python3"
  },
  "language_info": {
   "codemirror_mode": {
    "name": "ipython",
    "version": 3
   },
   "file_extension": ".py",
   "mimetype": "text/x-python",
   "name": "python",
   "nbconvert_exporter": "python",
   "pygments_lexer": "ipython3",
   "version": "3.7.0"
  }
 },
 "nbformat": 4,
 "nbformat_minor": 2
}
