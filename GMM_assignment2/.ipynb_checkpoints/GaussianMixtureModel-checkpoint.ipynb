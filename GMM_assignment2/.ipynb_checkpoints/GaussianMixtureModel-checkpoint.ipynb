{
 "cells": [
  {
   "cell_type": "markdown",
   "metadata": {},
   "source": [
    "<h1> **Gaussian Mixture Model on Cars Dataset** </h1>"
   ]
  },
  {
   "cell_type": "code",
   "execution_count": null,
   "metadata": {},
   "outputs": [],
   "source": [
    "from sklearn.cluster import KMeans\n",
    "import matplotlib.pyplot as plt\n",
    "from sklearn.metrics import silhouette_score\n",
    "from matplotlib import colors\n",
    "import matplotlib\n",
    "import pylab as pl\n",
    "import pandas as pd\n",
    "%matplotlib inline"
   ]
  },
  {
   "cell_type": "code",
   "execution_count": null,
   "metadata": {},
   "outputs": [],
   "source": [
    "## Cleaning the data to fill replace NA fields with zeroes\n",
    "data = pd.read_csv('cars.csv')\n",
    "data = data.fillna(0)\n",
    "data.brand = pd.Categorical(data.brand)\n",
    "## converting the string brand into a categorical variable\n",
    "data['brand_categorical_variable'] = data.brand.cat.codes\n"
   ]
  },
  {
   "cell_type": "code",
   "execution_count": null,
   "metadata": {},
   "outputs": [],
   "source": [
    "features_to_be_included = ['mpg', 'cylinders', 'cubicinches', 'hp', 'weightlbs', 'time-to-60', 'year' ,'brand_categorical_variable' ]\n",
    "data = data[features_to_be_included]"
   ]
  },
  {
   "cell_type": "code",
   "execution_count": null,
   "metadata": {},
   "outputs": [],
   "source": [
    "## Code referred from professor reading assignment links\n",
    "from matplotlib.patches import Ellipse\n",
    "\n",
    "def draw_ellipse(position, covariance, ax=None, **kwargs):\n",
    "    \"\"\"Draw an ellipse with a given position and covariance\"\"\"\n",
    "    ax = ax or plt.gca()\n",
    "    \n",
    "    # Convert covariance to principal axes\n",
    "    if covariance.shape == (2, 2):\n",
    "        U, s, Vt = np.linalg.svd(covariance)\n",
    "        angle = np.degrees(np.arctan2(U[1, 0], U[0, 0]))\n",
    "        width, height = 2 * np.sqrt(s)\n",
    "    else:\n",
    "        angle = 0\n",
    "        width, height = 2 * np.sqrt(covariance)\n",
    "    \n",
    "    # Draw the Ellipse\n",
    "    for nsig in range(1, 4):\n",
    "        ax.add_patch(Ellipse(position, nsig * width, nsig * height,\n",
    "                             angle, **kwargs))\n",
    "        \n",
    "def plot_gmm(gmm, X, label=True, ax=None):\n",
    "    ax = ax or plt.gca()\n",
    "    labels = gmm.fit(X).predict(X)\n",
    "    if label:\n",
    "        ax.scatter(X[:, 0], X[:, 4], c=labels, s=40, cmap='viridis', zorder=2)\n",
    "    else:\n",
    "        ax.scatter(X[:, 0], X[:, 4], s=40, zorder=2)\n",
    "    ax.axis('equal')\n",
    "    \n",
    "    w_factor = 0.2 / gmm.weights_.max()\n",
    "    for pos, covar, w in zip(gmm.means_, gmm.covars_, gmm.weights_):\n",
    "        draw_ellipse(pos, covar, alpha=w * w_factor)"
   ]
  },
  {
   "cell_type": "code",
   "execution_count": null,
   "metadata": {
    "scrolled": true
   },
   "outputs": [],
   "source": [
    "from sklearn.mixture import GaussianMixture\n",
    "gmm = GaussianMixture(n_components=4,verbose=1,verbose_interval=10,max_iter=500).fit(data.values)\n",
    "labels = gmm.predict(data.values)\n",
    "X = data.values\n",
    "plt.scatter(X[:, 0], X[:, 4], c=labels, s=40, cmap='viridis');"
   ]
  },
  {
   "cell_type": "code",
   "execution_count": null,
   "metadata": {},
   "outputs": [],
   "source": [
    "cylinders = features_to_be_included_4_kmeans[1]\n",
    "matplotlib.pyplot.hist(kmeans_data[cylinders])"
   ]
  },
  {
   "cell_type": "code",
   "execution_count": null,
   "metadata": {},
   "outputs": [],
   "source": [
    "cubicinches = features_to_be_included_4_kmeans[2]\n",
    "matplotlib.pyplot.hist(kmeans_data[cubicinches])"
   ]
  },
  {
   "cell_type": "code",
   "execution_count": null,
   "metadata": {},
   "outputs": [],
   "source": [
    "hp = features_to_be_included_4_kmeans[3]\n",
    "matplotlib.pyplot.hist(kmeans_data[hp])"
   ]
  },
  {
   "cell_type": "code",
   "execution_count": null,
   "metadata": {},
   "outputs": [],
   "source": [
    "weightlbs = features_to_be_included_4_kmeans[4]\n",
    "matplotlib.pyplot.hist(kmeans_data[weightlbs])"
   ]
  },
  {
   "cell_type": "code",
   "execution_count": null,
   "metadata": {},
   "outputs": [],
   "source": [
    "timeto60 = features_to_be_included_4_kmeans[5]\n",
    "matplotlib.pyplot.hist(kmeans_data[timeto60])"
   ]
  },
  {
   "cell_type": "code",
   "execution_count": null,
   "metadata": {},
   "outputs": [],
   "source": [
    "## finding optimal number of clusters using Silhouttee coefficients and kmeans scores\n",
    "silhoutte_coefficients = []\n",
    "kmeans_scores = []\n",
    "X = []\n",
    "for i in range(1,11):\n",
    "    model = KMeans( init='k-means++',n_clusters=i)\n",
    "    data = kmeans_data[features_to_be_included_4_kmeans]\n",
    "    kmeans = model.fit(data)\n",
    "    label = kmeans.labels_\n",
    "    if (i > 1):\n",
    "        sil_coeff = silhouette_score(data, label, metric='euclidean')\n",
    "    else:\n",
    "        sil_coeff = 0\n",
    "    score_from_kmeans_fit = kmeans.score(data)\n",
    "    kmeans_scores.append(score_from_kmeans_fit)\n",
    "    silhoutte_coefficients.append(sil_coeff)\n",
    "    X.append(i)\n",
    "    \n",
    "    print(\"Number of Clusters = {}: The Silhouette Coefficient is {}\\n Number of Clusters = {}: Score from Kmeans fit {}\".format(i, sil_coeff,i, score_from_kmeans_fit))"
   ]
  },
  {
   "cell_type": "code",
   "execution_count": null,
   "metadata": {},
   "outputs": [],
   "source": [
    "finalized_cluster_count = 2\n",
    "model = KMeans( init='k-means++',n_clusters=finalized_cluster_count)\n",
    "data = kmeans_data[features_to_be_included_4_kmeans]\n",
    "kmeans = model.fit(data)\n",
    "label = kmeans.labels_\n",
    "sil_coeff = silhouette_score(data, label, metric='euclidean')\n",
    "Score = kmeans.score(data)\n",
    "print (Score)\n",
    "print(\"Number of Clusters = {}, The Silhouette Coefficient is {}\".format(finalized_cluster_count, sil_coeff))"
   ]
  },
  {
   "cell_type": "code",
   "execution_count": null,
   "metadata": {},
   "outputs": [],
   "source": [
    "finalized_cluster_count = 2\n",
    "model = KMeans(n_clusters=finalized_cluster_count)\n",
    "data = kmeans_data[features_to_be_included_4_kmeans]\n",
    "kmeans = model.fit(data)\n",
    "label = kmeans.labels_\n",
    "sil_coeff = silhouette_score(data, label, metric='euclidean')\n",
    "Score = kmeans.score(data)\n",
    "print (Score)\n",
    "print(\"Number of Clusters = {}, The Silhouette Coefficient is {}\".format(finalized_cluster_count, sil_coeff))"
   ]
  },
  {
   "cell_type": "code",
   "execution_count": null,
   "metadata": {},
   "outputs": [],
   "source": [
    "kmeans_scores"
   ]
  },
  {
   "cell_type": "code",
   "execution_count": null,
   "metadata": {},
   "outputs": [],
   "source": [
    "### Elbow method for plotting parameter K vs k-means score to compute optimal K value\n",
    "L = matplotlib.pyplot.plot( X, kmeans_scores, linewidth=5)\n",
    "## Elbow method shows there that k-means-score flatten at K = 5"
   ]
  },
  {
   "cell_type": "code",
   "execution_count": null,
   "metadata": {},
   "outputs": [],
   "source": [
    "### plotting parameter K vs silhoutte score to compute optimal K value\n",
    "SHS = matplotlib.pyplot.plot( X, silhoutte_coefficients, linewidth=5)\n",
    "## Silhoutte scores range between -1 to 1. \n",
    "# Silhoutte scores promote cluster density and more distance between clusters.\n",
    "## There are two silhoutte peaks at K=2 and K =5"
   ]
  },
  {
   "cell_type": "code",
   "execution_count": null,
   "metadata": {},
   "outputs": [],
   "source": [
    "# Although silhoutte has 2 peaks, \n",
    "#Based on silhoutte method and elbow method, we can choose K = 5 as optimal number of clusters"
   ]
  },
  {
   "cell_type": "code",
   "execution_count": null,
   "metadata": {},
   "outputs": [],
   "source": [
    "model = KMeans(n_clusters=5)\n",
    "test_features= ['mpg','weightlbs']\n",
    "features_to_be_included_4_kmeans= test_features;\n",
    "data = kmeans_data[features_to_be_included_4_kmeans]\n",
    "kmeans = model.fit(data)\n"
   ]
  },
  {
   "cell_type": "code",
   "execution_count": null,
   "metadata": {},
   "outputs": [],
   "source": [
    "predict_label_per_point = model.predict(data)\n",
    "import collections\n",
    "collections.Counter(predict_label_per_point)"
   ]
  },
  {
   "cell_type": "code",
   "execution_count": null,
   "metadata": {},
   "outputs": [],
   "source": [
    "#mpg vs weight\n",
    "color_map=['red', 'green', 'blue', 'orange', 'magenta']\n",
    "import matplotlib.pyplot as plt\n",
    "plt.scatter(data.iloc[:, 0], data.iloc[:, 1], c=predict_label_per_point, s=20, cmap=colors.ListedColormap(color_map))\n",
    "plt.show()"
   ]
  },
  {
   "cell_type": "code",
   "execution_count": null,
   "metadata": {},
   "outputs": [],
   "source": [
    "# There are 5 clusters, Counter({0: 46, 1: 72, 2: 56, 3: 84, 4: 3})\n",
    "#0 = red (46 points)\n",
    "#1 = blue 72 points\n",
    "#2 = green (56 points)\n",
    "#3 = orange (84 points)\n",
    "#4 = magenta (3 points)\n",
    "#mpg vs weight\n",
    "color_map=['red', 'lightgreen', 'lightblue', 'magenta', 'orange']\n",
    "import matplotlib.pyplot as plt\n",
    "plt.scatter(data.iloc[:, 0], data.iloc[:, 1], c=predict_label_per_point, cmap=colors.ListedColormap(color_map))\n",
    "centers = model.cluster_centers_\n",
    "plt.scatter(centers[:, 0], centers[:, 1], c='black', marker='*', s=200);\n",
    "plt.show()"
   ]
  },
  {
   "cell_type": "code",
   "execution_count": null,
   "metadata": {},
   "outputs": [],
   "source": []
  }
 ],
 "metadata": {
  "kernelspec": {
   "display_name": "Python 3",
   "language": "python",
   "name": "python3"
  },
  "language_info": {
   "codemirror_mode": {
    "name": "ipython",
    "version": 3
   },
   "file_extension": ".py",
   "mimetype": "text/x-python",
   "name": "python",
   "nbconvert_exporter": "python",
   "pygments_lexer": "ipython3",
   "version": "3.6.5"
  }
 },
 "nbformat": 4,
 "nbformat_minor": 2
}
