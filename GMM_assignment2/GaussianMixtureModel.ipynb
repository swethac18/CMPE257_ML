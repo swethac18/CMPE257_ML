{
 "cells": [
  {
   "cell_type": "markdown",
   "metadata": {},
   "source": [
    "<h1> **Gaussian Mixture Model on Cars Dataset** </h1>"
   ]
  },
  {
   "cell_type": "code",
   "execution_count": null,
   "metadata": {},
   "outputs": [],
   "source": [
    "from sklearn.cluster import KMeans\n",
    "import matplotlib.pyplot as plt\n",
    "from sklearn.metrics import silhouette_score\n",
    "from matplotlib import colors\n",
    "import matplotlib\n",
    "import pylab as pl\n",
    "import pandas as pd\n",
    "%matplotlib inline"
   ]
  },
  {
   "cell_type": "markdown",
   "metadata": {},
   "source": [
    "<h1> Cleaning the data to replace NA fields with zeroes </h1>\n"
   ]
  },
  {
   "cell_type": "code",
   "execution_count": null,
   "metadata": {},
   "outputs": [],
   "source": [
    "## Cleaning the data to fill replace NA fields with zeroes\n",
    "data = pd.read_csv('cars.csv')\n",
    "data = data.fillna(0)\n",
    "data.brand = pd.Categorical(data.brand)\n",
    "## converting the string brand into a categorical variable\n",
    "data['brand_categorical_variable'] = data.brand.cat.codes\n"
   ]
  },
  {
   "cell_type": "code",
   "execution_count": null,
   "metadata": {},
   "outputs": [],
   "source": [
    "features_to_be_included = ['mpg', 'cylinders', 'cubicinches', 'hp', 'weightlbs', 'time-to-60', 'year' ,'brand_categorical_variable' ]\n",
    "data = data[features_to_be_included]\n",
    "data[:2]\n",
    "print (\"Total number of records in dataset:\",len(data))\n"
   ]
  },
  {
   "cell_type": "markdown",
   "metadata": {},
   "source": [
    "<h1>** Code referred from professor reading assignment links **\n",
    "\n",
    "</h1>"
   ]
  },
  {
   "cell_type": "code",
   "execution_count": null,
   "metadata": {},
   "outputs": [],
   "source": [
    "from matplotlib.patches import Ellipse\n",
    "import numpy as np\n",
    "def draw_ellipse(position, covariance, ax=None, **kwargs):\n",
    "    \"\"\"Draw an ellipse with a given position and covariance\"\"\"\n",
    "    ax = ax or plt.gca()\n",
    "    \n",
    "    # Convert covariance to principal axes\n",
    "    if covariance.shape == (2, 2):\n",
    "        U, s, Vt = np.linalg.svd(covariance)\n",
    "        angle = np.degrees(np.arctan2(U[1, 0], U[0, 0]))\n",
    "        width, height = 2 * np.sqrt(s)\n",
    "    else:\n",
    "        angle = 0\n",
    "        width, height = 2 * np.sqrt(covariance)\n",
    "    \n",
    "    # Draw the Ellipse\n",
    "    for nsig in range(1, 4):\n",
    "        ax.add_patch(Ellipse(position, nsig * width, nsig * height,\n",
    "                             angle, **kwargs))\n",
    "        \n",
    "def plot_gmm(gmm, X, label=True, ax=None):\n",
    "    ax = ax or plt.gca()\n",
    "    labels = gmm.fit(X).predict(X)\n",
    "    if label:\n",
    "        ax.scatter(X[:, 0], X[:, 1], c=labels, s=40, cmap='viridis', zorder=2)\n",
    "    else:\n",
    "        ax.scatter(X[:, 0], X[:, 1], s=40, zorder=2)\n",
    "    ax.axis('equal')\n",
    "    \n",
    "    w_factor = 0.2 / gmm.weights_.max()\n",
    "    for pos, covar, w in zip(gmm.means_, gmm.covariances_, gmm.weights_):\n",
    "        draw_ellipse(pos, covar, alpha=w * w_factor)\n"
   ]
  },
  {
   "cell_type": "code",
   "execution_count": null,
   "metadata": {
    "scrolled": true
   },
   "outputs": [],
   "source": [
    "number_of_components=6\n",
    "from sklearn.mixture import GaussianMixture\n",
    "gmm = GaussianMixture(n_components=number_of_components,covariance_type='full',verbose=0,verbose_interval=10,max_iter=5000).fit(data.values)\n",
    "labels = gmm.predict(data.values)\n",
    "test_features= ['mpg','time-to-60']\n",
    "X = data[test_features].values\n",
    "plt.scatter(X[:, 0], X[:, 1], c=labels, s=5, cmap='viridis');\n",
    "plt.title(\"GMM for car dataset n_components=6\")\n",
    "plot_gmm(gmm,X)"
   ]
  },
  {
   "cell_type": "markdown",
   "metadata": {},
   "source": [
    "<h1> ** Identifying optimal number of n components using AIC/ BIC criteria**</h1>"
   ]
  },
  {
   "cell_type": "code",
   "execution_count": null,
   "metadata": {},
   "outputs": [],
   "source": [
    "gmm_models = [GaussianMixture(n_components=i,\n",
    "                              covariance_type='full',max_iter=500).fit(data.values) \n",
    "              for i in range(1,26)] \n",
    "n_components = [i for i in range(1,26)]\n",
    "plt.plot(n_components, [m.bic(data.values) for m in gmm_models], label='BIC')\n",
    "plt.plot(n_components, [m.aic(data.values) for m in gmm_models], label='AIC')\n",
    "plt.title(\"BIC AIC vs Number of Components in GMM\")\n",
    "plt.legend(loc='best')\n",
    "plt.xlabel('number_of_components');"
   ]
  },
  {
   "cell_type": "markdown",
   "metadata": {},
   "source": [
    "<h1> Density estimation and GMM Generator </h1>"
   ]
  },
  {
   "cell_type": "code",
   "execution_count": null,
   "metadata": {},
   "outputs": [],
   "source": [
    "#density estimation using GMM as generator\n",
    "gmm = GaussianMixture(n_components=number_of_components,covariance_type='full', random_state=0)\n",
    "model = gmm.fit(data.values)\n",
    "(genX, genY) = model.sample(1000)\n",
    "plt.scatter(genX[:,0], genX[:,5],c=genY,s=20,cmap='viridis')\n",
    "test_features= ['mpg','time-to-60']\n",
    "X = data[test_features].values\n",
    "plt.title(\"GMM as Generator\")\n",
    "genX = genX[:,[0,5]]\n",
    "plot_gmm(gmm,genX)\n"
   ]
  },
  {
   "cell_type": "markdown",
   "metadata": {},
   "source": [
    "<h1> Hierarchial Clustering using GMM </h1>"
   ]
  },
  {
   "cell_type": "code",
   "execution_count": null,
   "metadata": {},
   "outputs": [],
   "source": [
    "## TBD\n",
    "from sklearn.cluster import AgglomerativeClustering\n",
    "from sklearn.cluster import FeatureAgglomeration\n",
    "from sklearn.neighbors import kneighbors_graph\n",
    "KeepXNearestPointsConnected = kneighbors_graph(data.values, n_neighbors=5, include_self=False)\n",
    "HC = AgglomerativeClustering(n_clusters=number_of_components, linkage='ward', connectivity=KeepXNearestPointsConnected)\n",
    "HC.fit(data.values)\n",
    "test_features= ['mpg','weightlbs']\n",
    "X = data[test_features].values\n",
    "plt.scatter(X[:, 0], X[:, 1], c=HC.labels_, s=20, cmap='viridis');\n",
    "plt.title(\"hierarchial clustering for car dataset n_components=5\")\n",
    "plt.xlabel(\"mpg\")\n",
    "plt.ylabel(\"weight in pounds\")\n",
    "#plot_hierarchial_clustering(ward,X)"
   ]
  },
  {
   "cell_type": "markdown",
   "metadata": {},
   "source": [
    "<h1> Evaluation of Hierarchial Clustering </h1>"
   ]
  },
  {
   "cell_type": "code",
   "execution_count": null,
   "metadata": {},
   "outputs": [],
   "source": [
    "from sklearn import metrics\n",
    "from sklearn.metrics import pairwise_distances\n",
    "X = data.values\n",
    "labels = HC.labels_\n",
    "metrics.calinski_harabaz_score(X, labels)  "
   ]
  },
  {
   "cell_type": "markdown",
   "metadata": {},
   "source": [
    "<h1> Comparing silhoutte score K means, GMM, Hierarchial Clustering for 6 components </h1>"
   ]
  },
  {
   "cell_type": "code",
   "execution_count": null,
   "metadata": {},
   "outputs": [],
   "source": [
    "from sklearn.metrics import silhouette_score\n",
    "silhoutte_coefficients = []\n",
    "gmm = GaussianMixture(n_components=number_of_components,covariance_type='spherical',verbose=0,verbose_interval=10,max_iter=5000).fit(data.values)\n",
    "gmm_labels = gmm.predict(data.values)\n",
    "gmm_silhoute_score = silhouette_score(data, gmm_labels, metric='euclidean')\n",
    "kmeans = KMeans( init='k-means++',n_clusters=number_of_components)\n",
    "kmeans_model = kmeans.fit(data)\n",
    "kmeans_labels = kmeans_model.labels_\n",
    "kmeans_silhoute_score = silhouette_score(data, kmeans_labels, metric='euclidean')\n",
    "KeepXNearestPointsConnected = kneighbors_graph(data.values, n_neighbors=10, include_self=False)\n",
    "HC = AgglomerativeClustering(n_clusters=number_of_components, linkage='ward', connectivity=KeepXNearestPointsConnected)\n",
    "HC.fit(data.values)\n",
    "HC_silhoute_score = silhouette_score(data, HC.labels_, metric='euclidean')\n",
    "print (\"Silhoutte score for Kmeans:\",kmeans_silhoute_score, \"GMM:\", gmm_silhoute_score, \"Hierarchial Clustering:\",HC_silhoute_score)"
   ]
  },
  {
   "cell_type": "markdown",
   "metadata": {},
   "source": [
    "<h1> Comparing calinski_harabaz_score score K means, GMM, Hierarchial Clustering for 6 components </h1>"
   ]
  },
  {
   "cell_type": "code",
   "execution_count": null,
   "metadata": {},
   "outputs": [],
   "source": [
    "from sklearn import metrics\n",
    "from sklearn.metrics import pairwise_distances\n",
    "X = data.values\n",
    "HC_ch_score = metrics.calinski_harabaz_score(X, HC.labels_)  \n",
    "kmeans_ch_score = metrics.calinski_harabaz_score(X,kmeans_model.labels_)\n",
    "gmm_ch_score = metrics.calinski_harabaz_score(X, gmm_labels)\n",
    "print (\"Calinski Harabaz score: \", \"kmeans:\",kmeans_ch_score,  \"gmm:\",gmm_ch_score, \"Hierarchial Clustering:\",HC_ch_score)"
   ]
  },
  {
   "cell_type": "code",
   "execution_count": null,
   "metadata": {},
   "outputs": [],
   "source": []
  }
 ],
 "metadata": {
  "kernelspec": {
   "display_name": "Python 3",
   "language": "python",
   "name": "python3"
  },
  "language_info": {
   "codemirror_mode": {
    "name": "ipython",
    "version": 3
   },
   "file_extension": ".py",
   "mimetype": "text/x-python",
   "name": "python",
   "nbconvert_exporter": "python",
   "pygments_lexer": "ipython3",
   "version": "3.6.5"
  },
  "widgets": {
   "application/vnd.jupyter.widget-state+json": {
    "state": {},
    "version_major": 2,
    "version_minor": 0
   }
  }
 },
 "nbformat": 4,
 "nbformat_minor": 2
}
