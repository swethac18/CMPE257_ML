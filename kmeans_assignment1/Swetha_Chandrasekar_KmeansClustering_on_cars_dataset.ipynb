{
 "cells": [
  {
   "cell_type": "code",
   "execution_count": 10,
   "metadata": {},
   "outputs": [],
   "source": [
    "from sklearn.cluster import KMeans\n",
    "import collections\n",
    "import matplotlib.pyplot as plt\n",
    "from sklearn.metrics import silhouette_score\n",
    "from matplotlib import colors\n",
    "import pylab as pl\n",
    "import pandas as pd\n",
    "%matplotlib inline"
   ]
  },
  {
   "cell_type": "code",
   "execution_count": 64,
   "metadata": {},
   "outputs": [],
   "source": [
    "data = pd.read_csv('cars.csv')\n",
    "kmeans_data = data.fillna(0)\n",
    "kmeans_data.brand = pd.Categorical(kmeans_data.brand)\n",
    "kmeans_data['brand_categorical_variable'] = kmeans_data.brand.cat.codes\n"
   ]
  },
  {
   "cell_type": "code",
   "execution_count": 65,
   "metadata": {},
   "outputs": [
    {
     "data": {
      "text/html": [
       "<div>\n",
       "<style scoped>\n",
       "    .dataframe tbody tr th:only-of-type {\n",
       "        vertical-align: middle;\n",
       "    }\n",
       "\n",
       "    .dataframe tbody tr th {\n",
       "        vertical-align: top;\n",
       "    }\n",
       "\n",
       "    .dataframe thead th {\n",
       "        text-align: right;\n",
       "    }\n",
       "</style>\n",
       "<table border=\"1\" class=\"dataframe\">\n",
       "  <thead>\n",
       "    <tr style=\"text-align: right;\">\n",
       "      <th></th>\n",
       "      <th>mpg</th>\n",
       "      <th>cylinders</th>\n",
       "      <th>cubicinches</th>\n",
       "      <th>hp</th>\n",
       "      <th>weightlbs</th>\n",
       "      <th>time-to-60</th>\n",
       "      <th>year</th>\n",
       "      <th>brand</th>\n",
       "      <th>brand_categorical_variable</th>\n",
       "    </tr>\n",
       "  </thead>\n",
       "  <tbody>\n",
       "    <tr>\n",
       "      <th>0</th>\n",
       "      <td>14.0</td>\n",
       "      <td>8</td>\n",
       "      <td>350.0</td>\n",
       "      <td>165</td>\n",
       "      <td>4209.0</td>\n",
       "      <td>12</td>\n",
       "      <td>1972</td>\n",
       "      <td>US.</td>\n",
       "      <td>2</td>\n",
       "    </tr>\n",
       "  </tbody>\n",
       "</table>\n",
       "</div>"
      ],
      "text/plain": [
       "    mpg  cylinders  cubicinches   hp  weightlbs  time-to-60  year brand  \\\n",
       "0  14.0          8        350.0  165     4209.0          12  1972   US.   \n",
       "\n",
       "   brand_categorical_variable  \n",
       "0                           2  "
      ]
     },
     "execution_count": 65,
     "metadata": {},
     "output_type": "execute_result"
    }
   ],
   "source": [
    "kmeans_data[:1]"
   ]
  },
  {
   "cell_type": "code",
   "execution_count": 66,
   "metadata": {},
   "outputs": [],
   "source": [
    "features_to_be_included_4_kmeans = ['mpg', 'cylinders', 'cubicinches', 'hp', 'weightlbs', 'time-to-60'] #'year' # 'brand_categorical_variable' ]"
   ]
  },
  {
   "cell_type": "code",
   "execution_count": 67,
   "metadata": {},
   "outputs": [
    {
     "data": {
      "text/plain": [
       "['hp', 'time-to-60', 'brand_code', 'cubicinches']"
      ]
     },
     "execution_count": 67,
     "metadata": {},
     "output_type": "execute_result"
    }
   ],
   "source": [
    "len(features_to_be_included_4_kmeans)\n",
    "columns = ['hp', 'time-to-60', 'brand_code', 'cubicinches']\n",
    "columns"
   ]
  },
  {
   "cell_type": "code",
   "execution_count": 68,
   "metadata": {},
   "outputs": [],
   "source": [
    "columns = ['hp', 'time-to-60', 'mpg', 'cubicinches', 'cylinders', 'weightlbs']"
   ]
  },
  {
   "cell_type": "code",
   "execution_count": 69,
   "metadata": {},
   "outputs": [
    {
     "data": {
      "text/plain": [
       "6"
      ]
     },
     "execution_count": 69,
     "metadata": {},
     "output_type": "execute_result"
    }
   ],
   "source": [
    "len(columns)"
   ]
  },
  {
   "cell_type": "code",
   "execution_count": 70,
   "metadata": {},
   "outputs": [
    {
     "name": "stdout",
     "output_type": "stream",
     "text": [
      "Number of Clusters = 1, The Silhouette Coefficient is 0 Score from Kmeans fit -217921570.79685867\n",
      "Number of Clusters = 2, The Silhouette Coefficient is 0.6192878770684911 Score from Kmeans fit -65171724.77474168\n",
      "Number of Clusters = 3, The Silhouette Coefficient is 0.5599004358643473 Score from Kmeans fit -36715403.722278245\n",
      "Number of Clusters = 4, The Silhouette Coefficient is 0.5664666464242117 Score from Kmeans fit -23492150.486963935\n",
      "Number of Clusters = 5, The Silhouette Coefficient is 0.587422153263827 Score from Kmeans fit -12365589.202925976\n",
      "Number of Clusters = 6, The Silhouette Coefficient is 0.5570471331058945 Score from Kmeans fit -9007521.497233273\n",
      "Number of Clusters = 7, The Silhouette Coefficient is 0.5417180680508369 Score from Kmeans fit -6675666.216675397\n",
      "Number of Clusters = 8, The Silhouette Coefficient is 0.5317274169884374 Score from Kmeans fit -4962464.547137052\n",
      "Number of Clusters = 9, The Silhouette Coefficient is 0.5363740064783994 Score from Kmeans fit -3743908.0938516217\n",
      "Number of Clusters = 10, The Silhouette Coefficient is 0.5331957132519194 Score from Kmeans fit -3151630.8831655593\n"
     ]
    }
   ],
   "source": [
    "silhoutte_coefficients = []\n",
    "kmeans_scores = []\n",
    "X = []\n",
    "for i in range(1,11):\n",
    "    model = KMeans( init='k-means++',n_clusters=i)\n",
    "    data = kmeans_data[features_to_be_included_4_kmeans]\n",
    "    kmeans = model.fit(data)\n",
    "    label = kmeans.labels_\n",
    "    if (i > 1):\n",
    "        sil_coeff = silhouette_score(data, label, metric='euclidean')\n",
    "    else:\n",
    "        sil_coeff = 0\n",
    "    score_from_kmeans_fit = kmeans.score(data)\n",
    "    kmeans_scores.append(score_from_kmeans_fit)\n",
    "    silhoutte_coefficients.append(sil_coeff)\n",
    "    X.append(i)\n",
    "    \n",
    "    print(\"Number of Clusters = {}, The Silhouette Coefficient is {} Score from Kmeans fit {}\".format(i, sil_coeff, score_from_kmeans_fit))"
   ]
  },
  {
   "cell_type": "code",
   "execution_count": 71,
   "metadata": {},
   "outputs": [
    {
     "name": "stdout",
     "output_type": "stream",
     "text": [
      "-65171724.77474168\n",
      "Number of Clusters = 2, The Silhouette Coefficient is 0.6192878770684911\n"
     ]
    }
   ],
   "source": [
    "finalized_cluster_count = 2\n",
    "model = KMeans( init='k-means++',n_clusters=finalized_cluster_count)\n",
    "data = kmeans_data[features_to_be_included_4_kmeans]\n",
    "kmeans = model.fit(data)\n",
    "label = kmeans.labels_\n",
    "sil_coeff = silhouette_score(data, label, metric='euclidean')\n",
    "Score = kmeans.score(data)\n",
    "print (Score)\n",
    "print(\"Number of Clusters = {}, The Silhouette Coefficient is {}\".format(finalized_cluster_count, sil_coeff))"
   ]
  },
  {
   "cell_type": "code",
   "execution_count": 72,
   "metadata": {},
   "outputs": [
    {
     "name": "stdout",
     "output_type": "stream",
     "text": [
      "-65171724.77474168\n",
      "Number of Clusters = 2, The Silhouette Coefficient is 0.6192878770684911\n"
     ]
    }
   ],
   "source": [
    "finalized_cluster_count = 2\n",
    "model = KMeans(n_clusters=finalized_cluster_count)\n",
    "data = kmeans_data[features_to_be_included_4_kmeans]\n",
    "kmeans = model.fit(data)\n",
    "label = kmeans.labels_\n",
    "sil_coeff = silhouette_score(data, label, metric='euclidean')\n",
    "Score = kmeans.score(data)\n",
    "print (Score)\n",
    "print(\"Number of Clusters = {}, The Silhouette Coefficient is {}\".format(finalized_cluster_count, sil_coeff))"
   ]
  },
  {
   "cell_type": "code",
   "execution_count": null,
   "metadata": {},
   "outputs": [],
   "source": []
  }
 ],
 "metadata": {
  "kernelspec": {
   "display_name": "Python 3",
   "language": "python",
   "name": "python3"
  },
  "language_info": {
   "codemirror_mode": {
    "name": "ipython",
    "version": 3
   },
   "file_extension": ".py",
   "mimetype": "text/x-python",
   "name": "python",
   "nbconvert_exporter": "python",
   "pygments_lexer": "ipython3",
   "version": "3.6.0"
  }
 },
 "nbformat": 4,
 "nbformat_minor": 2
}
