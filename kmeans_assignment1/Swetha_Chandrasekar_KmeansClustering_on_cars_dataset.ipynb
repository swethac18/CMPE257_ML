{
 "cells": [
  {
   "cell_type": "code",
   "execution_count": 2,
   "metadata": {},
   "outputs": [],
   "source": [
    "from sklearn.cluster import KMeans\n",
    "import matplotlib.pyplot as plt\n",
    "from sklearn.metrics import silhouette_score\n",
    "from matplotlib import colors\n",
    "import matplotlib\n",
    "import pylab as pl\n",
    "import pandas as pd\n",
    "%matplotlib inline"
   ]
  },
  {
   "cell_type": "code",
   "execution_count": 3,
   "metadata": {},
   "outputs": [],
   "source": [
    "data = pd.read_csv('cars.csv')\n",
    "kmeans_data = data.fillna(0)\n",
    "kmeans_data.brand = pd.Categorical(kmeans_data.brand)\n",
    "kmeans_data['brand_categorical_variable'] = kmeans_data.brand.cat.codes\n"
   ]
  },
  {
   "cell_type": "code",
   "execution_count": 4,
   "metadata": {},
   "outputs": [
    {
     "data": {
      "text/html": [
       "<div>\n",
       "<style scoped>\n",
       "    .dataframe tbody tr th:only-of-type {\n",
       "        vertical-align: middle;\n",
       "    }\n",
       "\n",
       "    .dataframe tbody tr th {\n",
       "        vertical-align: top;\n",
       "    }\n",
       "\n",
       "    .dataframe thead th {\n",
       "        text-align: right;\n",
       "    }\n",
       "</style>\n",
       "<table border=\"1\" class=\"dataframe\">\n",
       "  <thead>\n",
       "    <tr style=\"text-align: right;\">\n",
       "      <th></th>\n",
       "      <th>mpg</th>\n",
       "      <th>cylinders</th>\n",
       "      <th>cubicinches</th>\n",
       "      <th>hp</th>\n",
       "      <th>weightlbs</th>\n",
       "      <th>time-to-60</th>\n",
       "      <th>year</th>\n",
       "      <th>brand</th>\n",
       "      <th>brand_categorical_variable</th>\n",
       "    </tr>\n",
       "  </thead>\n",
       "  <tbody>\n",
       "    <tr>\n",
       "      <th>0</th>\n",
       "      <td>14.0</td>\n",
       "      <td>8</td>\n",
       "      <td>350.0</td>\n",
       "      <td>165</td>\n",
       "      <td>4209.0</td>\n",
       "      <td>12</td>\n",
       "      <td>1972</td>\n",
       "      <td>US.</td>\n",
       "      <td>2</td>\n",
       "    </tr>\n",
       "    <tr>\n",
       "      <th>1</th>\n",
       "      <td>31.9</td>\n",
       "      <td>4</td>\n",
       "      <td>89.0</td>\n",
       "      <td>71</td>\n",
       "      <td>1925.0</td>\n",
       "      <td>14</td>\n",
       "      <td>1980</td>\n",
       "      <td>Europe.</td>\n",
       "      <td>0</td>\n",
       "    </tr>\n",
       "    <tr>\n",
       "      <th>2</th>\n",
       "      <td>17.0</td>\n",
       "      <td>8</td>\n",
       "      <td>302.0</td>\n",
       "      <td>140</td>\n",
       "      <td>3449.0</td>\n",
       "      <td>11</td>\n",
       "      <td>1971</td>\n",
       "      <td>US.</td>\n",
       "      <td>2</td>\n",
       "    </tr>\n",
       "    <tr>\n",
       "      <th>3</th>\n",
       "      <td>15.0</td>\n",
       "      <td>8</td>\n",
       "      <td>400.0</td>\n",
       "      <td>150</td>\n",
       "      <td>3761.0</td>\n",
       "      <td>10</td>\n",
       "      <td>1971</td>\n",
       "      <td>US.</td>\n",
       "      <td>2</td>\n",
       "    </tr>\n",
       "    <tr>\n",
       "      <th>4</th>\n",
       "      <td>30.5</td>\n",
       "      <td>4</td>\n",
       "      <td>98.0</td>\n",
       "      <td>63</td>\n",
       "      <td>2051.0</td>\n",
       "      <td>17</td>\n",
       "      <td>1978</td>\n",
       "      <td>US.</td>\n",
       "      <td>2</td>\n",
       "    </tr>\n",
       "    <tr>\n",
       "      <th>5</th>\n",
       "      <td>23.0</td>\n",
       "      <td>8</td>\n",
       "      <td>350.0</td>\n",
       "      <td>125</td>\n",
       "      <td>3900.0</td>\n",
       "      <td>17</td>\n",
       "      <td>1980</td>\n",
       "      <td>US.</td>\n",
       "      <td>2</td>\n",
       "    </tr>\n",
       "    <tr>\n",
       "      <th>6</th>\n",
       "      <td>13.0</td>\n",
       "      <td>8</td>\n",
       "      <td>351.0</td>\n",
       "      <td>158</td>\n",
       "      <td>4363.0</td>\n",
       "      <td>13</td>\n",
       "      <td>1974</td>\n",
       "      <td>US.</td>\n",
       "      <td>2</td>\n",
       "    </tr>\n",
       "    <tr>\n",
       "      <th>7</th>\n",
       "      <td>14.0</td>\n",
       "      <td>8</td>\n",
       "      <td>440.0</td>\n",
       "      <td>215</td>\n",
       "      <td>4312.0</td>\n",
       "      <td>9</td>\n",
       "      <td>1971</td>\n",
       "      <td>US.</td>\n",
       "      <td>2</td>\n",
       "    </tr>\n",
       "    <tr>\n",
       "      <th>8</th>\n",
       "      <td>25.4</td>\n",
       "      <td>5</td>\n",
       "      <td>183.0</td>\n",
       "      <td>77</td>\n",
       "      <td>3530.0</td>\n",
       "      <td>20</td>\n",
       "      <td>1980</td>\n",
       "      <td>Europe.</td>\n",
       "      <td>0</td>\n",
       "    </tr>\n",
       "    <tr>\n",
       "      <th>9</th>\n",
       "      <td>37.7</td>\n",
       "      <td>4</td>\n",
       "      <td>89.0</td>\n",
       "      <td>62</td>\n",
       "      <td>2050.0</td>\n",
       "      <td>17</td>\n",
       "      <td>1982</td>\n",
       "      <td>Japan.</td>\n",
       "      <td>1</td>\n",
       "    </tr>\n",
       "  </tbody>\n",
       "</table>\n",
       "</div>"
      ],
      "text/plain": [
       "    mpg  cylinders  cubicinches   hp  weightlbs  time-to-60  year    brand  \\\n",
       "0  14.0          8        350.0  165     4209.0          12  1972      US.   \n",
       "1  31.9          4         89.0   71     1925.0          14  1980  Europe.   \n",
       "2  17.0          8        302.0  140     3449.0          11  1971      US.   \n",
       "3  15.0          8        400.0  150     3761.0          10  1971      US.   \n",
       "4  30.5          4         98.0   63     2051.0          17  1978      US.   \n",
       "5  23.0          8        350.0  125     3900.0          17  1980      US.   \n",
       "6  13.0          8        351.0  158     4363.0          13  1974      US.   \n",
       "7  14.0          8        440.0  215     4312.0           9  1971      US.   \n",
       "8  25.4          5        183.0   77     3530.0          20  1980  Europe.   \n",
       "9  37.7          4         89.0   62     2050.0          17  1982   Japan.   \n",
       "\n",
       "   brand_categorical_variable  \n",
       "0                           2  \n",
       "1                           0  \n",
       "2                           2  \n",
       "3                           2  \n",
       "4                           2  \n",
       "5                           2  \n",
       "6                           2  \n",
       "7                           2  \n",
       "8                           0  \n",
       "9                           1  "
      ]
     },
     "execution_count": 4,
     "metadata": {},
     "output_type": "execute_result"
    }
   ],
   "source": [
    "kmeans_data[:10]"
   ]
  },
  {
   "cell_type": "code",
   "execution_count": 5,
   "metadata": {},
   "outputs": [],
   "source": [
    "columns = ['hp', 'time-to-60', 'brand_code', 'cubicinches']\n",
    "features_to_be_included_4_kmeans = ['mpg', 'cylinders', 'cubicinches', 'hp', 'weightlbs', 'time-to-60'] #'year' # 'brand_categorical_variable' ]"
   ]
  },
  {
   "cell_type": "code",
   "execution_count": 6,
   "metadata": {
    "scrolled": true
   },
   "outputs": [
    {
     "data": {
      "text/plain": [
       "(array([20., 51., 47., 40., 36., 26., 22., 12.,  2.,  5.]),\n",
       " array([10.  , 13.66, 17.32, 20.98, 24.64, 28.3 , 31.96, 35.62, 39.28,\n",
       "        42.94, 46.6 ]),\n",
       " <a list of 10 Patch objects>)"
      ]
     },
     "execution_count": 6,
     "metadata": {},
     "output_type": "execute_result"
    },
    {
     "data": {
      "image/png": "[encoded data removed]",
      "text/plain": [
       "<Figure size 432x288 with 1 Axes>"
      ]
     },
     "metadata": {},
     "output_type": "display_data"
    }
   ],
   "source": [
    "mpg = features_to_be_included_4_kmeans[0]\n",
    "matplotlib.pyplot.hist(kmeans_data[mpg])"
   ]
  },
  {
   "cell_type": "code",
   "execution_count": 7,
   "metadata": {},
   "outputs": [
    {
     "data": {
      "text/plain": [
       "(array([  2.,   0., 125.,   0.,   3.,   0.,  55.,   0.,   0.,  76.]),\n",
       " array([3. , 3.5, 4. , 4.5, 5. , 5.5, 6. , 6.5, 7. , 7.5, 8. ]),\n",
       " <a list of 10 Patch objects>)"
      ]
     },
     "execution_count": 7,
     "metadata": {},
     "output_type": "execute_result"
    },
    {
     "data": {
      "image/png": "[encoded data removed]",
      "text/plain": [
       "<Figure size 432x288 with 1 Axes>"
      ]
     },
     "metadata": {},
     "output_type": "display_data"
    }
   ],
   "source": [
    "cylinders = features_to_be_included_4_kmeans[1]\n",
    "matplotlib.pyplot.hist(kmeans_data[cylinders])"
   ]
  },
  {
   "cell_type": "code",
   "execution_count": 8,
   "metadata": {},
   "outputs": [
    {
     "data": {
      "text/plain": [
       "(array([ 2., 29., 84., 27., 18., 28., 30., 23., 12.,  8.]),\n",
       " array([  0. ,  45.5,  91. , 136.5, 182. , 227.5, 273. , 318.5, 364. ,\n",
       "        409.5, 455. ]),\n",
       " <a list of 10 Patch objects>)"
      ]
     },
     "execution_count": 8,
     "metadata": {},
     "output_type": "execute_result"
    },
    {
     "data": {
      "image/png": "[encoded data removed]",
      "text/plain": [
       "<Figure size 432x288 with 1 Axes>"
      ]
     },
     "metadata": {},
     "output_type": "display_data"
    }
   ],
   "source": [
    "cubicinches = features_to_be_included_4_kmeans[2]\n",
    "matplotlib.pyplot.hist(kmeans_data[cubicinches])"
   ]
  },
  {
   "cell_type": "code",
   "execution_count": 9,
   "metadata": {},
   "outputs": [
    {
     "data": {
      "text/plain": [
       "(array([21., 59., 75., 27., 13., 37.,  9., 10.,  2.,  8.]),\n",
       " array([ 46. ,  64.4,  82.8, 101.2, 119.6, 138. , 156.4, 174.8, 193.2,\n",
       "        211.6, 230. ]),\n",
       " <a list of 10 Patch objects>)"
      ]
     },
     "execution_count": 9,
     "metadata": {},
     "output_type": "execute_result"
    },
    {
     "data": {
      "image/png": "[encoded data removed]",
      "text/plain": [
       "<Figure size 432x288 with 1 Axes>"
      ]
     },
     "metadata": {},
     "output_type": "display_data"
    }
   ],
   "source": [
    "hp = features_to_be_included_4_kmeans[3]\n",
    "matplotlib.pyplot.hist(kmeans_data[hp])"
   ]
  },
  {
   "cell_type": "code",
   "execution_count": 10,
   "metadata": {},
   "outputs": [
    {
     "data": {
      "text/plain": [
       "(array([ 3.,  0.,  0., 27., 59., 56., 39., 32., 33., 12.]),\n",
       " array([   0. ,  499.7,  999.4, 1499.1, 1998.8, 2498.5, 2998.2, 3497.9,\n",
       "        3997.6, 4497.3, 4997. ]),\n",
       " <a list of 10 Patch objects>)"
      ]
     },
     "execution_count": 10,
     "metadata": {},
     "output_type": "execute_result"
    },
    {
     "data": {
      "image/png": "[encoded data removed]",
      "text/plain": [
       "<Figure size 432x288 with 1 Axes>"
      ]
     },
     "metadata": {},
     "output_type": "display_data"
    }
   ],
   "source": [
    "weightlbs = features_to_be_included_4_kmeans[4]\n",
    "matplotlib.pyplot.hist(kmeans_data[weightlbs])"
   ]
  },
  {
   "cell_type": "code",
   "execution_count": 11,
   "metadata": {},
   "outputs": [
    {
     "data": {
      "text/plain": [
       "(array([ 4., 17., 41., 27., 84., 50., 17., 14.,  3.,  4.]),\n",
       " array([ 8. ,  9.7, 11.4, 13.1, 14.8, 16.5, 18.2, 19.9, 21.6, 23.3, 25. ]),\n",
       " <a list of 10 Patch objects>)"
      ]
     },
     "execution_count": 11,
     "metadata": {},
     "output_type": "execute_result"
    },
    {
     "data": {
      "image/png": "[encoded data removed]",
      "text/plain": [
       "<Figure size 432x288 with 1 Axes>"
      ]
     },
     "metadata": {},
     "output_type": "display_data"
    }
   ],
   "source": [
    "timeto60 = features_to_be_included_4_kmeans[5]\n",
    "matplotlib.pyplot.hist(kmeans_data[timeto60])"
   ]
  },
  {
   "cell_type": "code",
   "execution_count": 39,
   "metadata": {},
   "outputs": [
    {
     "name": "stdout",
     "output_type": "stream",
     "text": [
      "Number of Clusters = 1: The Silhouette Coefficient is 0\n",
      " Number of Clusters = 1: Score from Kmeans fit -217921570.79685867\n",
      "Number of Clusters = 2: The Silhouette Coefficient is 0.6192878770684911\n",
      " Number of Clusters = 2: Score from Kmeans fit -65171724.77474168\n",
      "Number of Clusters = 3: The Silhouette Coefficient is 0.5599004358643473\n",
      " Number of Clusters = 3: Score from Kmeans fit -36715403.722278245\n",
      "Number of Clusters = 4: The Silhouette Coefficient is 0.5659566141736562\n",
      " Number of Clusters = 4: Score from Kmeans fit -23634577.710977018\n",
      "Number of Clusters = 5: The Silhouette Coefficient is 0.5875972257896802\n",
      " Number of Clusters = 5: Score from Kmeans fit -12360789.47238845\n",
      "Number of Clusters = 6: The Silhouette Coefficient is 0.5570471331058945\n",
      " Number of Clusters = 6: Score from Kmeans fit -9007521.497233273\n",
      "Number of Clusters = 7: The Silhouette Coefficient is 0.5412282296418959\n",
      " Number of Clusters = 7: Score from Kmeans fit -6675417.146012971\n",
      "Number of Clusters = 8: The Silhouette Coefficient is 0.5321437452874622\n",
      " Number of Clusters = 8: Score from Kmeans fit -4962130.633090946\n",
      "Number of Clusters = 9: The Silhouette Coefficient is 0.5365581620574735\n",
      " Number of Clusters = 9: Score from Kmeans fit -3758449.451662349\n",
      "Number of Clusters = 10: The Silhouette Coefficient is 0.5236690031894524\n",
      " Number of Clusters = 10: Score from Kmeans fit -3190063.338935361\n"
     ]
    }
   ],
   "source": [
    "## finding optimal number of clusters using Silhouttee coefficients and kmeans scores\n",
    "silhoutte_coefficients = []\n",
    "kmeans_scores = []\n",
    "X = []\n",
    "for i in range(1,11):\n",
    "    model = KMeans( init='k-means++',n_clusters=i)\n",
    "    data = kmeans_data[features_to_be_included_4_kmeans]\n",
    "    kmeans = model.fit(data)\n",
    "    label = kmeans.labels_\n",
    "    if (i > 1):\n",
    "        sil_coeff = silhouette_score(data, label, metric='euclidean')\n",
    "    else:\n",
    "        sil_coeff = 0\n",
    "    score_from_kmeans_fit = kmeans.score(data)\n",
    "    kmeans_scores.append(score_from_kmeans_fit)\n",
    "    silhoutte_coefficients.append(sil_coeff)\n",
    "    X.append(i)\n",
    "    \n",
    "    print(\"Number of Clusters = {}: The Silhouette Coefficient is {}\\n Number of Clusters = {}: Score from Kmeans fit {}\".format(i, sil_coeff,i, score_from_kmeans_fit))"
   ]
  },
  {
   "cell_type": "code",
   "execution_count": 13,
   "metadata": {},
   "outputs": [
    {
     "name": "stdout",
     "output_type": "stream",
     "text": [
      "-65171724.77474168\n",
      "Number of Clusters = 2, The Silhouette Coefficient is 0.6192878770684911\n"
     ]
    }
   ],
   "source": [
    "finalized_cluster_count = 2\n",
    "model = KMeans( init='k-means++',n_clusters=finalized_cluster_count)\n",
    "data = kmeans_data[features_to_be_included_4_kmeans]\n",
    "kmeans = model.fit(data)\n",
    "label = kmeans.labels_\n",
    "sil_coeff = silhouette_score(data, label, metric='euclidean')\n",
    "Score = kmeans.score(data)\n",
    "print (Score)\n",
    "print(\"Number of Clusters = {}, The Silhouette Coefficient is {}\".format(finalized_cluster_count, sil_coeff))"
   ]
  },
  {
   "cell_type": "code",
   "execution_count": 14,
   "metadata": {},
   "outputs": [
    {
     "name": "stdout",
     "output_type": "stream",
     "text": [
      "-65171724.77474168\n",
      "Number of Clusters = 2, The Silhouette Coefficient is 0.6192878770684911\n"
     ]
    }
   ],
   "source": [
    "finalized_cluster_count = 2\n",
    "model = KMeans(n_clusters=finalized_cluster_count)\n",
    "data = kmeans_data[features_to_be_included_4_kmeans]\n",
    "kmeans = model.fit(data)\n",
    "label = kmeans.labels_\n",
    "sil_coeff = silhouette_score(data, label, metric='euclidean')\n",
    "Score = kmeans.score(data)\n",
    "print (Score)\n",
    "print(\"Number of Clusters = {}, The Silhouette Coefficient is {}\".format(finalized_cluster_count, sil_coeff))"
   ]
  },
  {
   "cell_type": "code",
   "execution_count": 15,
   "metadata": {},
   "outputs": [
    {
     "data": {
      "text/plain": [
       "[-217921570.79685867,\n",
       " -65171724.77474168,\n",
       " -36715403.722278245,\n",
       " -23310549.30053338,\n",
       " -12365589.202925976,\n",
       " -9007521.497233273,\n",
       " -6678743.06314318,\n",
       " -4964646.97478652,\n",
       " -3744918.693979968,\n",
       " -3147485.223658644]"
      ]
     },
     "execution_count": 15,
     "metadata": {},
     "output_type": "execute_result"
    }
   ],
   "source": [
    "kmeans_scores"
   ]
  },
  {
   "cell_type": "code",
   "execution_count": 16,
   "metadata": {},
   "outputs": [
    {
     "data": {
      "image/png": "[encoded data removed]",
      "text/plain": [
       "<Figure size 432x288 with 1 Axes>"
      ]
     },
     "metadata": {},
     "output_type": "display_data"
    }
   ],
   "source": [
    "### Elbow method for plotting parameter K vs k-means score to compute optimal K value\n",
    "L = matplotlib.pyplot.plot( X, kmeans_scores, linewidth=5)\n",
    "## Elbow method shows there that k-means-score flatten at K = 5"
   ]
  },
  {
   "cell_type": "code",
   "execution_count": 17,
   "metadata": {},
   "outputs": [
    {
     "data": {
      "image/png": "[encoded data removed]",
      "text/plain": [
       "<Figure size 432x288 with 1 Axes>"
      ]
     },
     "metadata": {},
     "output_type": "display_data"
    }
   ],
   "source": [
    "### plotting parameter K vs silhoutte score to compute optimal K value\n",
    "SHS = matplotlib.pyplot.plot( X, silhoutte_coefficients, linewidth=5)\n",
    "## Silhoutte scores range between -1 to 1. \n",
    "# Silhoutte scores promote cluster density and more distance between clusters.\n",
    "## There are two silhoutte peaks at K=2 and K =5"
   ]
  },
  {
   "cell_type": "code",
   "execution_count": 18,
   "metadata": {},
   "outputs": [],
   "source": [
    "# Although silhoutte has 2 peaks, \n",
    "#Based on silhoutte method and elbow method, we can choose K = 5 as optimal number of clusters"
   ]
  },
  {
   "cell_type": "code",
   "execution_count": 40,
   "metadata": {},
   "outputs": [],
   "source": [
    "model = KMeans(n_clusters=5)\n",
    "test_features= ['mpg','weightlbs']\n",
    "features_to_be_included_4_kmeans= test_features;\n",
    "data = kmeans_data[features_to_be_included_4_kmeans]\n",
    "kmeans = model.fit(data)\n"
   ]
  },
  {
   "cell_type": "code",
   "execution_count": 41,
   "metadata": {},
   "outputs": [
    {
     "data": {
      "text/plain": [
       "Counter({0: 46, 1: 84, 2: 55, 3: 3, 4: 73})"
      ]
     },
     "execution_count": 41,
     "metadata": {},
     "output_type": "execute_result"
    }
   ],
   "source": [
    "predict_label_per_point = model.predict(data)\n",
    "import collections\n",
    "collections.Counter(predict_label_per_point)"
   ]
  },
  {
   "cell_type": "code",
   "execution_count": 43,
   "metadata": {},
   "outputs": [
    {
     "data": {
      "image/png": "[encoded data removed]",
      "text/plain": [
       "<Figure size 432x288 with 1 Axes>"
      ]
     },
     "metadata": {},
     "output_type": "display_data"
    }
   ],
   "source": [
    "#mpg vs weight\n",
    "color_map=['red', 'green', 'blue', 'orange', 'magenta']\n",
    "import matplotlib.pyplot as plt\n",
    "plt.scatter(data.iloc[:, 0], data.iloc[:, 1], c=predict_label_per_point, s=20, cmap=colors.ListedColormap(color_map))\n",
    "plt.show()"
   ]
  },
  {
   "cell_type": "code",
   "execution_count": 62,
   "metadata": {},
   "outputs": [
    {
     "data": {
      "image/png": "[encoded data removed]",
      "text/plain": [
       "<Figure size 432x288 with 1 Axes>"
      ]
     },
     "metadata": {},
     "output_type": "display_data"
    }
   ],
   "source": [
    "# There are 5 clusters, Counter({0: 46, 1: 72, 2: 56, 3: 84, 4: 3})\n",
    "#0 = red (46 points)\n",
    "#1 = blue 72 points\n",
    "#2 = green (56 points)\n",
    "#3 = orange (84 points)\n",
    "#4 = magenta (3 points)\n",
    "#mpg vs weight\n",
    "color_map=['red', 'lightgreen', 'lightblue', 'magenta', 'orange']\n",
    "import matplotlib.pyplot as plt\n",
    "plt.scatter(data.iloc[:, 0], data.iloc[:, 1], c=predict_label_per_point, cmap=colors.ListedColormap(color_map))\n",
    "centers = model.cluster_centers_\n",
    "plt.scatter(centers[:, 0], centers[:, 1], c='black', marker='*', s=200);\n",
    "plt.show()"
   ]
  },
  {
   "cell_type": "code",
   "execution_count": null,
   "metadata": {},
   "outputs": [],
   "source": []
  }
 ],
 "metadata": {
  "kernelspec": {
   "display_name": "Python 3",
   "language": "python",
   "name": "python3"
  },
  "language_info": {
   "codemirror_mode": {
    "name": "ipython",
    "version": 3
   },
   "file_extension": ".py",
   "mimetype": "text/x-python",
   "name": "python",
   "nbconvert_exporter": "python",
   "pygments_lexer": "ipython3",
   "version": "3.6.0"
  }
 },
 "nbformat": 4,
 "nbformat_minor": 2
}
