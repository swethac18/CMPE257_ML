{
 "cells": [
  {
   "cell_type": "code",
   "execution_count": 116,
   "metadata": {},
   "outputs": [],
   "source": [
    "from sklearn.cluster import KMeans\n",
    "import matplotlib.pyplot as plt\n",
    "from sklearn.metrics import silhouette_score\n",
    "from matplotlib import colors\n",
    "import matplotlib\n",
    "import pylab as pl\n",
    "import pandas as pd\n",
    "%matplotlib inline"
   ]
  },
  {
   "cell_type": "code",
   "execution_count": 117,
   "metadata": {},
   "outputs": [],
   "source": [
    "data = pd.read_csv('cars.csv')\n",
    "kmeans_data = data.fillna(0)\n",
    "kmeans_data.brand = pd.Categorical(kmeans_data.brand)\n",
    "kmeans_data['brand_categorical_variable'] = kmeans_data.brand.cat.codes\n"
   ]
  },
  {
   "cell_type": "code",
   "execution_count": 118,
   "metadata": {},
   "outputs": [
    {
     "data": {
      "text/html": [
       "<div>\n",
       "<style scoped>\n",
       "    .dataframe tbody tr th:only-of-type {\n",
       "        vertical-align: middle;\n",
       "    }\n",
       "\n",
       "    .dataframe tbody tr th {\n",
       "        vertical-align: top;\n",
       "    }\n",
       "\n",
       "    .dataframe thead th {\n",
       "        text-align: right;\n",
       "    }\n",
       "</style>\n",
       "<table border=\"1\" class=\"dataframe\">\n",
       "  <thead>\n",
       "    <tr style=\"text-align: right;\">\n",
       "      <th></th>\n",
       "      <th>mpg</th>\n",
       "      <th>cylinders</th>\n",
       "      <th>cubicinches</th>\n",
       "      <th>hp</th>\n",
       "      <th>weightlbs</th>\n",
       "      <th>time-to-60</th>\n",
       "      <th>year</th>\n",
       "      <th>brand</th>\n",
       "      <th>brand_categorical_variable</th>\n",
       "    </tr>\n",
       "  </thead>\n",
       "  <tbody>\n",
       "    <tr>\n",
       "      <th>0</th>\n",
       "      <td>14.0</td>\n",
       "      <td>8</td>\n",
       "      <td>350.0</td>\n",
       "      <td>165</td>\n",
       "      <td>4209.0</td>\n",
       "      <td>12</td>\n",
       "      <td>1972</td>\n",
       "      <td>US.</td>\n",
       "      <td>2</td>\n",
       "    </tr>\n",
       "  </tbody>\n",
       "</table>\n",
       "</div>"
      ],
      "text/plain": [
       "    mpg  cylinders  cubicinches   hp  weightlbs  time-to-60  year brand  \\\n",
       "0  14.0          8        350.0  165     4209.0          12  1972   US.   \n",
       "\n",
       "   brand_categorical_variable  \n",
       "0                           2  "
      ]
     },
     "execution_count": 118,
     "metadata": {},
     "output_type": "execute_result"
    }
   ],
   "source": [
    "kmeans_data[:1]"
   ]
  },
  {
   "cell_type": "code",
   "execution_count": 119,
   "metadata": {},
   "outputs": [],
   "source": [
    "features_to_be_included_4_kmeans = ['mpg', 'cylinders', 'cubicinches', 'hp', 'weightlbs', 'time-to-60'] #'year' # 'brand_categorical_variable' ]"
   ]
  },
  {
   "cell_type": "code",
   "execution_count": 120,
   "metadata": {},
   "outputs": [
    {
     "data": {
      "text/plain": [
       "['hp', 'time-to-60', 'brand_code', 'cubicinches']"
      ]
     },
     "execution_count": 120,
     "metadata": {},
     "output_type": "execute_result"
    }
   ],
   "source": [
    "len(features_to_be_included_4_kmeans)\n",
    "columns = ['hp', 'time-to-60', 'brand_code', 'cubicinches']\n",
    "columns"
   ]
  },
  {
   "cell_type": "code",
   "execution_count": 121,
   "metadata": {},
   "outputs": [],
   "source": [
    "columns = ['hp', 'time-to-60', 'mpg', 'cubicinches', 'cylinders', 'weightlbs']"
   ]
  },
  {
   "cell_type": "code",
   "execution_count": 122,
   "metadata": {
    "scrolled": true
   },
   "outputs": [
    {
     "data": {
      "text/plain": [
       "(array([20., 51., 47., 40., 36., 26., 22., 12.,  2.,  5.]),\n",
       " array([10.  , 13.66, 17.32, 20.98, 24.64, 28.3 , 31.96, 35.62, 39.28,\n",
       "        42.94, 46.6 ]),\n",
       " <a list of 10 Patch objects>)"
      ]
     },
     "execution_count": 122,
     "metadata": {},
     "output_type": "execute_result"
    },
    {
     "data": {
      "image/png": "[encoded data removed]",
      "text/plain": [
       "<Figure size 432x288 with 1 Axes>"
      ]
     },
     "metadata": {},
     "output_type": "display_data"
    }
   ],
   "source": [
    "horsepower = features_to_be_included_4_kmeans[0]\n",
    "matplotlib.pyplot.hist(kmeans_data[horsepower])"
   ]
  },
  {
   "cell_type": "code",
   "execution_count": 123,
   "metadata": {},
   "outputs": [
    {
     "data": {
      "text/plain": [
       "(array([  2.,   0., 125.,   0.,   3.,   0.,  55.,   0.,   0.,  76.]),\n",
       " array([3. , 3.5, 4. , 4.5, 5. , 5.5, 6. , 6.5, 7. , 7.5, 8. ]),\n",
       " <a list of 10 Patch objects>)"
      ]
     },
     "execution_count": 123,
     "metadata": {},
     "output_type": "execute_result"
    },
    {
     "data": {
      "image/png": "[encoded data removed]",
      "text/plain": [
       "<Figure size 432x288 with 1 Axes>"
      ]
     },
     "metadata": {},
     "output_type": "display_data"
    }
   ],
   "source": [
    "timeto60 = features_to_be_included_4_kmeans[1]\n",
    "matplotlib.pyplot.hist(kmeans_data[timeto60])"
   ]
  },
  {
   "cell_type": "code",
   "execution_count": 124,
   "metadata": {},
   "outputs": [
    {
     "data": {
      "text/plain": [
       "(array([ 2., 29., 84., 27., 18., 28., 30., 23., 12.,  8.]),\n",
       " array([  0. ,  45.5,  91. , 136.5, 182. , 227.5, 273. , 318.5, 364. ,\n",
       "        409.5, 455. ]),\n",
       " <a list of 10 Patch objects>)"
      ]
     },
     "execution_count": 124,
     "metadata": {},
     "output_type": "execute_result"
    },
    {
     "data": {
      "image/png": "[encoded data removed]",
      "text/plain": [
       "<Figure size 432x288 with 1 Axes>"
      ]
     },
     "metadata": {},
     "output_type": "display_data"
    }
   ],
   "source": [
    "mpg = features_to_be_included_4_kmeans[2]\n",
    "matplotlib.pyplot.hist(kmeans_data[mpg])"
   ]
  },
  {
   "cell_type": "code",
   "execution_count": 125,
   "metadata": {},
   "outputs": [
    {
     "data": {
      "text/plain": [
       "(array([20., 51., 47., 40., 36., 26., 22., 12.,  2.,  5.]),\n",
       " array([10.  , 13.66, 17.32, 20.98, 24.64, 28.3 , 31.96, 35.62, 39.28,\n",
       "        42.94, 46.6 ]),\n",
       " <a list of 10 Patch objects>)"
      ]
     },
     "execution_count": 125,
     "metadata": {},
     "output_type": "execute_result"
    },
    {
     "data": {
      "image/png": "[encoded data removed]",
      "text/plain": [
       "<Figure size 432x288 with 1 Axes>"
      ]
     },
     "metadata": {},
     "output_type": "display_data"
    }
   ],
   "source": [
    "cubicinches = features_to_be_included_4_kmeans[3]\n",
    "matplotlib.pyplot.hist(kmeans_data[horsepower])"
   ]
  },
  {
   "cell_type": "code",
   "execution_count": 126,
   "metadata": {},
   "outputs": [
    {
     "data": {
      "text/plain": [
       "(array([ 3.,  0.,  0., 27., 59., 56., 39., 32., 33., 12.]),\n",
       " array([   0. ,  499.7,  999.4, 1499.1, 1998.8, 2498.5, 2998.2, 3497.9,\n",
       "        3997.6, 4497.3, 4997. ]),\n",
       " <a list of 10 Patch objects>)"
      ]
     },
     "execution_count": 126,
     "metadata": {},
     "output_type": "execute_result"
    },
    {
     "data": {
      "image/png": "[encoded data removed]",
      "text/plain": [
       "<Figure size 432x288 with 1 Axes>"
      ]
     },
     "metadata": {},
     "output_type": "display_data"
    }
   ],
   "source": [
    "cylinders = features_to_be_included_4_kmeans[4]\n",
    "matplotlib.pyplot.hist(kmeans_data[cylinders])"
   ]
  },
  {
   "cell_type": "code",
   "execution_count": 127,
   "metadata": {},
   "outputs": [
    {
     "name": "stdout",
     "output_type": "stream",
     "text": [
      "Number of Clusters = 1, The Silhouette Coefficient is 0 Score from Kmeans fit -217921570.79685867\n",
      "Number of Clusters = 2, The Silhouette Coefficient is 0.6192878770684911 Score from Kmeans fit -65171724.77474168\n",
      "Number of Clusters = 3, The Silhouette Coefficient is 0.5599004358643473 Score from Kmeans fit -36715403.722278245\n",
      "Number of Clusters = 4, The Silhouette Coefficient is 0.575720135768714 Score from Kmeans fit -23310549.30053338\n",
      "Number of Clusters = 5, The Silhouette Coefficient is 0.587422153263827 Score from Kmeans fit -12365589.202925976\n",
      "Number of Clusters = 6, The Silhouette Coefficient is 0.5591735975359502 Score from Kmeans fit -9019813.78624001\n",
      "Number of Clusters = 7, The Silhouette Coefficient is 0.5417180680508369 Score from Kmeans fit -6675666.216675397\n",
      "Number of Clusters = 8, The Silhouette Coefficient is 0.5334878476616736 Score from Kmeans fit -4965149.029542278\n",
      "Number of Clusters = 9, The Silhouette Coefficient is 0.5354758404065102 Score from Kmeans fit -3745252.6080260742\n",
      "Number of Clusters = 10, The Silhouette Coefficient is 0.5316586106941155 Score from Kmeans fit -3163154.2967911796\n"
     ]
    }
   ],
   "source": [
    "## finding optimal number of clusters using Silhouttee coefficients and kmeans scores\n",
    "silhoutte_coefficients = []\n",
    "kmeans_scores = []\n",
    "X = []\n",
    "for i in range(1,11):\n",
    "    model = KMeans( init='k-means++',n_clusters=i)\n",
    "    data = kmeans_data[features_to_be_included_4_kmeans]\n",
    "    kmeans = model.fit(data)\n",
    "    label = kmeans.labels_\n",
    "    if (i > 1):\n",
    "        sil_coeff = silhouette_score(data, label, metric='euclidean')\n",
    "    else:\n",
    "        sil_coeff = 0\n",
    "    score_from_kmeans_fit = kmeans.score(data)\n",
    "    kmeans_scores.append(score_from_kmeans_fit)\n",
    "    silhoutte_coefficients.append(sil_coeff)\n",
    "    X.append(i)\n",
    "    \n",
    "    print(\"Number of Clusters = {}, The Silhouette Coefficient is {} Score from Kmeans fit {}\".format(i, sil_coeff, score_from_kmeans_fit))"
   ]
  },
  {
   "cell_type": "code",
   "execution_count": 128,
   "metadata": {},
   "outputs": [
    {
     "name": "stdout",
     "output_type": "stream",
     "text": [
      "-65171724.77474168\n",
      "Number of Clusters = 2, The Silhouette Coefficient is 0.6192878770684911\n"
     ]
    }
   ],
   "source": [
    "finalized_cluster_count = 2\n",
    "model = KMeans( init='k-means++',n_clusters=finalized_cluster_count)\n",
    "data = kmeans_data[features_to_be_included_4_kmeans]\n",
    "kmeans = model.fit(data)\n",
    "label = kmeans.labels_\n",
    "sil_coeff = silhouette_score(data, label, metric='euclidean')\n",
    "Score = kmeans.score(data)\n",
    "print (Score)\n",
    "print(\"Number of Clusters = {}, The Silhouette Coefficient is {}\".format(finalized_cluster_count, sil_coeff))"
   ]
  },
  {
   "cell_type": "code",
   "execution_count": 129,
   "metadata": {},
   "outputs": [
    {
     "name": "stdout",
     "output_type": "stream",
     "text": [
      "-65171724.77474168\n",
      "Number of Clusters = 2, The Silhouette Coefficient is 0.6192878770684911\n"
     ]
    }
   ],
   "source": [
    "finalized_cluster_count = 2\n",
    "model = KMeans(n_clusters=finalized_cluster_count)\n",
    "data = kmeans_data[features_to_be_included_4_kmeans]\n",
    "kmeans = model.fit(data)\n",
    "label = kmeans.labels_\n",
    "sil_coeff = silhouette_score(data, label, metric='euclidean')\n",
    "Score = kmeans.score(data)\n",
    "print (Score)\n",
    "print(\"Number of Clusters = {}, The Silhouette Coefficient is {}\".format(finalized_cluster_count, sil_coeff))"
   ]
  },
  {
   "cell_type": "code",
   "execution_count": 130,
   "metadata": {},
   "outputs": [
    {
     "data": {
      "text/plain": [
       "[-217921570.79685867,\n",
       " -65171724.77474168,\n",
       " -36715403.722278245,\n",
       " -23310549.30053338,\n",
       " -12365589.202925976,\n",
       " -9019813.78624001,\n",
       " -6675666.216675397,\n",
       " -4965149.029542278,\n",
       " -3745252.6080260742,\n",
       " -3163154.2967911796]"
      ]
     },
     "execution_count": 130,
     "metadata": {},
     "output_type": "execute_result"
    }
   ],
   "source": [
    "kmeans_scores"
   ]
  },
  {
   "cell_type": "code",
   "execution_count": 131,
   "metadata": {},
   "outputs": [
    {
     "data": {
      "image/png": "[encoded data removed]",
      "text/plain": [
       "<Figure size 432x288 with 1 Axes>"
      ]
     },
     "metadata": {},
     "output_type": "display_data"
    }
   ],
   "source": [
    "### Elbow method for plotting parameter K vs k-means score to compute optimal K value\n",
    "L = matplotlib.pyplot.plot( X, kmeans_scores, linewidth=5)\n",
    "## Elbow method shows there that k-means-score flatten at K = 5"
   ]
  },
  {
   "cell_type": "code",
   "execution_count": 134,
   "metadata": {},
   "outputs": [
    {
     "data": {
      "image/png": "[encoded data removed]",
      "text/plain": [
       "<Figure size 432x288 with 1 Axes>"
      ]
     },
     "metadata": {},
     "output_type": "display_data"
    }
   ],
   "source": [
    "### plotting parameter K vs silhoutte score to compute optimal K value\n",
    "SHS = matplotlib.pyplot.plot( X, silhoutte_coefficients, linewidth=5)\n",
    "## Silhoutte scores range between -1 to 1. \n",
    "# Silhoutte scores promote cluster density and more distance between clusters.\n",
    "## There are two silhoutte peaks at K=2 and K =5"
   ]
  },
  {
   "cell_type": "code",
   "execution_count": 135,
   "metadata": {},
   "outputs": [],
   "source": [
    "# Although silhoutte has 2 peaks, \n",
    "#Based on silhoutte method and elbow method, we can choose K = 5 as optimal number of clusters"
   ]
  }
 ],
 "metadata": {
  "kernelspec": {
   "display_name": "Python 3",
   "language": "python",
   "name": "python3"
  },
  "language_info": {
   "codemirror_mode": {
    "name": "ipython",
    "version": 3
   },
   "file_extension": ".py",
   "mimetype": "text/x-python",
   "name": "python",
   "nbconvert_exporter": "python",
   "pygments_lexer": "ipython3",
   "version": "3.6.0"
  }
 },
 "nbformat": 4,
 "nbformat_minor": 2
}
